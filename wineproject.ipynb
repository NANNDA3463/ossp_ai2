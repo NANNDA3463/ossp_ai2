{
 "cells": [
  {
   "cell_type": "code",
   "execution_count": 1,
   "id": "abdfd250",
   "metadata": {
    "_cell_guid": "b1076dfc-b9ad-4769-8c92-a6c4dae69d19",
    "_uuid": "8f2839f25d086af736a60e9eeb907d3b93b6e0e5",
    "execution": {
     "iopub.execute_input": "2023-01-17T17:01:00.504853Z",
     "iopub.status.busy": "2023-01-17T17:01:00.504179Z",
     "iopub.status.idle": "2023-01-17T17:01:02.255455Z",
     "shell.execute_reply": "2023-01-17T17:01:02.253042Z"
    },
    "papermill": {
     "duration": 1.7672,
     "end_time": "2023-01-17T17:01:02.260441",
     "exception": false,
     "start_time": "2023-01-17T17:01:00.493241",
     "status": "completed"
    },
    "tags": []
   },
   "outputs": [
    {
     "name": "stdout",
     "output_type": "stream",
     "text": [
      "/kaggle/input/red-wine-quality-cortez-et-al-2009/winequality-red.csv\n"
     ]
    },
    {
     "data": {
      "text/html": [
       "<div>\n",
       "<style scoped>\n",
       "    .dataframe tbody tr th:only-of-type {\n",
       "        vertical-align: middle;\n",
       "    }\n",
       "\n",
       "    .dataframe tbody tr th {\n",
       "        vertical-align: top;\n",
       "    }\n",
       "\n",
       "    .dataframe thead th {\n",
       "        text-align: right;\n",
       "    }\n",
       "</style>\n",
       "<table border=\"1\" class=\"dataframe\">\n",
       "  <thead>\n",
       "    <tr style=\"text-align: right;\">\n",
       "      <th></th>\n",
       "      <th>fixed acidity</th>\n",
       "      <th>volatile acidity</th>\n",
       "      <th>citric acid</th>\n",
       "      <th>residual sugar</th>\n",
       "      <th>chlorides</th>\n",
       "      <th>free sulfur dioxide</th>\n",
       "      <th>total sulfur dioxide</th>\n",
       "      <th>density</th>\n",
       "      <th>pH</th>\n",
       "      <th>sulphates</th>\n",
       "      <th>alcohol</th>\n",
       "      <th>quality</th>\n",
       "    </tr>\n",
       "  </thead>\n",
       "  <tbody>\n",
       "    <tr>\n",
       "      <th>0</th>\n",
       "      <td>7.4</td>\n",
       "      <td>0.70</td>\n",
       "      <td>0.00</td>\n",
       "      <td>1.9</td>\n",
       "      <td>0.076</td>\n",
       "      <td>11.0</td>\n",
       "      <td>34.0</td>\n",
       "      <td>0.9978</td>\n",
       "      <td>3.51</td>\n",
       "      <td>0.56</td>\n",
       "      <td>9.4</td>\n",
       "      <td>5</td>\n",
       "    </tr>\n",
       "    <tr>\n",
       "      <th>1</th>\n",
       "      <td>7.8</td>\n",
       "      <td>0.88</td>\n",
       "      <td>0.00</td>\n",
       "      <td>2.6</td>\n",
       "      <td>0.098</td>\n",
       "      <td>25.0</td>\n",
       "      <td>67.0</td>\n",
       "      <td>0.9968</td>\n",
       "      <td>3.20</td>\n",
       "      <td>0.68</td>\n",
       "      <td>9.8</td>\n",
       "      <td>5</td>\n",
       "    </tr>\n",
       "    <tr>\n",
       "      <th>2</th>\n",
       "      <td>7.8</td>\n",
       "      <td>0.76</td>\n",
       "      <td>0.04</td>\n",
       "      <td>2.3</td>\n",
       "      <td>0.092</td>\n",
       "      <td>15.0</td>\n",
       "      <td>54.0</td>\n",
       "      <td>0.9970</td>\n",
       "      <td>3.26</td>\n",
       "      <td>0.65</td>\n",
       "      <td>9.8</td>\n",
       "      <td>5</td>\n",
       "    </tr>\n",
       "    <tr>\n",
       "      <th>3</th>\n",
       "      <td>11.2</td>\n",
       "      <td>0.28</td>\n",
       "      <td>0.56</td>\n",
       "      <td>1.9</td>\n",
       "      <td>0.075</td>\n",
       "      <td>17.0</td>\n",
       "      <td>60.0</td>\n",
       "      <td>0.9980</td>\n",
       "      <td>3.16</td>\n",
       "      <td>0.58</td>\n",
       "      <td>9.8</td>\n",
       "      <td>6</td>\n",
       "    </tr>\n",
       "    <tr>\n",
       "      <th>4</th>\n",
       "      <td>7.4</td>\n",
       "      <td>0.70</td>\n",
       "      <td>0.00</td>\n",
       "      <td>1.9</td>\n",
       "      <td>0.076</td>\n",
       "      <td>11.0</td>\n",
       "      <td>34.0</td>\n",
       "      <td>0.9978</td>\n",
       "      <td>3.51</td>\n",
       "      <td>0.56</td>\n",
       "      <td>9.4</td>\n",
       "      <td>5</td>\n",
       "    </tr>\n",
       "  </tbody>\n",
       "</table>\n",
       "</div>"
      ],
      "text/plain": [
       "   fixed acidity  volatile acidity  citric acid  residual sugar  chlorides  \\\n",
       "0            7.4              0.70         0.00             1.9      0.076   \n",
       "1            7.8              0.88         0.00             2.6      0.098   \n",
       "2            7.8              0.76         0.04             2.3      0.092   \n",
       "3           11.2              0.28         0.56             1.9      0.075   \n",
       "4            7.4              0.70         0.00             1.9      0.076   \n",
       "\n",
       "   free sulfur dioxide  total sulfur dioxide  density    pH  sulphates  \\\n",
       "0                 11.0                  34.0   0.9978  3.51       0.56   \n",
       "1                 25.0                  67.0   0.9968  3.20       0.68   \n",
       "2                 15.0                  54.0   0.9970  3.26       0.65   \n",
       "3                 17.0                  60.0   0.9980  3.16       0.58   \n",
       "4                 11.0                  34.0   0.9978  3.51       0.56   \n",
       "\n",
       "   alcohol  quality  \n",
       "0      9.4        5  \n",
       "1      9.8        5  \n",
       "2      9.8        5  \n",
       "3      9.8        6  \n",
       "4      9.4        5  "
      ]
     },
     "execution_count": 1,
     "metadata": {},
     "output_type": "execute_result"
    }
   ],
   "source": [
    "#기본 패키지\n",
    "import numpy as np\n",
    "import pandas as pd\n",
    "import matplotlib.pyplot as plt\n",
    "import seaborn as sns\n",
    " \n",
    "#전처리, 모델링 패키지\n",
    "from sklearn.preprocessing import StandardScaler, LabelEncoder\n",
    "from sklearn.model_selection import train_test_split\n",
    "from sklearn.linear_model import LinearRegression\n",
    "from sklearn.model_selection import train_test_split\n",
    "from sklearn.ensemble import RandomForestClassifier\n",
    "from sklearn.linear_model import LogisticRegression\n",
    "from sklearn.svm import SVC\n",
    "from sklearn import tree\n",
    "from sklearn.ensemble import RandomForestClassifier\n",
    "from sklearn.neighbors import KNeighborsClassifier\n",
    "from sklearn.naive_bayes import GaussianNB\n",
    " \n",
    "#모델 평가 패키지\n",
    "from sklearn.metrics import classification_report\n",
    "from sklearn import metrics\n",
    "from sklearn.metrics import accuracy_score\n",
    "\n",
    "import os\n",
    "for dirname, _, filenames in os.walk('/kaggle/input'):\n",
    "    for filename in filenames:\n",
    "        print(os.path.join(dirname, filename))\n",
    "        \n",
    "    \n",
    "red_wine_quality = pd.read_csv(\"/kaggle/input/red-wine-quality-cortez-et-al-2009/winequality-red.csv\")\n",
    "red_wine_quality.head(5)"
   ]
  },
  {
   "cell_type": "code",
   "execution_count": 2,
   "id": "4f1988b9",
   "metadata": {
    "execution": {
     "iopub.execute_input": "2023-01-17T17:01:02.281335Z",
     "iopub.status.busy": "2023-01-17T17:01:02.280163Z",
     "iopub.status.idle": "2023-01-17T17:01:02.295463Z",
     "shell.execute_reply": "2023-01-17T17:01:02.293280Z"
    },
    "papermill": {
     "duration": 0.028547,
     "end_time": "2023-01-17T17:01:02.298775",
     "exception": false,
     "start_time": "2023-01-17T17:01:02.270228",
     "status": "completed"
    },
    "tags": []
   },
   "outputs": [
    {
     "name": "stdout",
     "output_type": "stream",
     "text": [
      "the red_wine_quality shape is: (1599, 12)\n",
      "\n",
      "   fixed acidity  volatile acidity  citric acid  residual sugar  chlorides  \\\n",
      "0            7.4              0.70         0.00             1.9      0.076   \n",
      "1            7.8              0.88         0.00             2.6      0.098   \n",
      "2            7.8              0.76         0.04             2.3      0.092   \n",
      "3           11.2              0.28         0.56             1.9      0.075   \n",
      "4            7.4              0.70         0.00             1.9      0.076   \n",
      "\n",
      "   free sulfur dioxide  total sulfur dioxide  density    pH  sulphates  \\\n",
      "0                 11.0                  34.0   0.9978  3.51       0.56   \n",
      "1                 25.0                  67.0   0.9968  3.20       0.68   \n",
      "2                 15.0                  54.0   0.9970  3.26       0.65   \n",
      "3                 17.0                  60.0   0.9980  3.16       0.58   \n",
      "4                 11.0                  34.0   0.9978  3.51       0.56   \n",
      "\n",
      "   alcohol  quality  \n",
      "0      9.4        5  \n",
      "1      9.8        5  \n",
      "2      9.8        5  \n",
      "3      9.8        6  \n",
      "4      9.4        5  \n",
      "\n",
      "Index(['fixed acidity', 'volatile acidity', 'citric acid', 'residual sugar',\n",
      "       'chlorides', 'free sulfur dioxide', 'total sulfur dioxide', 'density',\n",
      "       'pH', 'sulphates', 'alcohol', 'quality'],\n",
      "      dtype='object')\n"
     ]
    }
   ],
   "source": [
    "print(f\"the red_wine_quality shape is: {red_wine_quality.shape}\")\n",
    "print(\"\")\n",
    "print(red_wine_quality.head())\n",
    "print(\"\")\n",
    "print(red_wine_quality.columns)"
   ]
  },
  {
   "cell_type": "code",
   "execution_count": 3,
   "id": "9e0671d6",
   "metadata": {
    "execution": {
     "iopub.execute_input": "2023-01-17T17:01:02.316624Z",
     "iopub.status.busy": "2023-01-17T17:01:02.315724Z",
     "iopub.status.idle": "2023-01-17T17:01:02.327597Z",
     "shell.execute_reply": "2023-01-17T17:01:02.326015Z"
    },
    "papermill": {
     "duration": 0.024106,
     "end_time": "2023-01-17T17:01:02.330732",
     "exception": false,
     "start_time": "2023-01-17T17:01:02.306626",
     "status": "completed"
    },
    "tags": []
   },
   "outputs": [
    {
     "name": "stdout",
     "output_type": "stream",
     "text": [
      "The x variable is: [3.51 3.2  3.26 ... 3.42 3.57 3.39]\n",
      "\n",
      "The y variable is: [5 5 5 ... 6 5 6]\n",
      "\n",
      "The shape of x is: (1599,)\n",
      "The shape of y is: (1599,)\n"
     ]
    }
   ],
   "source": [
    "x = red_wine_quality[\"pH\"].values\n",
    "y = red_wine_quality[\"quality\"].values\n",
    "\n",
    "print(\"The x variable is:\", x)\n",
    "print(\"\")\n",
    "print(\"The y variable is:\", y)\n",
    "print(\"\")\n",
    "print(\"The shape of x is:\", x.shape)\n",
    "print(\"The shape of y is:\", y.shape)"
   ]
  },
  {
   "cell_type": "code",
   "execution_count": 4,
   "id": "748f5e14",
   "metadata": {
    "execution": {
     "iopub.execute_input": "2023-01-17T17:01:02.350202Z",
     "iopub.status.busy": "2023-01-17T17:01:02.347558Z",
     "iopub.status.idle": "2023-01-17T17:01:02.357318Z",
     "shell.execute_reply": "2023-01-17T17:01:02.355982Z"
    },
    "papermill": {
     "duration": 0.02248,
     "end_time": "2023-01-17T17:01:02.361013",
     "exception": false,
     "start_time": "2023-01-17T17:01:02.338533",
     "status": "completed"
    },
    "tags": []
   },
   "outputs": [
    {
     "name": "stdout",
     "output_type": "stream",
     "text": [
      "<class 'numpy.ndarray'>\n",
      "[[3.51]\n",
      " [3.2 ]\n",
      " [3.26]\n",
      " ...\n",
      " [3.42]\n",
      " [3.57]\n",
      " [3.39]]\n",
      "\n",
      "the shape of x is: (1599, 1)\n"
     ]
    }
   ],
   "source": [
    "print(type(x))\n",
    "x = x.reshape(-1, 1)\n",
    "print(x)\n",
    "print(\"\")\n",
    "print(\"the shape of x is:\", x.shape)"
   ]
  },
  {
   "cell_type": "code",
   "execution_count": 5,
   "id": "bcbe30e1",
   "metadata": {
    "execution": {
     "iopub.execute_input": "2023-01-17T17:01:02.379367Z",
     "iopub.status.busy": "2023-01-17T17:01:02.378967Z",
     "iopub.status.idle": "2023-01-17T17:01:02.387651Z",
     "shell.execute_reply": "2023-01-17T17:01:02.385984Z"
    },
    "papermill": {
     "duration": 0.021524,
     "end_time": "2023-01-17T17:01:02.391096",
     "exception": false,
     "start_time": "2023-01-17T17:01:02.369572",
     "status": "completed"
    },
    "tags": []
   },
   "outputs": [
    {
     "name": "stdout",
     "output_type": "stream",
     "text": [
      "x_train shape (1119, 1)\n",
      "y_train shape (1119,)\n",
      "\n",
      "x_test shape (480, 1)\n",
      "y_test shape (480,)\n",
      "\n"
     ]
    }
   ],
   "source": [
    "x_train, x_test, y_train, y_test = train_test_split(x, y, train_size=0.7, test_size=0.3, random_state=100)\n",
    "print(f\"x_train shape {x_train.shape}\")\n",
    "print(f\"y_train shape {y_train.shape}\")\n",
    "print(\"\")\n",
    "print(f\"x_test shape {x_test.shape}\")\n",
    "print(f\"y_test shape {y_test.shape}\")\n",
    "print(\"\")"
   ]
  },
  {
   "cell_type": "code",
   "execution_count": 6,
   "id": "4d62e6a9",
   "metadata": {
    "execution": {
     "iopub.execute_input": "2023-01-17T17:01:02.410874Z",
     "iopub.status.busy": "2023-01-17T17:01:02.410431Z",
     "iopub.status.idle": "2023-01-17T17:01:02.419307Z",
     "shell.execute_reply": "2023-01-17T17:01:02.417813Z"
    },
    "papermill": {
     "duration": 0.020904,
     "end_time": "2023-01-17T17:01:02.422055",
     "exception": false,
     "start_time": "2023-01-17T17:01:02.401151",
     "status": "completed"
    },
    "tags": []
   },
   "outputs": [
    {
     "name": "stdout",
     "output_type": "stream",
     "text": [
      "4\n"
     ]
    }
   ],
   "source": [
    "print(len(train_test_split(x, y, train_size=0.8, test_size=0.2, random_state=100)))"
   ]
  },
  {
   "cell_type": "code",
   "execution_count": 7,
   "id": "b267fad0",
   "metadata": {
    "execution": {
     "iopub.execute_input": "2023-01-17T17:01:02.440568Z",
     "iopub.status.busy": "2023-01-17T17:01:02.440161Z",
     "iopub.status.idle": "2023-01-17T17:01:02.681385Z",
     "shell.execute_reply": "2023-01-17T17:01:02.679945Z"
    },
    "papermill": {
     "duration": 0.253824,
     "end_time": "2023-01-17T17:01:02.684104",
     "exception": false,
     "start_time": "2023-01-17T17:01:02.430280",
     "status": "completed"
    },
    "tags": []
   },
   "outputs": [
    {
     "data": {
      "image/png": "[encoded data removed]",
      "text/plain": [
       "<Figure size 432x288 with 1 Axes>"
      ]
     },
     "metadata": {
      "needs_background": "light"
     },
     "output_type": "display_data"
    }
   ],
   "source": [
    "plt.scatter(x_train, y_train, color='red')\n",
    "plt.xlabel(\"pH\")\n",
    "plt.ylabel(\"quality\")\n",
    "plt.show()"
   ]
  },
  {
   "cell_type": "code",
   "execution_count": 8,
   "id": "b5bbcd26",
   "metadata": {
    "execution": {
     "iopub.execute_input": "2023-01-17T17:01:02.702327Z",
     "iopub.status.busy": "2023-01-17T17:01:02.701904Z",
     "iopub.status.idle": "2023-01-17T17:01:02.725525Z",
     "shell.execute_reply": "2023-01-17T17:01:02.724153Z"
    },
    "papermill": {
     "duration": 0.035693,
     "end_time": "2023-01-17T17:01:02.728245",
     "exception": false,
     "start_time": "2023-01-17T17:01:02.692552",
     "status": "completed"
    },
    "tags": []
   },
   "outputs": [
    {
     "name": "stdout",
     "output_type": "stream",
     "text": [
      "Train 정확도 0.0033538148868147433\n",
      "Test 정확도 0.0029189144565353597\n"
     ]
    }
   ],
   "source": [
    "# Linear Regression의 클래스 인스턴스 생성\n",
    "lm = LinearRegression()\n",
    "\n",
    "# lm.fit()를 호출하고 학습 데이터 전달\n",
    "# 이러면 트레이닝 포인트에 대한 가장 적합한 라인이 생성\n",
    "lm.fit(x_train, y_train)\n",
    "\n",
    "\n",
    "# 주어진 pH에 따라 품질을 예측하는 라인이 존재함\n",
    "# .predict()를 호출하여 가장 적합한 라인을 테스트\n",
    "# y_predict로 선형 회귀에 대한 예측을 나타냄\n",
    "# lm.score() -> 결정 계수(R^2)를 반환함. 관찰된 결과가 모델에 의해 얼마나 잘 복제되는지, 모델 결과를 총 변동 비율로 측정함\n",
    "y_predict = lm.predict(x_test)\n",
    "\n",
    "print(f\"Train 정확도 {lm.score(x_train, y_train)}\")\n",
    "print(f\"Test 정확도 {lm.score(x_test, y_test)}\")"
   ]
  },
  {
   "cell_type": "code",
   "execution_count": 9,
   "id": "dedd4c77",
   "metadata": {
    "execution": {
     "iopub.execute_input": "2023-01-17T17:01:02.746593Z",
     "iopub.status.busy": "2023-01-17T17:01:02.745904Z",
     "iopub.status.idle": "2023-01-17T17:01:03.079587Z",
     "shell.execute_reply": "2023-01-17T17:01:03.077968Z"
    },
    "papermill": {
     "duration": 0.34814,
     "end_time": "2023-01-17T17:01:03.084686",
     "exception": false,
     "start_time": "2023-01-17T17:01:02.736546",
     "status": "completed"
    },
    "tags": []
   },
   "outputs": [
    {
     "data": {
      "text/plain": [
       "<function matplotlib.pyplot.plot(*args, scalex=True, scaley=True, data=None, **kwargs)>"
      ]
     },
     "execution_count": 9,
     "metadata": {},
     "output_type": "execute_result"
    },
    {
     "data": {
      "image/png": "[encoded data removed]",
      "text/plain": [
       "<Figure size 1440x864 with 1 Axes>"
      ]
     },
     "metadata": {
      "needs_background": "light"
     },
     "output_type": "display_data"
    }
   ],
   "source": [
    "plt.rcParams[\"figure.figsize\"]=[20,12]\n",
    "plt.scatter(x_train,y_train,color='orange')\n",
    "plt.plot(x_test,y_predict)\n",
    "plt.xlabel(\"pH\")\n",
    "plt.ylabel(\"quality\")\n",
    "plt.title(\"Trained model plot\")\n",
    "plt.plot"
   ]
  },
  {
   "cell_type": "markdown",
   "id": "10881b94",
   "metadata": {
    "papermill": {
     "duration": 0.010932,
     "end_time": "2023-01-17T17:01:03.107321",
     "exception": false,
     "start_time": "2023-01-17T17:01:03.096389",
     "status": "completed"
    },
    "tags": []
   },
   "source": [
    "선형회귀에 의하면, 5에서 7 사이의 품질을 가진 대부분의 와인은 3에서 3.6 사이의 ph 범위를 갖는다는 결론 도출\n"
   ]
  },
  {
   "cell_type": "code",
   "execution_count": 10,
   "id": "dac44857",
   "metadata": {
    "execution": {
     "iopub.execute_input": "2023-01-17T17:01:03.137091Z",
     "iopub.status.busy": "2023-01-17T17:01:03.136598Z",
     "iopub.status.idle": "2023-01-17T17:01:03.192891Z",
     "shell.execute_reply": "2023-01-17T17:01:03.190674Z"
    },
    "papermill": {
     "duration": 0.071924,
     "end_time": "2023-01-17T17:01:03.196263",
     "exception": false,
     "start_time": "2023-01-17T17:01:03.124339",
     "status": "completed"
    },
    "tags": []
   },
   "outputs": [
    {
     "data": {
      "text/html": [
       "<div>\n",
       "<style scoped>\n",
       "    .dataframe tbody tr th:only-of-type {\n",
       "        vertical-align: middle;\n",
       "    }\n",
       "\n",
       "    .dataframe tbody tr th {\n",
       "        vertical-align: top;\n",
       "    }\n",
       "\n",
       "    .dataframe thead th {\n",
       "        text-align: right;\n",
       "    }\n",
       "</style>\n",
       "<table border=\"1\" class=\"dataframe\">\n",
       "  <thead>\n",
       "    <tr style=\"text-align: right;\">\n",
       "      <th></th>\n",
       "      <th>fixed acidity</th>\n",
       "      <th>volatile acidity</th>\n",
       "      <th>citric acid</th>\n",
       "      <th>residual sugar</th>\n",
       "      <th>chlorides</th>\n",
       "      <th>free sulfur dioxide</th>\n",
       "      <th>total sulfur dioxide</th>\n",
       "      <th>density</th>\n",
       "      <th>pH</th>\n",
       "      <th>sulphates</th>\n",
       "      <th>alcohol</th>\n",
       "      <th>quality</th>\n",
       "    </tr>\n",
       "  </thead>\n",
       "  <tbody>\n",
       "    <tr>\n",
       "      <th>0</th>\n",
       "      <td>7.4</td>\n",
       "      <td>0.70</td>\n",
       "      <td>0.00</td>\n",
       "      <td>1.9</td>\n",
       "      <td>0.076</td>\n",
       "      <td>11.0</td>\n",
       "      <td>34.0</td>\n",
       "      <td>0.9978</td>\n",
       "      <td>3.51</td>\n",
       "      <td>0.56</td>\n",
       "      <td>9.4</td>\n",
       "      <td>5</td>\n",
       "    </tr>\n",
       "    <tr>\n",
       "      <th>1</th>\n",
       "      <td>7.8</td>\n",
       "      <td>0.88</td>\n",
       "      <td>0.00</td>\n",
       "      <td>2.6</td>\n",
       "      <td>0.098</td>\n",
       "      <td>25.0</td>\n",
       "      <td>67.0</td>\n",
       "      <td>0.9968</td>\n",
       "      <td>3.20</td>\n",
       "      <td>0.68</td>\n",
       "      <td>9.8</td>\n",
       "      <td>5</td>\n",
       "    </tr>\n",
       "    <tr>\n",
       "      <th>2</th>\n",
       "      <td>7.8</td>\n",
       "      <td>0.76</td>\n",
       "      <td>0.04</td>\n",
       "      <td>2.3</td>\n",
       "      <td>0.092</td>\n",
       "      <td>15.0</td>\n",
       "      <td>54.0</td>\n",
       "      <td>0.9970</td>\n",
       "      <td>3.26</td>\n",
       "      <td>0.65</td>\n",
       "      <td>9.8</td>\n",
       "      <td>5</td>\n",
       "    </tr>\n",
       "    <tr>\n",
       "      <th>3</th>\n",
       "      <td>11.2</td>\n",
       "      <td>0.28</td>\n",
       "      <td>0.56</td>\n",
       "      <td>1.9</td>\n",
       "      <td>0.075</td>\n",
       "      <td>17.0</td>\n",
       "      <td>60.0</td>\n",
       "      <td>0.9980</td>\n",
       "      <td>3.16</td>\n",
       "      <td>0.58</td>\n",
       "      <td>9.8</td>\n",
       "      <td>6</td>\n",
       "    </tr>\n",
       "    <tr>\n",
       "      <th>4</th>\n",
       "      <td>7.4</td>\n",
       "      <td>0.70</td>\n",
       "      <td>0.00</td>\n",
       "      <td>1.9</td>\n",
       "      <td>0.076</td>\n",
       "      <td>11.0</td>\n",
       "      <td>34.0</td>\n",
       "      <td>0.9978</td>\n",
       "      <td>3.51</td>\n",
       "      <td>0.56</td>\n",
       "      <td>9.4</td>\n",
       "      <td>5</td>\n",
       "    </tr>\n",
       "  </tbody>\n",
       "</table>\n",
       "</div>"
      ],
      "text/plain": [
       "   fixed acidity  volatile acidity  citric acid  residual sugar  chlorides  \\\n",
       "0            7.4              0.70         0.00             1.9      0.076   \n",
       "1            7.8              0.88         0.00             2.6      0.098   \n",
       "2            7.8              0.76         0.04             2.3      0.092   \n",
       "3           11.2              0.28         0.56             1.9      0.075   \n",
       "4            7.4              0.70         0.00             1.9      0.076   \n",
       "\n",
       "   free sulfur dioxide  total sulfur dioxide  density    pH  sulphates  \\\n",
       "0                 11.0                  34.0   0.9978  3.51       0.56   \n",
       "1                 25.0                  67.0   0.9968  3.20       0.68   \n",
       "2                 15.0                  54.0   0.9970  3.26       0.65   \n",
       "3                 17.0                  60.0   0.9980  3.16       0.58   \n",
       "4                 11.0                  34.0   0.9978  3.51       0.56   \n",
       "\n",
       "   alcohol  quality  \n",
       "0      9.4        5  \n",
       "1      9.8        5  \n",
       "2      9.8        5  \n",
       "3      9.8        6  \n",
       "4      9.4        5  "
      ]
     },
     "metadata": {},
     "output_type": "display_data"
    },
    {
     "name": "stdout",
     "output_type": "stream",
     "text": [
      "<class 'pandas.core.frame.DataFrame'>\n",
      "RangeIndex: 1599 entries, 0 to 1598\n",
      "Data columns (total 12 columns):\n",
      " #   Column                Non-Null Count  Dtype  \n",
      "---  ------                --------------  -----  \n",
      " 0   fixed acidity         1599 non-null   float64\n",
      " 1   volatile acidity      1599 non-null   float64\n",
      " 2   citric acid           1599 non-null   float64\n",
      " 3   residual sugar        1599 non-null   float64\n",
      " 4   chlorides             1599 non-null   float64\n",
      " 5   free sulfur dioxide   1599 non-null   float64\n",
      " 6   total sulfur dioxide  1599 non-null   float64\n",
      " 7   density               1599 non-null   float64\n",
      " 8   pH                    1599 non-null   float64\n",
      " 9   sulphates             1599 non-null   float64\n",
      " 10  alcohol               1599 non-null   float64\n",
      " 11  quality               1599 non-null   int64  \n",
      "dtypes: float64(11), int64(1)\n",
      "memory usage: 150.0 KB\n"
     ]
    }
   ],
   "source": [
    "import pandas as pd\n",
    "\n",
    "red_wine = pd.read_csv(\"/kaggle/input/red-wine-quality-cortez-et-al-2009/winequality-red.csv\")\n",
    "display(red_wine.head(5))\n",
    "red_wine.info()"
   ]
  },
  {
   "cell_type": "markdown",
   "id": "18d6d991",
   "metadata": {
    "papermill": {
     "duration": 0.008534,
     "end_time": "2023-01-17T17:01:03.214060",
     "exception": false,
     "start_time": "2023-01-17T17:01:03.205526",
     "status": "completed"
    },
    "tags": []
   },
   "source": [
    "Quality로 분류 예측하는 것이 목표.\n",
    "퀄리티의 기준은 7로 분류."
   ]
  },
  {
   "cell_type": "code",
   "execution_count": 11,
   "id": "224cace8",
   "metadata": {
    "execution": {
     "iopub.execute_input": "2023-01-17T17:01:03.235088Z",
     "iopub.status.busy": "2023-01-17T17:01:03.233741Z",
     "iopub.status.idle": "2023-01-17T17:01:03.246631Z",
     "shell.execute_reply": "2023-01-17T17:01:03.245018Z"
    },
    "papermill": {
     "duration": 0.027172,
     "end_time": "2023-01-17T17:01:03.250247",
     "exception": false,
     "start_time": "2023-01-17T17:01:03.223075",
     "status": "completed"
    },
    "tags": []
   },
   "outputs": [
    {
     "name": "stdout",
     "output_type": "stream",
     "text": [
      "0    1382\n",
      "1     217\n",
      "Name: target, dtype: int64\n"
     ]
    }
   ],
   "source": [
    "def binary_quality(x):\n",
    "    target = None\n",
    "    if x >= 7:\n",
    "        target = 1\n",
    "    else:\n",
    "        target = 0\n",
    "    return target\n",
    "\n",
    "red_wine['target'] = red_wine['quality'].apply(lambda x : binary_quality(x))\n",
    "print(red_wine['target'].value_counts())"
   ]
  },
  {
   "cell_type": "markdown",
   "id": "de3e242b",
   "metadata": {
    "papermill": {
     "duration": 0.014822,
     "end_time": "2023-01-17T17:01:03.278326",
     "exception": false,
     "start_time": "2023-01-17T17:01:03.263504",
     "status": "completed"
    },
    "tags": []
   },
   "source": [
    "7 이상인 와인이 217, 미만인 와인이 1382인 모습"
   ]
  },
  {
   "cell_type": "code",
   "execution_count": 12,
   "id": "4a480eb9",
   "metadata": {
    "execution": {
     "iopub.execute_input": "2023-01-17T17:01:03.303900Z",
     "iopub.status.busy": "2023-01-17T17:01:03.303217Z",
     "iopub.status.idle": "2023-01-17T17:01:03.331748Z",
     "shell.execute_reply": "2023-01-17T17:01:03.330283Z"
    },
    "papermill": {
     "duration": 0.045742,
     "end_time": "2023-01-17T17:01:03.334331",
     "exception": false,
     "start_time": "2023-01-17T17:01:03.288589",
     "status": "completed"
    },
    "tags": []
   },
   "outputs": [
    {
     "data": {
      "text/html": [
       "<div>\n",
       "<style scoped>\n",
       "    .dataframe tbody tr th:only-of-type {\n",
       "        vertical-align: middle;\n",
       "    }\n",
       "\n",
       "    .dataframe tbody tr th {\n",
       "        vertical-align: top;\n",
       "    }\n",
       "\n",
       "    .dataframe thead th {\n",
       "        text-align: right;\n",
       "    }\n",
       "</style>\n",
       "<table border=\"1\" class=\"dataframe\">\n",
       "  <thead>\n",
       "    <tr style=\"text-align: right;\">\n",
       "      <th></th>\n",
       "      <th>fixed acidity</th>\n",
       "      <th>volatile acidity</th>\n",
       "      <th>citric acid</th>\n",
       "      <th>residual sugar</th>\n",
       "      <th>chlorides</th>\n",
       "      <th>free sulfur dioxide</th>\n",
       "      <th>total sulfur dioxide</th>\n",
       "      <th>density</th>\n",
       "      <th>pH</th>\n",
       "      <th>sulphates</th>\n",
       "      <th>alcohol</th>\n",
       "    </tr>\n",
       "  </thead>\n",
       "  <tbody>\n",
       "    <tr>\n",
       "      <th>0</th>\n",
       "      <td>7.4</td>\n",
       "      <td>0.70</td>\n",
       "      <td>0.00</td>\n",
       "      <td>1.9</td>\n",
       "      <td>0.076</td>\n",
       "      <td>11.0</td>\n",
       "      <td>34.0</td>\n",
       "      <td>0.9978</td>\n",
       "      <td>3.51</td>\n",
       "      <td>0.56</td>\n",
       "      <td>9.4</td>\n",
       "    </tr>\n",
       "    <tr>\n",
       "      <th>1</th>\n",
       "      <td>7.8</td>\n",
       "      <td>0.88</td>\n",
       "      <td>0.00</td>\n",
       "      <td>2.6</td>\n",
       "      <td>0.098</td>\n",
       "      <td>25.0</td>\n",
       "      <td>67.0</td>\n",
       "      <td>0.9968</td>\n",
       "      <td>3.20</td>\n",
       "      <td>0.68</td>\n",
       "      <td>9.8</td>\n",
       "    </tr>\n",
       "    <tr>\n",
       "      <th>2</th>\n",
       "      <td>7.8</td>\n",
       "      <td>0.76</td>\n",
       "      <td>0.04</td>\n",
       "      <td>2.3</td>\n",
       "      <td>0.092</td>\n",
       "      <td>15.0</td>\n",
       "      <td>54.0</td>\n",
       "      <td>0.9970</td>\n",
       "      <td>3.26</td>\n",
       "      <td>0.65</td>\n",
       "      <td>9.8</td>\n",
       "    </tr>\n",
       "    <tr>\n",
       "      <th>3</th>\n",
       "      <td>11.2</td>\n",
       "      <td>0.28</td>\n",
       "      <td>0.56</td>\n",
       "      <td>1.9</td>\n",
       "      <td>0.075</td>\n",
       "      <td>17.0</td>\n",
       "      <td>60.0</td>\n",
       "      <td>0.9980</td>\n",
       "      <td>3.16</td>\n",
       "      <td>0.58</td>\n",
       "      <td>9.8</td>\n",
       "    </tr>\n",
       "    <tr>\n",
       "      <th>4</th>\n",
       "      <td>7.4</td>\n",
       "      <td>0.70</td>\n",
       "      <td>0.00</td>\n",
       "      <td>1.9</td>\n",
       "      <td>0.076</td>\n",
       "      <td>11.0</td>\n",
       "      <td>34.0</td>\n",
       "      <td>0.9978</td>\n",
       "      <td>3.51</td>\n",
       "      <td>0.56</td>\n",
       "      <td>9.4</td>\n",
       "    </tr>\n",
       "  </tbody>\n",
       "</table>\n",
       "</div>"
      ],
      "text/plain": [
       "   fixed acidity  volatile acidity  citric acid  residual sugar  chlorides  \\\n",
       "0            7.4              0.70         0.00             1.9      0.076   \n",
       "1            7.8              0.88         0.00             2.6      0.098   \n",
       "2            7.8              0.76         0.04             2.3      0.092   \n",
       "3           11.2              0.28         0.56             1.9      0.075   \n",
       "4            7.4              0.70         0.00             1.9      0.076   \n",
       "\n",
       "   free sulfur dioxide  total sulfur dioxide  density    pH  sulphates  \\\n",
       "0                 11.0                  34.0   0.9978  3.51       0.56   \n",
       "1                 25.0                  67.0   0.9968  3.20       0.68   \n",
       "2                 15.0                  54.0   0.9970  3.26       0.65   \n",
       "3                 17.0                  60.0   0.9980  3.16       0.58   \n",
       "4                 11.0                  34.0   0.9978  3.51       0.56   \n",
       "\n",
       "   alcohol  \n",
       "0      9.4  \n",
       "1      9.8  \n",
       "2      9.8  \n",
       "3      9.8  \n",
       "4      9.4  "
      ]
     },
     "metadata": {},
     "output_type": "display_data"
    },
    {
     "data": {
      "text/plain": [
       "0    0\n",
       "1    0\n",
       "2    0\n",
       "3    0\n",
       "4    0\n",
       "Name: target, dtype: int64"
      ]
     },
     "metadata": {},
     "output_type": "display_data"
    }
   ],
   "source": [
    "wine_y = red_wine['target']\n",
    "#필요없는 데이터 값들 제거, y의 label의 형태 파악\n",
    "wine_x = red_wine.drop(['target', 'quality'], axis = 1)\n",
    "display(wine_x.head())\n",
    "display(wine_y.head())"
   ]
  },
  {
   "cell_type": "code",
   "execution_count": 13,
   "id": "940aa5e4",
   "metadata": {
    "execution": {
     "iopub.execute_input": "2023-01-17T17:01:03.356786Z",
     "iopub.status.busy": "2023-01-17T17:01:03.355781Z",
     "iopub.status.idle": "2023-01-17T17:01:03.367210Z",
     "shell.execute_reply": "2023-01-17T17:01:03.365880Z"
    },
    "papermill": {
     "duration": 0.026031,
     "end_time": "2023-01-17T17:01:03.370140",
     "exception": false,
     "start_time": "2023-01-17T17:01:03.344109",
     "status": "completed"
    },
    "tags": []
   },
   "outputs": [],
   "source": [
    "from sklearn.model_selection import train_test_split\n",
    "\n",
    "#test set을 20%, trainnig set을 80%로 설정\n",
    "x_train, x_test, y_train, y_test = train_test_split(wine_x, wine_y,\n",
    "                                                    test_size = 0.2,\n",
    "                                                    stratify=wine_y,\n",
    "                                                    random_state = 12)"
   ]
  },
  {
   "cell_type": "code",
   "execution_count": 14,
   "id": "3c1cbfb3",
   "metadata": {
    "execution": {
     "iopub.execute_input": "2023-01-17T17:01:03.391490Z",
     "iopub.status.busy": "2023-01-17T17:01:03.390624Z",
     "iopub.status.idle": "2023-01-17T17:01:03.404502Z",
     "shell.execute_reply": "2023-01-17T17:01:03.402808Z"
    },
    "papermill": {
     "duration": 0.028271,
     "end_time": "2023-01-17T17:01:03.407908",
     "exception": false,
     "start_time": "2023-01-17T17:01:03.379637",
     "status": "completed"
    },
    "tags": []
   },
   "outputs": [
    {
     "name": "stdout",
     "output_type": "stream",
     "text": [
      "[[0.22123894 0.40410959 0.         ... 0.53043478 0.13333333 0.15384615]\n",
      " [0.25663717 0.19863014 0.18987342 ... 0.24347826 0.15151515 0.10769231]\n",
      " [0.2300885  0.15068493 0.26582278 ... 0.44347826 0.12727273 0.26153846]\n",
      " ...\n",
      " [0.20353982 0.49315068 0.26582278 ... 0.5826087  0.23636364 0.12820513]\n",
      " [0.25663717 0.32191781 0.27848101 ... 0.20869565 0.05454545 0.12307692]\n",
      " [0.92035398 0.06164384 0.55696203 ... 0.1826087  0.30909091 0.12307692]]\n"
     ]
    }
   ],
   "source": [
    "#데이터 전처리\n",
    "from sklearn.preprocessing import MinMaxScaler\n",
    "\n",
    "scaler = MinMaxScaler()\n",
    "\n",
    "scaler.fit(x_train)\n",
    "\n",
    "x_train = scaler.transform(x_train)\n",
    "x_test = scaler.transform(x_test)\n",
    "\n",
    "print(x_train)"
   ]
  },
  {
   "cell_type": "code",
   "execution_count": 15,
   "id": "60ecbbd7",
   "metadata": {
    "execution": {
     "iopub.execute_input": "2023-01-17T17:01:03.429787Z",
     "iopub.status.busy": "2023-01-17T17:01:03.429380Z",
     "iopub.status.idle": "2023-01-17T17:01:07.328832Z",
     "shell.execute_reply": "2023-01-17T17:01:07.326949Z"
    },
    "papermill": {
     "duration": 3.913469,
     "end_time": "2023-01-17T17:01:07.331710",
     "exception": false,
     "start_time": "2023-01-17T17:01:03.418241",
     "status": "completed"
    },
    "tags": []
   },
   "outputs": [
    {
     "name": "stdout",
     "output_type": "stream",
     "text": [
      "random forest 평균 정확도:  0.9007\n",
      "XGBoost 평균 정확도:  0.8976\n",
      "LogisticRegression 평균 정확도:  0.8718\n"
     ]
    }
   ],
   "source": [
    "import numpy as np\n",
    "from sklearn.model_selection import cross_val_score\n",
    "from sklearn.ensemble import RandomForestClassifier\n",
    "from sklearn.linear_model import LogisticRegression\n",
    "from xgboost import XGBClassifier\n",
    "\n",
    "rfc = RandomForestClassifier(random_state=12)\n",
    "xgb = XGBClassifier(random_state=12)\n",
    "lrg = LogisticRegression(solver='liblinear', random_state=12)\n",
    "\n",
    "rfc_cv_scores = cross_val_score(rfc, x_train , y_train , cv=5)\n",
    "xgb_cv_scores = cross_val_score(xgb, x_train , y_train , cv=5)\n",
    "lrg_cv_scores = cross_val_score(lrg, x_train , y_train , cv=5)\n",
    "\n",
    "print(\"random forest 평균 정확도: \", round(np.mean(rfc_cv_scores), 4))\n",
    "print(\"XGBoost 평균 정확도: \", round(np.mean(xgb_cv_scores), 4))\n",
    "print(\"LogisticRegression 평균 정확도: \", round(np.mean(lrg_cv_scores), 4))"
   ]
  },
  {
   "cell_type": "code",
   "execution_count": 16,
   "id": "16a210af",
   "metadata": {
    "execution": {
     "iopub.execute_input": "2023-01-17T17:01:07.352736Z",
     "iopub.status.busy": "2023-01-17T17:01:07.352264Z",
     "iopub.status.idle": "2023-01-17T17:01:07.676907Z",
     "shell.execute_reply": "2023-01-17T17:01:07.675139Z"
    },
    "papermill": {
     "duration": 0.339018,
     "end_time": "2023-01-17T17:01:07.680403",
     "exception": false,
     "start_time": "2023-01-17T17:01:07.341385",
     "status": "completed"
    },
    "tags": []
   },
   "outputs": [
    {
     "name": "stdout",
     "output_type": "stream",
     "text": [
      " test 데이터에서의 RandomForestClassifier 정확도: 0.9094\n",
      " test 데이터에서의 LogisticRegression 정확도: 0.8844\n"
     ]
    }
   ],
   "source": [
    "rfc.fit(x_train , y_train)\n",
    "lrg.fit(x_train, y_train)\n",
    "pred = rfc.predict(x_test)\n",
    "pred2 = lrg.predict(x_test)\n",
    "accuracy = accuracy_score(y_test, pred)\n",
    "accuracy2 = accuracy_score(y_test, pred2)\n",
    "\n",
    "print(\" test 데이터에서의 RandomForestClassifier 정확도:\", round(accuracy,4))\n",
    "print(\" test 데이터에서의 LogisticRegression 정확도:\", round(accuracy2,4))"
   ]
  },
  {
   "cell_type": "code",
   "execution_count": 17,
   "id": "abdeff68",
   "metadata": {
    "execution": {
     "iopub.execute_input": "2023-01-17T17:01:07.702114Z",
     "iopub.status.busy": "2023-01-17T17:01:07.701653Z",
     "iopub.status.idle": "2023-01-17T17:01:13.654238Z",
     "shell.execute_reply": "2023-01-17T17:01:13.652919Z"
    },
    "papermill": {
     "duration": 5.967021,
     "end_time": "2023-01-17T17:01:13.657094",
     "exception": false,
     "start_time": "2023-01-17T17:01:07.690073",
     "status": "completed"
    },
    "tags": []
   },
   "outputs": [],
   "source": [
    "import tensorflow as tf\n",
    "import numpy as np\n",
    "import matplotlib.pyplot as plt"
   ]
  },
  {
   "cell_type": "code",
   "execution_count": 18,
   "id": "e5ce6cd0",
   "metadata": {
    "execution": {
     "iopub.execute_input": "2023-01-17T17:01:13.679619Z",
     "iopub.status.busy": "2023-01-17T17:01:13.678861Z",
     "iopub.status.idle": "2023-01-17T17:01:15.081873Z",
     "shell.execute_reply": "2023-01-17T17:01:15.080049Z"
    },
    "papermill": {
     "duration": 1.417821,
     "end_time": "2023-01-17T17:01:15.085387",
     "exception": false,
     "start_time": "2023-01-17T17:01:13.667566",
     "status": "completed"
    },
    "tags": []
   },
   "outputs": [
    {
     "name": "stdout",
     "output_type": "stream",
     "text": [
      "Model: \"sequential\"\n",
      "_________________________________________________________________\n",
      "Layer (type)                 Output Shape              Param #   \n",
      "=================================================================\n",
      "dense (Dense)                (None, 40)                480       \n",
      "_________________________________________________________________\n",
      "dense_1 (Dense)              (None, 20)                820       \n",
      "_________________________________________________________________\n",
      "dense_2 (Dense)              (None, 20)                420       \n",
      "_________________________________________________________________\n",
      "dense_3 (Dense)              (None, 1)                 21        \n",
      "=================================================================\n",
      "Total params: 1,741\n",
      "Trainable params: 1,741\n",
      "Non-trainable params: 0\n",
      "_________________________________________________________________\n"
     ]
    },
    {
     "name": "stderr",
     "output_type": "stream",
     "text": [
      "2023-01-17 17:01:14.984022: I tensorflow/core/common_runtime/process_util.cc:146] Creating new thread pool with default inter op setting: 2. Tune using inter_op_parallelism_threads for best performance.\n"
     ]
    }
   ],
   "source": [
    "model = tf.keras.models.Sequential([\n",
    "    tf.keras.Input(shape=(11,)),\n",
    "    tf.keras.layers.Dense(units= 40, activation = 'relu'),\n",
    "    tf.keras.layers.Dense(units = 20, activation='relu'),\n",
    "    tf.keras.layers.Dense(units = 20, activation='relu'),\n",
    "    tf.keras.layers.Dense(units= 1,  activation='sigmoid'),\n",
    "])\n",
    "model.summary()"
   ]
  },
  {
   "cell_type": "markdown",
   "id": "976fbb05",
   "metadata": {
    "papermill": {
     "duration": 0.009551,
     "end_time": "2023-01-17T17:01:15.106222",
     "exception": false,
     "start_time": "2023-01-17T17:01:15.096671",
     "status": "completed"
    },
    "tags": []
   },
   "source": [
    "품질에 따라 1과 0으로 분류하는 단순이진분류가 목적이므로, 손실함수로 binary_crossEntropy를 사용하는 것이 유리함.\n",
    "binary_crossEntropy는 결과값을 sigmoid의 형태로 출력하므로 가장 마지막 계층에는 sigmoid를 사용해야 함."
   ]
  },
  {
   "cell_type": "code",
   "execution_count": 19,
   "id": "a0d15695",
   "metadata": {
    "execution": {
     "iopub.execute_input": "2023-01-17T17:01:15.131430Z",
     "iopub.status.busy": "2023-01-17T17:01:15.130713Z",
     "iopub.status.idle": "2023-01-17T17:01:18.608322Z",
     "shell.execute_reply": "2023-01-17T17:01:18.607052Z"
    },
    "papermill": {
     "duration": 3.49434,
     "end_time": "2023-01-17T17:01:18.611774",
     "exception": false,
     "start_time": "2023-01-17T17:01:15.117434",
     "status": "completed"
    },
    "tags": []
   },
   "outputs": [
    {
     "name": "stderr",
     "output_type": "stream",
     "text": [
      "2023-01-17 17:01:15.237978: I tensorflow/compiler/mlir/mlir_graph_optimization_pass.cc:185] None of the MLIR Optimization Passes are enabled (registered 2)\n"
     ]
    },
    {
     "name": "stdout",
     "output_type": "stream",
     "text": [
      "Epoch 1/100\n",
      "3/3 [==============================] - 1s 6ms/step - loss: 0.6702 - accuracy: 0.6231\n",
      "Epoch 2/100\n",
      "3/3 [==============================] - 0s 5ms/step - loss: 0.5313 - accuracy: 0.8640\n",
      "Epoch 3/100\n",
      "3/3 [==============================] - 0s 5ms/step - loss: 0.4104 - accuracy: 0.8640\n",
      "Epoch 4/100\n",
      "3/3 [==============================] - 0s 6ms/step - loss: 0.4474 - accuracy: 0.8640\n",
      "Epoch 5/100\n",
      "3/3 [==============================] - 0s 5ms/step - loss: 0.4168 - accuracy: 0.8640\n",
      "Epoch 6/100\n",
      "3/3 [==============================] - 0s 5ms/step - loss: 0.3801 - accuracy: 0.8640\n",
      "Epoch 7/100\n",
      "3/3 [==============================] - 0s 6ms/step - loss: 0.3857 - accuracy: 0.8640\n",
      "Epoch 8/100\n",
      "3/3 [==============================] - 0s 5ms/step - loss: 0.3745 - accuracy: 0.8640\n",
      "Epoch 9/100\n",
      "3/3 [==============================] - 0s 5ms/step - loss: 0.3559 - accuracy: 0.8640\n",
      "Epoch 10/100\n",
      "3/3 [==============================] - 0s 5ms/step - loss: 0.3496 - accuracy: 0.8640\n",
      "Epoch 11/100\n",
      "3/3 [==============================] - 0s 5ms/step - loss: 0.3368 - accuracy: 0.8640\n",
      "Epoch 12/100\n",
      "3/3 [==============================] - 0s 5ms/step - loss: 0.3233 - accuracy: 0.8640\n",
      "Epoch 13/100\n",
      "3/3 [==============================] - 0s 5ms/step - loss: 0.3152 - accuracy: 0.8640\n",
      "Epoch 14/100\n",
      "3/3 [==============================] - 0s 5ms/step - loss: 0.3036 - accuracy: 0.8640\n",
      "Epoch 15/100\n",
      "3/3 [==============================] - 0s 5ms/step - loss: 0.2973 - accuracy: 0.8640\n",
      "Epoch 16/100\n",
      "3/3 [==============================] - 0s 5ms/step - loss: 0.2923 - accuracy: 0.8640\n",
      "Epoch 17/100\n",
      "3/3 [==============================] - 0s 5ms/step - loss: 0.2892 - accuracy: 0.8640\n",
      "Epoch 18/100\n",
      "3/3 [==============================] - 0s 4ms/step - loss: 0.2874 - accuracy: 0.8640\n",
      "Epoch 19/100\n",
      "3/3 [==============================] - 0s 35ms/step - loss: 0.2849 - accuracy: 0.8640\n",
      "Epoch 20/100\n",
      "3/3 [==============================] - 0s 5ms/step - loss: 0.2817 - accuracy: 0.8640\n",
      "Epoch 21/100\n",
      "3/3 [==============================] - 0s 5ms/step - loss: 0.2805 - accuracy: 0.8640\n",
      "Epoch 22/100\n",
      "3/3 [==============================] - 0s 5ms/step - loss: 0.2792 - accuracy: 0.8640\n",
      "Epoch 23/100\n",
      "3/3 [==============================] - 0s 14ms/step - loss: 0.2776 - accuracy: 0.8624\n",
      "Epoch 24/100\n",
      "3/3 [==============================] - 0s 14ms/step - loss: 0.2765 - accuracy: 0.8647\n",
      "Epoch 25/100\n",
      "3/3 [==============================] - 0s 5ms/step - loss: 0.2747 - accuracy: 0.8733\n",
      "Epoch 26/100\n",
      "3/3 [==============================] - 0s 9ms/step - loss: 0.2736 - accuracy: 0.8765\n",
      "Epoch 27/100\n",
      "3/3 [==============================] - 0s 5ms/step - loss: 0.2723 - accuracy: 0.8741\n",
      "Epoch 28/100\n",
      "3/3 [==============================] - 0s 5ms/step - loss: 0.2719 - accuracy: 0.8757\n",
      "Epoch 29/100\n",
      "3/3 [==============================] - 0s 5ms/step - loss: 0.2717 - accuracy: 0.8749\n",
      "Epoch 30/100\n",
      "3/3 [==============================] - 0s 6ms/step - loss: 0.2714 - accuracy: 0.8819\n",
      "Epoch 31/100\n",
      "3/3 [==============================] - 0s 5ms/step - loss: 0.2730 - accuracy: 0.8694\n",
      "Epoch 32/100\n",
      "3/3 [==============================] - 0s 6ms/step - loss: 0.2680 - accuracy: 0.8765\n",
      "Epoch 33/100\n",
      "3/3 [==============================] - 0s 5ms/step - loss: 0.2703 - accuracy: 0.8804\n",
      "Epoch 34/100\n",
      "3/3 [==============================] - 0s 6ms/step - loss: 0.2659 - accuracy: 0.8796\n",
      "Epoch 35/100\n",
      "3/3 [==============================] - 0s 5ms/step - loss: 0.2653 - accuracy: 0.8765\n",
      "Epoch 36/100\n",
      "3/3 [==============================] - 0s 4ms/step - loss: 0.2647 - accuracy: 0.8780\n",
      "Epoch 37/100\n",
      "3/3 [==============================] - 0s 5ms/step - loss: 0.2643 - accuracy: 0.8788\n",
      "Epoch 38/100\n",
      "3/3 [==============================] - 0s 5ms/step - loss: 0.2625 - accuracy: 0.8804\n",
      "Epoch 39/100\n",
      "3/3 [==============================] - 0s 5ms/step - loss: 0.2626 - accuracy: 0.8804\n",
      "Epoch 40/100\n",
      "3/3 [==============================] - 0s 5ms/step - loss: 0.2622 - accuracy: 0.8804\n",
      "Epoch 41/100\n",
      "3/3 [==============================] - 0s 5ms/step - loss: 0.2607 - accuracy: 0.8780\n",
      "Epoch 42/100\n",
      "3/3 [==============================] - 0s 7ms/step - loss: 0.2624 - accuracy: 0.8780\n",
      "Epoch 43/100\n",
      "3/3 [==============================] - 0s 5ms/step - loss: 0.2597 - accuracy: 0.8812\n",
      "Epoch 44/100\n",
      "3/3 [==============================] - 0s 5ms/step - loss: 0.2584 - accuracy: 0.8788\n",
      "Epoch 45/100\n",
      "3/3 [==============================] - 0s 5ms/step - loss: 0.2580 - accuracy: 0.8796\n",
      "Epoch 46/100\n",
      "3/3 [==============================] - 0s 5ms/step - loss: 0.2576 - accuracy: 0.8796\n",
      "Epoch 47/100\n",
      "3/3 [==============================] - 0s 6ms/step - loss: 0.2566 - accuracy: 0.8788\n",
      "Epoch 48/100\n",
      "3/3 [==============================] - 0s 4ms/step - loss: 0.2555 - accuracy: 0.8780\n",
      "Epoch 49/100\n",
      "3/3 [==============================] - 0s 5ms/step - loss: 0.2545 - accuracy: 0.8780\n",
      "Epoch 50/100\n",
      "3/3 [==============================] - 0s 5ms/step - loss: 0.2552 - accuracy: 0.8835\n",
      "Epoch 51/100\n",
      "3/3 [==============================] - 0s 5ms/step - loss: 0.2537 - accuracy: 0.8796\n",
      "Epoch 52/100\n",
      "3/3 [==============================] - 0s 4ms/step - loss: 0.2542 - accuracy: 0.8780\n",
      "Epoch 53/100\n",
      "3/3 [==============================] - 0s 4ms/step - loss: 0.2525 - accuracy: 0.8827\n",
      "Epoch 54/100\n",
      "3/3 [==============================] - 0s 5ms/step - loss: 0.2527 - accuracy: 0.8827\n",
      "Epoch 55/100\n",
      "3/3 [==============================] - 0s 5ms/step - loss: 0.2523 - accuracy: 0.8812\n",
      "Epoch 56/100\n",
      "3/3 [==============================] - 0s 17ms/step - loss: 0.2523 - accuracy: 0.8796\n",
      "Epoch 57/100\n",
      "3/3 [==============================] - 0s 5ms/step - loss: 0.2500 - accuracy: 0.8835\n",
      "Epoch 58/100\n",
      "3/3 [==============================] - 0s 5ms/step - loss: 0.2487 - accuracy: 0.8819\n",
      "Epoch 59/100\n",
      "3/3 [==============================] - 0s 7ms/step - loss: 0.2515 - accuracy: 0.8812\n",
      "Epoch 60/100\n",
      "3/3 [==============================] - 0s 14ms/step - loss: 0.2546 - accuracy: 0.8804\n",
      "Epoch 61/100\n",
      "3/3 [==============================] - 0s 10ms/step - loss: 0.2505 - accuracy: 0.8835\n",
      "Epoch 62/100\n",
      "3/3 [==============================] - 0s 4ms/step - loss: 0.2499 - accuracy: 0.8765\n",
      "Epoch 63/100\n",
      "3/3 [==============================] - 0s 5ms/step - loss: 0.2478 - accuracy: 0.8827\n",
      "Epoch 64/100\n",
      "3/3 [==============================] - 0s 5ms/step - loss: 0.2464 - accuracy: 0.8812\n",
      "Epoch 65/100\n",
      "3/3 [==============================] - 0s 7ms/step - loss: 0.2487 - accuracy: 0.8835\n",
      "Epoch 66/100\n",
      "3/3 [==============================] - 0s 5ms/step - loss: 0.2461 - accuracy: 0.8843\n",
      "Epoch 67/100\n",
      "3/3 [==============================] - 0s 5ms/step - loss: 0.2451 - accuracy: 0.8843\n",
      "Epoch 68/100\n",
      "3/3 [==============================] - 0s 4ms/step - loss: 0.2484 - accuracy: 0.8858\n",
      "Epoch 69/100\n",
      "3/3 [==============================] - 0s 4ms/step - loss: 0.2540 - accuracy: 0.8788\n",
      "Epoch 70/100\n",
      "3/3 [==============================] - 0s 5ms/step - loss: 0.2457 - accuracy: 0.8858\n",
      "Epoch 71/100\n",
      "3/3 [==============================] - 0s 14ms/step - loss: 0.2470 - accuracy: 0.8843\n",
      "Epoch 72/100\n",
      "3/3 [==============================] - 0s 10ms/step - loss: 0.2418 - accuracy: 0.8858\n",
      "Epoch 73/100\n",
      "3/3 [==============================] - 0s 19ms/step - loss: 0.2459 - accuracy: 0.8866\n",
      "Epoch 74/100\n",
      "3/3 [==============================] - 0s 5ms/step - loss: 0.2416 - accuracy: 0.8843\n",
      "Epoch 75/100\n",
      "3/3 [==============================] - 0s 5ms/step - loss: 0.2429 - accuracy: 0.8913\n",
      "Epoch 76/100\n",
      "3/3 [==============================] - 0s 5ms/step - loss: 0.2403 - accuracy: 0.8866\n",
      "Epoch 77/100\n",
      "3/3 [==============================] - 0s 8ms/step - loss: 0.2415 - accuracy: 0.8890\n",
      "Epoch 78/100\n",
      "3/3 [==============================] - 0s 8ms/step - loss: 0.2446 - accuracy: 0.8890\n",
      "Epoch 79/100\n",
      "3/3 [==============================] - 0s 5ms/step - loss: 0.2419 - accuracy: 0.8866\n",
      "Epoch 80/100\n",
      "3/3 [==============================] - 0s 5ms/step - loss: 0.2381 - accuracy: 0.8866\n",
      "Epoch 81/100\n",
      "3/3 [==============================] - 0s 5ms/step - loss: 0.2407 - accuracy: 0.8905\n",
      "Epoch 82/100\n",
      "3/3 [==============================] - 0s 7ms/step - loss: 0.2443 - accuracy: 0.8874\n",
      "Epoch 83/100\n",
      "3/3 [==============================] - 0s 5ms/step - loss: 0.2368 - accuracy: 0.8882\n",
      "Epoch 84/100\n",
      "3/3 [==============================] - 0s 5ms/step - loss: 0.2396 - accuracy: 0.8905\n",
      "Epoch 85/100\n",
      "3/3 [==============================] - 0s 5ms/step - loss: 0.2381 - accuracy: 0.8874\n",
      "Epoch 86/100\n",
      "3/3 [==============================] - 0s 4ms/step - loss: 0.2360 - accuracy: 0.8898\n",
      "Epoch 87/100\n",
      "3/3 [==============================] - 0s 6ms/step - loss: 0.2353 - accuracy: 0.8937\n",
      "Epoch 88/100\n",
      "3/3 [==============================] - 0s 6ms/step - loss: 0.2405 - accuracy: 0.8905\n",
      "Epoch 89/100\n",
      "3/3 [==============================] - 0s 5ms/step - loss: 0.2376 - accuracy: 0.8913\n",
      "Epoch 90/100\n",
      "3/3 [==============================] - 0s 5ms/step - loss: 0.2402 - accuracy: 0.8866\n",
      "Epoch 91/100\n",
      "3/3 [==============================] - 0s 5ms/step - loss: 0.2360 - accuracy: 0.8929\n",
      "Epoch 92/100\n",
      "3/3 [==============================] - 0s 5ms/step - loss: 0.2368 - accuracy: 0.8898\n",
      "Epoch 93/100\n",
      "3/3 [==============================] - 0s 5ms/step - loss: 0.2358 - accuracy: 0.8874\n",
      "Epoch 94/100\n",
      "3/3 [==============================] - 0s 6ms/step - loss: 0.2345 - accuracy: 0.8898\n",
      "Epoch 95/100\n",
      "3/3 [==============================] - 0s 6ms/step - loss: 0.2335 - accuracy: 0.8890\n",
      "Epoch 96/100\n",
      "3/3 [==============================] - 0s 5ms/step - loss: 0.2306 - accuracy: 0.8968\n",
      "Epoch 97/100\n",
      "3/3 [==============================] - 0s 5ms/step - loss: 0.2316 - accuracy: 0.8913\n",
      "Epoch 98/100\n",
      "3/3 [==============================] - 0s 5ms/step - loss: 0.2282 - accuracy: 0.8976\n",
      "Epoch 99/100\n",
      "3/3 [==============================] - 0s 4ms/step - loss: 0.2310 - accuracy: 0.8882\n",
      "Epoch 100/100\n",
      "3/3 [==============================] - 0s 4ms/step - loss: 0.2267 - accuracy: 0.8905\n",
      "10/10 - 0s - loss: 0.2765 - accuracy: 0.9062\n"
     ]
    },
    {
     "data": {
      "text/plain": [
       "[0.27648216485977173, 0.90625]"
      ]
     },
     "execution_count": 19,
     "metadata": {},
     "output_type": "execute_result"
    }
   ],
   "source": [
    "optimizer = tf.keras.optimizers.Adam(learning_rate = 0.01)\n",
    "model.compile(optimizer = optimizer, loss='binary_crossentropy', metrics = ['accuracy'])\n",
    "history = model.fit(x_train, y_train, epochs = 100, batch_size = 512)\n",
    "model.evaluate(x_test, y_test, verbose=2)"
   ]
  },
  {
   "cell_type": "markdown",
   "id": "c4a8a4dc",
   "metadata": {
    "papermill": {
     "duration": 0.026786,
     "end_time": "2023-01-17T17:01:18.669477",
     "exception": false,
     "start_time": "2023-01-17T17:01:18.642691",
     "status": "completed"
    },
    "tags": []
   },
   "source": []
  },
  {
   "cell_type": "code",
   "execution_count": 20,
   "id": "0c3dd848",
   "metadata": {
    "execution": {
     "iopub.execute_input": "2023-01-17T17:01:18.736714Z",
     "iopub.status.busy": "2023-01-17T17:01:18.735592Z",
     "iopub.status.idle": "2023-01-17T17:01:18.972482Z",
     "shell.execute_reply": "2023-01-17T17:01:18.971518Z"
    },
    "papermill": {
     "duration": 0.268904,
     "end_time": "2023-01-17T17:01:18.974863",
     "exception": false,
     "start_time": "2023-01-17T17:01:18.705959",
     "status": "completed"
    },
    "tags": []
   },
   "outputs": [
    {
     "data": {
      "text/plain": [
       "<matplotlib.legend.Legend at 0x7fac96f9a990>"
      ]
     },
     "execution_count": 20,
     "metadata": {},
     "output_type": "execute_result"
    },
    {
     "data": {
      "image/png": "[encoded data removed]",
      "text/plain": [
       "<Figure size 864x288 with 1 Axes>"
      ]
     },
     "metadata": {
      "needs_background": "light"
     },
     "output_type": "display_data"
    }
   ],
   "source": [
    "plt.figure(figsize=(12, 4))\n",
    "\n",
    "plt.subplot(1, 2, 1)\n",
    "plt.plot(history.history['loss'], 'b-', label='loss')\n",
    "plt.xlabel('Epoch')\n",
    "plt.legend()"
   ]
  },
  {
   "cell_type": "code",
   "execution_count": 21,
   "id": "522c2b3b",
   "metadata": {
    "execution": {
     "iopub.execute_input": "2023-01-17T17:01:19.035225Z",
     "iopub.status.busy": "2023-01-17T17:01:19.033536Z",
     "iopub.status.idle": "2023-01-17T17:01:19.281565Z",
     "shell.execute_reply": "2023-01-17T17:01:19.280243Z"
    },
    "papermill": {
     "duration": 0.280612,
     "end_time": "2023-01-17T17:01:19.284586",
     "exception": false,
     "start_time": "2023-01-17T17:01:19.003974",
     "status": "completed"
    },
    "tags": []
   },
   "outputs": [
    {
     "data": {
      "image/png": "[encoded data removed]",
      "text/plain": [
       "<Figure size 1440x864 with 1 Axes>"
      ]
     },
     "metadata": {
      "needs_background": "light"
     },
     "output_type": "display_data"
    }
   ],
   "source": [
    "plt.subplot(1, 2, 2)\n",
    "plt.plot(history.history['accuracy'], 'g-', label='accuracy')\n",
    "plt.xlabel('Epoch')\n",
    "plt.ylim(0.7, 1)\n",
    "plt.legend()\n",
    "\n",
    "plt.show()"
   ]
  },
  {
   "cell_type": "code",
   "execution_count": 22,
   "id": "592bf7f2",
   "metadata": {
    "execution": {
     "iopub.execute_input": "2023-01-17T17:01:19.344189Z",
     "iopub.status.busy": "2023-01-17T17:01:19.343719Z",
     "iopub.status.idle": "2023-01-17T17:01:19.508008Z",
     "shell.execute_reply": "2023-01-17T17:01:19.506647Z"
    },
    "papermill": {
     "duration": 0.196059,
     "end_time": "2023-01-17T17:01:19.510586",
     "exception": false,
     "start_time": "2023-01-17T17:01:19.314527",
     "status": "completed"
    },
    "tags": []
   },
   "outputs": [
    {
     "name": "stdout",
     "output_type": "stream",
     "text": [
      "최종 예측 결과 0.90625\n"
     ]
    }
   ],
   "source": [
    "model_pred = model.predict(x_test).flatten()\n",
    "\n",
    "pred_class = np.where(model_pred > 0.5, 1 , 0) #0.5보다크면 1, 작으면 0\n",
    "\n",
    "accuracy3 = accuracy_score(y_test, pred_class)\n",
    "print(\"최종 예측 결과\", accuracy3)"
   ]
  },
  {
   "cell_type": "markdown",
   "id": "30281a70",
   "metadata": {
    "papermill": {
     "duration": 0.029452,
     "end_time": "2023-01-17T17:01:19.567433",
     "exception": false,
     "start_time": "2023-01-17T17:01:19.537981",
     "status": "completed"
    },
    "tags": []
   },
   "source": []
  },
  {
   "cell_type": "code",
   "execution_count": null,
   "id": "d383eba8",
   "metadata": {
    "papermill": {
     "duration": 0.027004,
     "end_time": "2023-01-17T17:01:19.621348",
     "exception": false,
     "start_time": "2023-01-17T17:01:19.594344",
     "status": "completed"
    },
    "tags": []
   },
   "outputs": [],
   "source": []
  }
 ],
 "metadata": {
  "kernelspec": {
   "display_name": "Python 3",
   "language": "python",
   "name": "python3"
  },
  "language_info": {
   "codemirror_mode": {
    "name": "ipython",
    "version": 3
   },
   "file_extension": ".py",
   "mimetype": "text/x-python",
   "name": "python",
   "nbconvert_exporter": "python",
   "pygments_lexer": "ipython3",
   "version": "3.7.12"
  },
  "papermill": {
   "default_parameters": {},
   "duration": 32.197956,
   "end_time": "2023-01-17T17:01:23.001571",
   "environment_variables": {},
   "exception": null,
   "input_path": "__notebook__.ipynb",
   "output_path": "__notebook__.ipynb",
   "parameters": {},
   "start_time": "2023-01-17T17:00:50.803615",
   "version": "2.3.4"
  }
 },
 "nbformat": 4,
 "nbformat_minor": 5
}
