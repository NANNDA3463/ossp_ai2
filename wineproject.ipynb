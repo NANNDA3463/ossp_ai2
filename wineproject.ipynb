{
 "cells": [
  {
   "cell_type": "code",
   "execution_count": 1,
   "id": "f3a7795b",
   "metadata": {
    "_cell_guid": "b1076dfc-b9ad-4769-8c92-a6c4dae69d19",
    "_uuid": "8f2839f25d086af736a60e9eeb907d3b93b6e0e5",
    "execution": {
     "iopub.execute_input": "2023-01-17T12:36:49.202432Z",
     "iopub.status.busy": "2023-01-17T12:36:49.201382Z",
     "iopub.status.idle": "2023-01-17T12:36:50.884096Z",
     "shell.execute_reply": "2023-01-17T12:36:50.882621Z"
    },
    "papermill": {
     "duration": 1.698534,
     "end_time": "2023-01-17T12:36:50.887964",
     "exception": false,
     "start_time": "2023-01-17T12:36:49.189430",
     "status": "completed"
    },
    "tags": []
   },
   "outputs": [
    {
     "name": "stdout",
     "output_type": "stream",
     "text": [
      "/kaggle/input/red-wine-quality-cortez-et-al-2009/winequality-red.csv\n"
     ]
    },
    {
     "data": {
      "text/html": [
       "<div>\n",
       "<style scoped>\n",
       "    .dataframe tbody tr th:only-of-type {\n",
       "        vertical-align: middle;\n",
       "    }\n",
       "\n",
       "    .dataframe tbody tr th {\n",
       "        vertical-align: top;\n",
       "    }\n",
       "\n",
       "    .dataframe thead th {\n",
       "        text-align: right;\n",
       "    }\n",
       "</style>\n",
       "<table border=\"1\" class=\"dataframe\">\n",
       "  <thead>\n",
       "    <tr style=\"text-align: right;\">\n",
       "      <th></th>\n",
       "      <th>fixed acidity</th>\n",
       "      <th>volatile acidity</th>\n",
       "      <th>citric acid</th>\n",
       "      <th>residual sugar</th>\n",
       "      <th>chlorides</th>\n",
       "      <th>free sulfur dioxide</th>\n",
       "      <th>total sulfur dioxide</th>\n",
       "      <th>density</th>\n",
       "      <th>pH</th>\n",
       "      <th>sulphates</th>\n",
       "      <th>alcohol</th>\n",
       "      <th>quality</th>\n",
       "    </tr>\n",
       "  </thead>\n",
       "  <tbody>\n",
       "    <tr>\n",
       "      <th>0</th>\n",
       "      <td>7.4</td>\n",
       "      <td>0.70</td>\n",
       "      <td>0.00</td>\n",
       "      <td>1.9</td>\n",
       "      <td>0.076</td>\n",
       "      <td>11.0</td>\n",
       "      <td>34.0</td>\n",
       "      <td>0.9978</td>\n",
       "      <td>3.51</td>\n",
       "      <td>0.56</td>\n",
       "      <td>9.4</td>\n",
       "      <td>5</td>\n",
       "    </tr>\n",
       "    <tr>\n",
       "      <th>1</th>\n",
       "      <td>7.8</td>\n",
       "      <td>0.88</td>\n",
       "      <td>0.00</td>\n",
       "      <td>2.6</td>\n",
       "      <td>0.098</td>\n",
       "      <td>25.0</td>\n",
       "      <td>67.0</td>\n",
       "      <td>0.9968</td>\n",
       "      <td>3.20</td>\n",
       "      <td>0.68</td>\n",
       "      <td>9.8</td>\n",
       "      <td>5</td>\n",
       "    </tr>\n",
       "    <tr>\n",
       "      <th>2</th>\n",
       "      <td>7.8</td>\n",
       "      <td>0.76</td>\n",
       "      <td>0.04</td>\n",
       "      <td>2.3</td>\n",
       "      <td>0.092</td>\n",
       "      <td>15.0</td>\n",
       "      <td>54.0</td>\n",
       "      <td>0.9970</td>\n",
       "      <td>3.26</td>\n",
       "      <td>0.65</td>\n",
       "      <td>9.8</td>\n",
       "      <td>5</td>\n",
       "    </tr>\n",
       "    <tr>\n",
       "      <th>3</th>\n",
       "      <td>11.2</td>\n",
       "      <td>0.28</td>\n",
       "      <td>0.56</td>\n",
       "      <td>1.9</td>\n",
       "      <td>0.075</td>\n",
       "      <td>17.0</td>\n",
       "      <td>60.0</td>\n",
       "      <td>0.9980</td>\n",
       "      <td>3.16</td>\n",
       "      <td>0.58</td>\n",
       "      <td>9.8</td>\n",
       "      <td>6</td>\n",
       "    </tr>\n",
       "    <tr>\n",
       "      <th>4</th>\n",
       "      <td>7.4</td>\n",
       "      <td>0.70</td>\n",
       "      <td>0.00</td>\n",
       "      <td>1.9</td>\n",
       "      <td>0.076</td>\n",
       "      <td>11.0</td>\n",
       "      <td>34.0</td>\n",
       "      <td>0.9978</td>\n",
       "      <td>3.51</td>\n",
       "      <td>0.56</td>\n",
       "      <td>9.4</td>\n",
       "      <td>5</td>\n",
       "    </tr>\n",
       "  </tbody>\n",
       "</table>\n",
       "</div>"
      ],
      "text/plain": [
       "   fixed acidity  volatile acidity  citric acid  residual sugar  chlorides  \\\n",
       "0            7.4              0.70         0.00             1.9      0.076   \n",
       "1            7.8              0.88         0.00             2.6      0.098   \n",
       "2            7.8              0.76         0.04             2.3      0.092   \n",
       "3           11.2              0.28         0.56             1.9      0.075   \n",
       "4            7.4              0.70         0.00             1.9      0.076   \n",
       "\n",
       "   free sulfur dioxide  total sulfur dioxide  density    pH  sulphates  \\\n",
       "0                 11.0                  34.0   0.9978  3.51       0.56   \n",
       "1                 25.0                  67.0   0.9968  3.20       0.68   \n",
       "2                 15.0                  54.0   0.9970  3.26       0.65   \n",
       "3                 17.0                  60.0   0.9980  3.16       0.58   \n",
       "4                 11.0                  34.0   0.9978  3.51       0.56   \n",
       "\n",
       "   alcohol  quality  \n",
       "0      9.4        5  \n",
       "1      9.8        5  \n",
       "2      9.8        5  \n",
       "3      9.8        6  \n",
       "4      9.4        5  "
      ]
     },
     "execution_count": 1,
     "metadata": {},
     "output_type": "execute_result"
    }
   ],
   "source": [
    "#기본 패키지\n",
    "import numpy as np\n",
    "import pandas as pd\n",
    "import matplotlib.pyplot as plt\n",
    "import seaborn as sns\n",
    " \n",
    "#전처리, 모델링 패키지\n",
    "from sklearn.preprocessing import StandardScaler, LabelEncoder\n",
    "from sklearn.model_selection import train_test_split\n",
    "from sklearn.linear_model import LinearRegression\n",
    "from sklearn.model_selection import train_test_split\n",
    "from sklearn.ensemble import RandomForestClassifier\n",
    "from sklearn.linear_model import LogisticRegression\n",
    "from sklearn.svm import SVC\n",
    "from sklearn import tree\n",
    "from sklearn.ensemble import RandomForestClassifier\n",
    "from sklearn.neighbors import KNeighborsClassifier\n",
    "from sklearn.naive_bayes import GaussianNB\n",
    " \n",
    "#모델 평가 패키지\n",
    "from sklearn.metrics import classification_report\n",
    "from sklearn import metrics\n",
    "from sklearn.metrics import accuracy_score\n",
    "\n",
    "import os\n",
    "for dirname, _, filenames in os.walk('/kaggle/input'):\n",
    "    for filename in filenames:\n",
    "        print(os.path.join(dirname, filename))\n",
    "        \n",
    "    \n",
    "red_wine_quality = pd.read_csv(\"/kaggle/input/red-wine-quality-cortez-et-al-2009/winequality-red.csv\")\n",
    "red_wine_quality.head(5)"
   ]
  },
  {
   "cell_type": "code",
   "execution_count": 2,
   "id": "70a2dee0",
   "metadata": {
    "execution": {
     "iopub.execute_input": "2023-01-17T12:36:50.905413Z",
     "iopub.status.busy": "2023-01-17T12:36:50.905019Z",
     "iopub.status.idle": "2023-01-17T12:36:50.919316Z",
     "shell.execute_reply": "2023-01-17T12:36:50.918227Z"
    },
    "papermill": {
     "duration": 0.026868,
     "end_time": "2023-01-17T12:36:50.922578",
     "exception": false,
     "start_time": "2023-01-17T12:36:50.895710",
     "status": "completed"
    },
    "tags": []
   },
   "outputs": [
    {
     "name": "stdout",
     "output_type": "stream",
     "text": [
      "the red_wine_quality shape is: (1599, 12)\n",
      "\n",
      "   fixed acidity  volatile acidity  citric acid  residual sugar  chlorides  \\\n",
      "0            7.4              0.70         0.00             1.9      0.076   \n",
      "1            7.8              0.88         0.00             2.6      0.098   \n",
      "2            7.8              0.76         0.04             2.3      0.092   \n",
      "3           11.2              0.28         0.56             1.9      0.075   \n",
      "4            7.4              0.70         0.00             1.9      0.076   \n",
      "\n",
      "   free sulfur dioxide  total sulfur dioxide  density    pH  sulphates  \\\n",
      "0                 11.0                  34.0   0.9978  3.51       0.56   \n",
      "1                 25.0                  67.0   0.9968  3.20       0.68   \n",
      "2                 15.0                  54.0   0.9970  3.26       0.65   \n",
      "3                 17.0                  60.0   0.9980  3.16       0.58   \n",
      "4                 11.0                  34.0   0.9978  3.51       0.56   \n",
      "\n",
      "   alcohol  quality  \n",
      "0      9.4        5  \n",
      "1      9.8        5  \n",
      "2      9.8        5  \n",
      "3      9.8        6  \n",
      "4      9.4        5  \n",
      "\n",
      "Index(['fixed acidity', 'volatile acidity', 'citric acid', 'residual sugar',\n",
      "       'chlorides', 'free sulfur dioxide', 'total sulfur dioxide', 'density',\n",
      "       'pH', 'sulphates', 'alcohol', 'quality'],\n",
      "      dtype='object')\n"
     ]
    }
   ],
   "source": [
    "print(f\"the red_wine_quality shape is: {red_wine_quality.shape}\")\n",
    "print(\"\")\n",
    "print(red_wine_quality.head())\n",
    "print(\"\")\n",
    "print(red_wine_quality.columns)"
   ]
  },
  {
   "cell_type": "code",
   "execution_count": 3,
   "id": "061b4e2b",
   "metadata": {
    "execution": {
     "iopub.execute_input": "2023-01-17T12:36:50.939399Z",
     "iopub.status.busy": "2023-01-17T12:36:50.939007Z",
     "iopub.status.idle": "2023-01-17T12:36:50.950326Z",
     "shell.execute_reply": "2023-01-17T12:36:50.948747Z"
    },
    "papermill": {
     "duration": 0.022342,
     "end_time": "2023-01-17T12:36:50.952581",
     "exception": false,
     "start_time": "2023-01-17T12:36:50.930239",
     "status": "completed"
    },
    "tags": []
   },
   "outputs": [
    {
     "name": "stdout",
     "output_type": "stream",
     "text": [
      "The x variable is: [3.51 3.2  3.26 ... 3.42 3.57 3.39]\n",
      "\n",
      "The y variable is: [5 5 5 ... 6 5 6]\n",
      "\n",
      "The shape of x is: (1599,)\n",
      "The shape of y is: (1599,)\n"
     ]
    }
   ],
   "source": [
    "x = red_wine_quality[\"pH\"].values\n",
    "y = red_wine_quality[\"quality\"].values\n",
    "\n",
    "print(\"The x variable is:\", x)\n",
    "print(\"\")\n",
    "print(\"The y variable is:\", y)\n",
    "print(\"\")\n",
    "print(\"The shape of x is:\", x.shape)\n",
    "print(\"The shape of y is:\", y.shape)"
   ]
  },
  {
   "cell_type": "code",
   "execution_count": 4,
   "id": "786b4aae",
   "metadata": {
    "execution": {
     "iopub.execute_input": "2023-01-17T12:36:50.970471Z",
     "iopub.status.busy": "2023-01-17T12:36:50.969366Z",
     "iopub.status.idle": "2023-01-17T12:36:50.976049Z",
     "shell.execute_reply": "2023-01-17T12:36:50.974718Z"
    },
    "papermill": {
     "duration": 0.018166,
     "end_time": "2023-01-17T12:36:50.978481",
     "exception": false,
     "start_time": "2023-01-17T12:36:50.960315",
     "status": "completed"
    },
    "tags": []
   },
   "outputs": [
    {
     "name": "stdout",
     "output_type": "stream",
     "text": [
      "<class 'numpy.ndarray'>\n",
      "[[3.51]\n",
      " [3.2 ]\n",
      " [3.26]\n",
      " ...\n",
      " [3.42]\n",
      " [3.57]\n",
      " [3.39]]\n",
      "\n",
      "the shape of x is: (1599, 1)\n"
     ]
    }
   ],
   "source": [
    "print(type(x))\n",
    "x = x.reshape(-1, 1)\n",
    "print(x)\n",
    "print(\"\")\n",
    "print(\"the shape of x is:\", x.shape)"
   ]
  },
  {
   "cell_type": "code",
   "execution_count": 5,
   "id": "e9a80556",
   "metadata": {
    "execution": {
     "iopub.execute_input": "2023-01-17T12:36:50.996070Z",
     "iopub.status.busy": "2023-01-17T12:36:50.995136Z",
     "iopub.status.idle": "2023-01-17T12:36:51.004080Z",
     "shell.execute_reply": "2023-01-17T12:36:51.002656Z"
    },
    "papermill": {
     "duration": 0.020904,
     "end_time": "2023-01-17T12:36:51.007168",
     "exception": false,
     "start_time": "2023-01-17T12:36:50.986264",
     "status": "completed"
    },
    "tags": []
   },
   "outputs": [
    {
     "name": "stdout",
     "output_type": "stream",
     "text": [
      "x_train shape (1119, 1)\n",
      "y_train shape (1119,)\n",
      "\n",
      "x_test shape (480, 1)\n",
      "y_test shape (480,)\n",
      "\n"
     ]
    }
   ],
   "source": [
    "x_train, x_test, y_train, y_test = train_test_split(x, y, train_size=0.7, test_size=0.3, random_state=100)\n",
    "print(f\"x_train shape {x_train.shape}\")\n",
    "print(f\"y_train shape {y_train.shape}\")\n",
    "print(\"\")\n",
    "print(f\"x_test shape {x_test.shape}\")\n",
    "print(f\"y_test shape {y_test.shape}\")\n",
    "print(\"\")"
   ]
  },
  {
   "cell_type": "code",
   "execution_count": 6,
   "id": "3796df73",
   "metadata": {
    "execution": {
     "iopub.execute_input": "2023-01-17T12:36:51.026737Z",
     "iopub.status.busy": "2023-01-17T12:36:51.026350Z",
     "iopub.status.idle": "2023-01-17T12:36:51.033890Z",
     "shell.execute_reply": "2023-01-17T12:36:51.032774Z"
    },
    "papermill": {
     "duration": 0.019181,
     "end_time": "2023-01-17T12:36:51.036519",
     "exception": false,
     "start_time": "2023-01-17T12:36:51.017338",
     "status": "completed"
    },
    "tags": []
   },
   "outputs": [
    {
     "name": "stdout",
     "output_type": "stream",
     "text": [
      "4\n"
     ]
    }
   ],
   "source": [
    "print(len(train_test_split(x, y, train_size=0.8, test_size=0.2, random_state=100)))"
   ]
  },
  {
   "cell_type": "code",
   "execution_count": 7,
   "id": "70640174",
   "metadata": {
    "execution": {
     "iopub.execute_input": "2023-01-17T12:36:51.054028Z",
     "iopub.status.busy": "2023-01-17T12:36:51.053556Z",
     "iopub.status.idle": "2023-01-17T12:36:51.296584Z",
     "shell.execute_reply": "2023-01-17T12:36:51.295382Z"
    },
    "papermill": {
     "duration": 0.255485,
     "end_time": "2023-01-17T12:36:51.299790",
     "exception": false,
     "start_time": "2023-01-17T12:36:51.044305",
     "status": "completed"
    },
    "tags": []
   },
   "outputs": [
    {
     "data": {
      "image/png": "[encoded data removed]",
      "text/plain": [
       "<Figure size 432x288 with 1 Axes>"
      ]
     },
     "metadata": {
      "needs_background": "light"
     },
     "output_type": "display_data"
    }
   ],
   "source": [
    "plt.scatter(x_train, y_train, color='red')\n",
    "plt.xlabel(\"pH\")\n",
    "plt.ylabel(\"quality\")\n",
    "plt.show()"
   ]
  },
  {
   "cell_type": "code",
   "execution_count": 8,
   "id": "2d4ced08",
   "metadata": {
    "execution": {
     "iopub.execute_input": "2023-01-17T12:36:51.317953Z",
     "iopub.status.busy": "2023-01-17T12:36:51.317242Z",
     "iopub.status.idle": "2023-01-17T12:36:51.340928Z",
     "shell.execute_reply": "2023-01-17T12:36:51.339059Z"
    },
    "papermill": {
     "duration": 0.035689,
     "end_time": "2023-01-17T12:36:51.343615",
     "exception": false,
     "start_time": "2023-01-17T12:36:51.307926",
     "status": "completed"
    },
    "tags": []
   },
   "outputs": [
    {
     "name": "stdout",
     "output_type": "stream",
     "text": [
      "Train 정확도 0.0033538148868147433\n",
      "Test 정확도 0.0029189144565353597\n"
     ]
    }
   ],
   "source": [
    "# Linear Regression의 클래스 인스턴스 생성\n",
    "lm = LinearRegression()\n",
    "\n",
    "# lm.fit()를 호출하고 학습 데이터 전달\n",
    "# 이러면 트레이닝 포인트에 대한 가장 적합한 라인이 생성\n",
    "lm.fit(x_train, y_train)\n",
    "\n",
    "\n",
    "# 주어진 pH에 따라 품질을 예측하는 라인이 존재함\n",
    "# .predict()를 호출하여 가장 적합한 라인을 테스트\n",
    "# y_predict로 선형 회귀에 대한 예측을 나타냄\n",
    "# lm.score() -> 결정 계수(R^2)를 반환함. 관찰된 결과가 모델에 의해 얼마나 잘 복제되는지, 모델 결과를 총 변동 비율로 측정함\n",
    "y_predict = lm.predict(x_test)\n",
    "\n",
    "print(f\"Train 정확도 {lm.score(x_train, y_train)}\")\n",
    "print(f\"Test 정확도 {lm.score(x_test, y_test)}\")"
   ]
  },
  {
   "cell_type": "code",
   "execution_count": 9,
   "id": "b57890f5",
   "metadata": {
    "execution": {
     "iopub.execute_input": "2023-01-17T12:36:51.362515Z",
     "iopub.status.busy": "2023-01-17T12:36:51.362133Z",
     "iopub.status.idle": "2023-01-17T12:36:51.599374Z",
     "shell.execute_reply": "2023-01-17T12:36:51.598410Z"
    },
    "papermill": {
     "duration": 0.249877,
     "end_time": "2023-01-17T12:36:51.601675",
     "exception": false,
     "start_time": "2023-01-17T12:36:51.351798",
     "status": "completed"
    },
    "tags": []
   },
   "outputs": [
    {
     "data": {
      "text/plain": [
       "<function matplotlib.pyplot.plot(*args, scalex=True, scaley=True, data=None, **kwargs)>"
      ]
     },
     "execution_count": 9,
     "metadata": {},
     "output_type": "execute_result"
    },
    {
     "data": {
      "image/png": "[encoded data removed]",
      "text/plain": [
       "<Figure size 1440x864 with 1 Axes>"
      ]
     },
     "metadata": {
      "needs_background": "light"
     },
     "output_type": "display_data"
    }
   ],
   "source": [
    "plt.rcParams[\"figure.figsize\"]=[20,12]\n",
    "plt.scatter(x_train,y_train,color='orange')\n",
    "plt.plot(x_test,y_predict)\n",
    "plt.xlabel(\"pH\")\n",
    "plt.ylabel(\"quality\")\n",
    "plt.title(\"Trained model plot\")\n",
    "plt.plot"
   ]
  },
  {
   "cell_type": "markdown",
   "id": "9ed20b8b",
   "metadata": {
    "papermill": {
     "duration": 0.008158,
     "end_time": "2023-01-17T12:36:51.618571",
     "exception": false,
     "start_time": "2023-01-17T12:36:51.610413",
     "status": "completed"
    },
    "tags": []
   },
   "source": [
    "선형회귀에 의하면, 5에서 7 사이의 품질을 가진 대부분의 와인은 3에서 3.6 사이의 ph 범위를 갖는다는 결론 도출\n"
   ]
  },
  {
   "cell_type": "code",
   "execution_count": 10,
   "id": "ff765b89",
   "metadata": {
    "execution": {
     "iopub.execute_input": "2023-01-17T12:36:51.637987Z",
     "iopub.status.busy": "2023-01-17T12:36:51.637151Z",
     "iopub.status.idle": "2023-01-17T12:36:51.684869Z",
     "shell.execute_reply": "2023-01-17T12:36:51.683904Z"
    },
    "papermill": {
     "duration": 0.060751,
     "end_time": "2023-01-17T12:36:51.687970",
     "exception": false,
     "start_time": "2023-01-17T12:36:51.627219",
     "status": "completed"
    },
    "tags": []
   },
   "outputs": [
    {
     "data": {
      "text/html": [
       "<div>\n",
       "<style scoped>\n",
       "    .dataframe tbody tr th:only-of-type {\n",
       "        vertical-align: middle;\n",
       "    }\n",
       "\n",
       "    .dataframe tbody tr th {\n",
       "        vertical-align: top;\n",
       "    }\n",
       "\n",
       "    .dataframe thead th {\n",
       "        text-align: right;\n",
       "    }\n",
       "</style>\n",
       "<table border=\"1\" class=\"dataframe\">\n",
       "  <thead>\n",
       "    <tr style=\"text-align: right;\">\n",
       "      <th></th>\n",
       "      <th>fixed acidity</th>\n",
       "      <th>volatile acidity</th>\n",
       "      <th>citric acid</th>\n",
       "      <th>residual sugar</th>\n",
       "      <th>chlorides</th>\n",
       "      <th>free sulfur dioxide</th>\n",
       "      <th>total sulfur dioxide</th>\n",
       "      <th>density</th>\n",
       "      <th>pH</th>\n",
       "      <th>sulphates</th>\n",
       "      <th>alcohol</th>\n",
       "      <th>quality</th>\n",
       "    </tr>\n",
       "  </thead>\n",
       "  <tbody>\n",
       "    <tr>\n",
       "      <th>0</th>\n",
       "      <td>7.4</td>\n",
       "      <td>0.70</td>\n",
       "      <td>0.00</td>\n",
       "      <td>1.9</td>\n",
       "      <td>0.076</td>\n",
       "      <td>11.0</td>\n",
       "      <td>34.0</td>\n",
       "      <td>0.9978</td>\n",
       "      <td>3.51</td>\n",
       "      <td>0.56</td>\n",
       "      <td>9.4</td>\n",
       "      <td>5</td>\n",
       "    </tr>\n",
       "    <tr>\n",
       "      <th>1</th>\n",
       "      <td>7.8</td>\n",
       "      <td>0.88</td>\n",
       "      <td>0.00</td>\n",
       "      <td>2.6</td>\n",
       "      <td>0.098</td>\n",
       "      <td>25.0</td>\n",
       "      <td>67.0</td>\n",
       "      <td>0.9968</td>\n",
       "      <td>3.20</td>\n",
       "      <td>0.68</td>\n",
       "      <td>9.8</td>\n",
       "      <td>5</td>\n",
       "    </tr>\n",
       "    <tr>\n",
       "      <th>2</th>\n",
       "      <td>7.8</td>\n",
       "      <td>0.76</td>\n",
       "      <td>0.04</td>\n",
       "      <td>2.3</td>\n",
       "      <td>0.092</td>\n",
       "      <td>15.0</td>\n",
       "      <td>54.0</td>\n",
       "      <td>0.9970</td>\n",
       "      <td>3.26</td>\n",
       "      <td>0.65</td>\n",
       "      <td>9.8</td>\n",
       "      <td>5</td>\n",
       "    </tr>\n",
       "    <tr>\n",
       "      <th>3</th>\n",
       "      <td>11.2</td>\n",
       "      <td>0.28</td>\n",
       "      <td>0.56</td>\n",
       "      <td>1.9</td>\n",
       "      <td>0.075</td>\n",
       "      <td>17.0</td>\n",
       "      <td>60.0</td>\n",
       "      <td>0.9980</td>\n",
       "      <td>3.16</td>\n",
       "      <td>0.58</td>\n",
       "      <td>9.8</td>\n",
       "      <td>6</td>\n",
       "    </tr>\n",
       "    <tr>\n",
       "      <th>4</th>\n",
       "      <td>7.4</td>\n",
       "      <td>0.70</td>\n",
       "      <td>0.00</td>\n",
       "      <td>1.9</td>\n",
       "      <td>0.076</td>\n",
       "      <td>11.0</td>\n",
       "      <td>34.0</td>\n",
       "      <td>0.9978</td>\n",
       "      <td>3.51</td>\n",
       "      <td>0.56</td>\n",
       "      <td>9.4</td>\n",
       "      <td>5</td>\n",
       "    </tr>\n",
       "  </tbody>\n",
       "</table>\n",
       "</div>"
      ],
      "text/plain": [
       "   fixed acidity  volatile acidity  citric acid  residual sugar  chlorides  \\\n",
       "0            7.4              0.70         0.00             1.9      0.076   \n",
       "1            7.8              0.88         0.00             2.6      0.098   \n",
       "2            7.8              0.76         0.04             2.3      0.092   \n",
       "3           11.2              0.28         0.56             1.9      0.075   \n",
       "4            7.4              0.70         0.00             1.9      0.076   \n",
       "\n",
       "   free sulfur dioxide  total sulfur dioxide  density    pH  sulphates  \\\n",
       "0                 11.0                  34.0   0.9978  3.51       0.56   \n",
       "1                 25.0                  67.0   0.9968  3.20       0.68   \n",
       "2                 15.0                  54.0   0.9970  3.26       0.65   \n",
       "3                 17.0                  60.0   0.9980  3.16       0.58   \n",
       "4                 11.0                  34.0   0.9978  3.51       0.56   \n",
       "\n",
       "   alcohol  quality  \n",
       "0      9.4        5  \n",
       "1      9.8        5  \n",
       "2      9.8        5  \n",
       "3      9.8        6  \n",
       "4      9.4        5  "
      ]
     },
     "metadata": {},
     "output_type": "display_data"
    },
    {
     "name": "stdout",
     "output_type": "stream",
     "text": [
      "<class 'pandas.core.frame.DataFrame'>\n",
      "RangeIndex: 1599 entries, 0 to 1598\n",
      "Data columns (total 12 columns):\n",
      " #   Column                Non-Null Count  Dtype  \n",
      "---  ------                --------------  -----  \n",
      " 0   fixed acidity         1599 non-null   float64\n",
      " 1   volatile acidity      1599 non-null   float64\n",
      " 2   citric acid           1599 non-null   float64\n",
      " 3   residual sugar        1599 non-null   float64\n",
      " 4   chlorides             1599 non-null   float64\n",
      " 5   free sulfur dioxide   1599 non-null   float64\n",
      " 6   total sulfur dioxide  1599 non-null   float64\n",
      " 7   density               1599 non-null   float64\n",
      " 8   pH                    1599 non-null   float64\n",
      " 9   sulphates             1599 non-null   float64\n",
      " 10  alcohol               1599 non-null   float64\n",
      " 11  quality               1599 non-null   int64  \n",
      "dtypes: float64(11), int64(1)\n",
      "memory usage: 150.0 KB\n"
     ]
    }
   ],
   "source": [
    "import pandas as pd\n",
    "\n",
    "red_wine = pd.read_csv(\"/kaggle/input/red-wine-quality-cortez-et-al-2009/winequality-red.csv\")\n",
    "display(red_wine.head(5))\n",
    "red_wine.info()"
   ]
  },
  {
   "cell_type": "markdown",
   "id": "5aeea7f1",
   "metadata": {
    "papermill": {
     "duration": 0.008681,
     "end_time": "2023-01-17T12:36:51.706023",
     "exception": false,
     "start_time": "2023-01-17T12:36:51.697342",
     "status": "completed"
    },
    "tags": []
   },
   "source": [
    "Quality로 분류 예측하는 것이 목표.\n",
    "퀄리티의 기준은 7로 분류."
   ]
  },
  {
   "cell_type": "code",
   "execution_count": 11,
   "id": "e5692a6a",
   "metadata": {
    "execution": {
     "iopub.execute_input": "2023-01-17T12:36:51.726466Z",
     "iopub.status.busy": "2023-01-17T12:36:51.725306Z",
     "iopub.status.idle": "2023-01-17T12:36:51.736022Z",
     "shell.execute_reply": "2023-01-17T12:36:51.734796Z"
    },
    "papermill": {
     "duration": 0.02345,
     "end_time": "2023-01-17T12:36:51.738544",
     "exception": false,
     "start_time": "2023-01-17T12:36:51.715094",
     "status": "completed"
    },
    "tags": []
   },
   "outputs": [
    {
     "name": "stdout",
     "output_type": "stream",
     "text": [
      "0    1382\n",
      "1     217\n",
      "Name: target, dtype: int64\n"
     ]
    }
   ],
   "source": [
    "def binary_quality(x):\n",
    "    target = None\n",
    "    if x >= 7:\n",
    "        target = 1\n",
    "    else:\n",
    "        target = 0\n",
    "    return target\n",
    "\n",
    "red_wine['target'] = red_wine['quality'].apply(lambda x : binary_quality(x))\n",
    "print(red_wine['target'].value_counts())"
   ]
  },
  {
   "cell_type": "markdown",
   "id": "afe7508b",
   "metadata": {
    "papermill": {
     "duration": 0.008612,
     "end_time": "2023-01-17T12:36:51.756116",
     "exception": false,
     "start_time": "2023-01-17T12:36:51.747504",
     "status": "completed"
    },
    "tags": []
   },
   "source": [
    "7 이상인 와인이 217, 미만인 와인이 1382인 모습"
   ]
  },
  {
   "cell_type": "code",
   "execution_count": 12,
   "id": "13dd6628",
   "metadata": {
    "execution": {
     "iopub.execute_input": "2023-01-17T12:36:51.776051Z",
     "iopub.status.busy": "2023-01-17T12:36:51.775620Z",
     "iopub.status.idle": "2023-01-17T12:36:51.801940Z",
     "shell.execute_reply": "2023-01-17T12:36:51.801039Z"
    },
    "papermill": {
     "duration": 0.039221,
     "end_time": "2023-01-17T12:36:51.804366",
     "exception": false,
     "start_time": "2023-01-17T12:36:51.765145",
     "status": "completed"
    },
    "tags": []
   },
   "outputs": [
    {
     "data": {
      "text/html": [
       "<div>\n",
       "<style scoped>\n",
       "    .dataframe tbody tr th:only-of-type {\n",
       "        vertical-align: middle;\n",
       "    }\n",
       "\n",
       "    .dataframe tbody tr th {\n",
       "        vertical-align: top;\n",
       "    }\n",
       "\n",
       "    .dataframe thead th {\n",
       "        text-align: right;\n",
       "    }\n",
       "</style>\n",
       "<table border=\"1\" class=\"dataframe\">\n",
       "  <thead>\n",
       "    <tr style=\"text-align: right;\">\n",
       "      <th></th>\n",
       "      <th>fixed acidity</th>\n",
       "      <th>volatile acidity</th>\n",
       "      <th>citric acid</th>\n",
       "      <th>residual sugar</th>\n",
       "      <th>chlorides</th>\n",
       "      <th>free sulfur dioxide</th>\n",
       "      <th>total sulfur dioxide</th>\n",
       "      <th>density</th>\n",
       "      <th>pH</th>\n",
       "      <th>sulphates</th>\n",
       "      <th>alcohol</th>\n",
       "    </tr>\n",
       "  </thead>\n",
       "  <tbody>\n",
       "    <tr>\n",
       "      <th>0</th>\n",
       "      <td>7.4</td>\n",
       "      <td>0.70</td>\n",
       "      <td>0.00</td>\n",
       "      <td>1.9</td>\n",
       "      <td>0.076</td>\n",
       "      <td>11.0</td>\n",
       "      <td>34.0</td>\n",
       "      <td>0.9978</td>\n",
       "      <td>3.51</td>\n",
       "      <td>0.56</td>\n",
       "      <td>9.4</td>\n",
       "    </tr>\n",
       "    <tr>\n",
       "      <th>1</th>\n",
       "      <td>7.8</td>\n",
       "      <td>0.88</td>\n",
       "      <td>0.00</td>\n",
       "      <td>2.6</td>\n",
       "      <td>0.098</td>\n",
       "      <td>25.0</td>\n",
       "      <td>67.0</td>\n",
       "      <td>0.9968</td>\n",
       "      <td>3.20</td>\n",
       "      <td>0.68</td>\n",
       "      <td>9.8</td>\n",
       "    </tr>\n",
       "    <tr>\n",
       "      <th>2</th>\n",
       "      <td>7.8</td>\n",
       "      <td>0.76</td>\n",
       "      <td>0.04</td>\n",
       "      <td>2.3</td>\n",
       "      <td>0.092</td>\n",
       "      <td>15.0</td>\n",
       "      <td>54.0</td>\n",
       "      <td>0.9970</td>\n",
       "      <td>3.26</td>\n",
       "      <td>0.65</td>\n",
       "      <td>9.8</td>\n",
       "    </tr>\n",
       "    <tr>\n",
       "      <th>3</th>\n",
       "      <td>11.2</td>\n",
       "      <td>0.28</td>\n",
       "      <td>0.56</td>\n",
       "      <td>1.9</td>\n",
       "      <td>0.075</td>\n",
       "      <td>17.0</td>\n",
       "      <td>60.0</td>\n",
       "      <td>0.9980</td>\n",
       "      <td>3.16</td>\n",
       "      <td>0.58</td>\n",
       "      <td>9.8</td>\n",
       "    </tr>\n",
       "    <tr>\n",
       "      <th>4</th>\n",
       "      <td>7.4</td>\n",
       "      <td>0.70</td>\n",
       "      <td>0.00</td>\n",
       "      <td>1.9</td>\n",
       "      <td>0.076</td>\n",
       "      <td>11.0</td>\n",
       "      <td>34.0</td>\n",
       "      <td>0.9978</td>\n",
       "      <td>3.51</td>\n",
       "      <td>0.56</td>\n",
       "      <td>9.4</td>\n",
       "    </tr>\n",
       "  </tbody>\n",
       "</table>\n",
       "</div>"
      ],
      "text/plain": [
       "   fixed acidity  volatile acidity  citric acid  residual sugar  chlorides  \\\n",
       "0            7.4              0.70         0.00             1.9      0.076   \n",
       "1            7.8              0.88         0.00             2.6      0.098   \n",
       "2            7.8              0.76         0.04             2.3      0.092   \n",
       "3           11.2              0.28         0.56             1.9      0.075   \n",
       "4            7.4              0.70         0.00             1.9      0.076   \n",
       "\n",
       "   free sulfur dioxide  total sulfur dioxide  density    pH  sulphates  \\\n",
       "0                 11.0                  34.0   0.9978  3.51       0.56   \n",
       "1                 25.0                  67.0   0.9968  3.20       0.68   \n",
       "2                 15.0                  54.0   0.9970  3.26       0.65   \n",
       "3                 17.0                  60.0   0.9980  3.16       0.58   \n",
       "4                 11.0                  34.0   0.9978  3.51       0.56   \n",
       "\n",
       "   alcohol  \n",
       "0      9.4  \n",
       "1      9.8  \n",
       "2      9.8  \n",
       "3      9.8  \n",
       "4      9.4  "
      ]
     },
     "metadata": {},
     "output_type": "display_data"
    },
    {
     "data": {
      "text/plain": [
       "0    0\n",
       "1    0\n",
       "2    0\n",
       "3    0\n",
       "4    0\n",
       "Name: target, dtype: int64"
      ]
     },
     "metadata": {},
     "output_type": "display_data"
    }
   ],
   "source": [
    "wine_y = red_wine['target']\n",
    "#필요없는 데이터 값들 제거, y의 label의 형태 파악\n",
    "wine_x = red_wine.drop(['target', 'quality'], axis = 1)\n",
    "display(wine_x.head())\n",
    "display(wine_y.head())"
   ]
  },
  {
   "cell_type": "code",
   "execution_count": 13,
   "id": "84a4f86a",
   "metadata": {
    "execution": {
     "iopub.execute_input": "2023-01-17T12:36:51.825128Z",
     "iopub.status.busy": "2023-01-17T12:36:51.824675Z",
     "iopub.status.idle": "2023-01-17T12:36:51.835650Z",
     "shell.execute_reply": "2023-01-17T12:36:51.834324Z"
    },
    "papermill": {
     "duration": 0.024483,
     "end_time": "2023-01-17T12:36:51.838421",
     "exception": false,
     "start_time": "2023-01-17T12:36:51.813938",
     "status": "completed"
    },
    "tags": []
   },
   "outputs": [],
   "source": [
    "from sklearn.model_selection import train_test_split\n",
    "\n",
    "#test set을 20%, trainnig set을 80%로 설정\n",
    "x_train, x_test, y_train, y_test = train_test_split(wine_x, wine_y,\n",
    "                                                    test_size = 0.2,\n",
    "                                                    stratify=wine_y,\n",
    "                                                    random_state = 12)"
   ]
  },
  {
   "cell_type": "code",
   "execution_count": 14,
   "id": "be2e92e4",
   "metadata": {
    "execution": {
     "iopub.execute_input": "2023-01-17T12:36:51.859435Z",
     "iopub.status.busy": "2023-01-17T12:36:51.859011Z",
     "iopub.status.idle": "2023-01-17T12:36:51.873526Z",
     "shell.execute_reply": "2023-01-17T12:36:51.871938Z"
    },
    "papermill": {
     "duration": 0.028373,
     "end_time": "2023-01-17T12:36:51.876341",
     "exception": false,
     "start_time": "2023-01-17T12:36:51.847968",
     "status": "completed"
    },
    "tags": []
   },
   "outputs": [
    {
     "name": "stdout",
     "output_type": "stream",
     "text": [
      "[[0.22123894 0.40410959 0.         ... 0.53043478 0.13333333 0.15384615]\n",
      " [0.25663717 0.19863014 0.18987342 ... 0.24347826 0.15151515 0.10769231]\n",
      " [0.2300885  0.15068493 0.26582278 ... 0.44347826 0.12727273 0.26153846]\n",
      " ...\n",
      " [0.20353982 0.49315068 0.26582278 ... 0.5826087  0.23636364 0.12820513]\n",
      " [0.25663717 0.32191781 0.27848101 ... 0.20869565 0.05454545 0.12307692]\n",
      " [0.92035398 0.06164384 0.55696203 ... 0.1826087  0.30909091 0.12307692]]\n"
     ]
    }
   ],
   "source": [
    "#데이터 전처리\n",
    "from sklearn.preprocessing import MinMaxScaler\n",
    "\n",
    "scaler = MinMaxScaler()\n",
    "\n",
    "scaler.fit(x_train)\n",
    "\n",
    "x_train = scaler.transform(x_train)\n",
    "x_test = scaler.transform(x_test)\n",
    "\n",
    "print(x_train)"
   ]
  },
  {
   "cell_type": "code",
   "execution_count": 15,
   "id": "da2707cf",
   "metadata": {
    "execution": {
     "iopub.execute_input": "2023-01-17T12:36:51.897296Z",
     "iopub.status.busy": "2023-01-17T12:36:51.896885Z",
     "iopub.status.idle": "2023-01-17T12:36:55.611366Z",
     "shell.execute_reply": "2023-01-17T12:36:55.610013Z"
    },
    "papermill": {
     "duration": 3.727718,
     "end_time": "2023-01-17T12:36:55.613611",
     "exception": false,
     "start_time": "2023-01-17T12:36:51.885893",
     "status": "completed"
    },
    "tags": []
   },
   "outputs": [
    {
     "name": "stdout",
     "output_type": "stream",
     "text": [
      "random forest 평균 정확도:  0.9007\n",
      "XGBoost 평균 정확도:  0.8976\n",
      "LogisticRegression 평균 정확도:  0.8718\n"
     ]
    }
   ],
   "source": [
    "import numpy as np\n",
    "from sklearn.model_selection import cross_val_score\n",
    "from sklearn.ensemble import RandomForestClassifier\n",
    "from sklearn.linear_model import LogisticRegression\n",
    "from xgboost import XGBClassifier\n",
    "\n",
    "rfc = RandomForestClassifier(random_state=12)\n",
    "xgb = XGBClassifier(random_state=12)\n",
    "lrg = LogisticRegression(solver='liblinear', random_state=12)\n",
    "\n",
    "rfc_cv_scores = cross_val_score(rfc, x_train , y_train , cv=5)\n",
    "xgb_cv_scores = cross_val_score(xgb, x_train , y_train , cv=5)\n",
    "lrg_cv_scores = cross_val_score(lrg, x_train , y_train , cv=5)\n",
    "\n",
    "print(\"random forest 평균 정확도: \", round(np.mean(rfc_cv_scores), 4))\n",
    "print(\"XGBoost 평균 정확도: \", round(np.mean(xgb_cv_scores), 4))\n",
    "print(\"LogisticRegression 평균 정확도: \", round(np.mean(lrg_cv_scores), 4))"
   ]
  },
  {
   "cell_type": "code",
   "execution_count": 16,
   "id": "829402d9",
   "metadata": {
    "execution": {
     "iopub.execute_input": "2023-01-17T12:36:55.635135Z",
     "iopub.status.busy": "2023-01-17T12:36:55.634145Z",
     "iopub.status.idle": "2023-01-17T12:36:55.948904Z",
     "shell.execute_reply": "2023-01-17T12:36:55.947749Z"
    },
    "papermill": {
     "duration": 0.328173,
     "end_time": "2023-01-17T12:36:55.951573",
     "exception": false,
     "start_time": "2023-01-17T12:36:55.623400",
     "status": "completed"
    },
    "tags": []
   },
   "outputs": [
    {
     "name": "stdout",
     "output_type": "stream",
     "text": [
      " test 데이터에서의 RandomForestClassifier 정확도: 0.9094\n",
      " test 데이터에서의 LogisticRegression 정확도: 0.8844\n"
     ]
    }
   ],
   "source": [
    "rfc.fit(x_train , y_train)\n",
    "lrg.fit(x_train, y_train)\n",
    "pred = rfc.predict(x_test)\n",
    "pred2 = lrg.predict(x_test)\n",
    "accuracy = accuracy_score(y_test, pred)\n",
    "accuracy2 = accuracy_score(y_test, pred2)\n",
    "\n",
    "print(\" test 데이터에서의 RandomForestClassifier 정확도:\", round(accuracy,4))\n",
    "print(\" test 데이터에서의 LogisticRegression 정확도:\", round(accuracy2,4))"
   ]
  },
  {
   "cell_type": "code",
   "execution_count": 17,
   "id": "7d00aad5",
   "metadata": {
    "execution": {
     "iopub.execute_input": "2023-01-17T12:36:55.972664Z",
     "iopub.status.busy": "2023-01-17T12:36:55.972229Z",
     "iopub.status.idle": "2023-01-17T12:37:01.515646Z",
     "shell.execute_reply": "2023-01-17T12:37:01.514286Z"
    },
    "papermill": {
     "duration": 5.557389,
     "end_time": "2023-01-17T12:37:01.518586",
     "exception": false,
     "start_time": "2023-01-17T12:36:55.961197",
     "status": "completed"
    },
    "tags": []
   },
   "outputs": [],
   "source": [
    "import tensorflow as tf\n",
    "import numpy as np\n",
    "import matplotlib.pyplot as plt"
   ]
  },
  {
   "cell_type": "code",
   "execution_count": 18,
   "id": "3cade5a8",
   "metadata": {
    "execution": {
     "iopub.execute_input": "2023-01-17T12:37:01.540603Z",
     "iopub.status.busy": "2023-01-17T12:37:01.539576Z",
     "iopub.status.idle": "2023-01-17T12:37:02.826866Z",
     "shell.execute_reply": "2023-01-17T12:37:02.825600Z"
    },
    "papermill": {
     "duration": 1.302002,
     "end_time": "2023-01-17T12:37:02.830608",
     "exception": false,
     "start_time": "2023-01-17T12:37:01.528606",
     "status": "completed"
    },
    "tags": []
   },
   "outputs": [
    {
     "name": "stdout",
     "output_type": "stream",
     "text": [
      "Model: \"sequential\"\n",
      "_________________________________________________________________\n",
      "Layer (type)                 Output Shape              Param #   \n",
      "=================================================================\n",
      "dense (Dense)                (None, 40)                480       \n",
      "_________________________________________________________________\n",
      "dense_1 (Dense)              (None, 20)                820       \n",
      "_________________________________________________________________\n",
      "dense_2 (Dense)              (None, 20)                420       \n",
      "_________________________________________________________________\n",
      "dense_3 (Dense)              (None, 1)                 21        \n",
      "_________________________________________________________________\n",
      "flatten (Flatten)            (None, 1)                 0         \n",
      "=================================================================\n",
      "Total params: 1,741\n",
      "Trainable params: 1,741\n",
      "Non-trainable params: 0\n",
      "_________________________________________________________________\n"
     ]
    },
    {
     "name": "stderr",
     "output_type": "stream",
     "text": [
      "2023-01-17 12:37:02.731460: I tensorflow/core/common_runtime/process_util.cc:146] Creating new thread pool with default inter op setting: 2. Tune using inter_op_parallelism_threads for best performance.\n"
     ]
    }
   ],
   "source": [
    "model = tf.keras.models.Sequential([\n",
    "    tf.keras.Input(shape=(11,)),\n",
    "    tf.keras.layers.Dense(units= 40, activation = 'relu'),\n",
    "    tf.keras.layers.Dense(units = 20, activation='relu'),\n",
    "    tf.keras.layers.Dense(units = 20, activation='relu'),\n",
    "    tf.keras.layers.Dense(units= 1,  activation='sigmoid'),\n",
    "    tf.keras.layers.Flatten(),\n",
    "])\n",
    "model.summary()"
   ]
  },
  {
   "cell_type": "markdown",
   "id": "3aa5576d",
   "metadata": {
    "papermill": {
     "duration": 0.009407,
     "end_time": "2023-01-17T12:37:02.849924",
     "exception": false,
     "start_time": "2023-01-17T12:37:02.840517",
     "status": "completed"
    },
    "tags": []
   },
   "source": [
    "품질에 따라 1과 0으로 분류하는 단순이진분류가 목적이므로, 손실함수로 binary_crossEntropy를 사용하는 것이 유리함.\n",
    "binary_crossEntropy는 결과값을 sigmoid의 형태로 출력하므로 가장 마지막 계층에는 sigmoid를 사용해야 함."
   ]
  },
  {
   "cell_type": "code",
   "execution_count": 19,
   "id": "2382bb2d",
   "metadata": {
    "execution": {
     "iopub.execute_input": "2023-01-17T12:37:02.871524Z",
     "iopub.status.busy": "2023-01-17T12:37:02.871136Z",
     "iopub.status.idle": "2023-01-17T12:37:07.518225Z",
     "shell.execute_reply": "2023-01-17T12:37:07.516887Z"
    },
    "papermill": {
     "duration": 4.661027,
     "end_time": "2023-01-17T12:37:07.520762",
     "exception": false,
     "start_time": "2023-01-17T12:37:02.859735",
     "status": "completed"
    },
    "tags": []
   },
   "outputs": [
    {
     "name": "stderr",
     "output_type": "stream",
     "text": [
      "2023-01-17 12:37:02.979437: I tensorflow/compiler/mlir/mlir_graph_optimization_pass.cc:185] None of the MLIR Optimization Passes are enabled (registered 2)\n"
     ]
    },
    {
     "name": "stdout",
     "output_type": "stream",
     "text": [
      "Epoch 1/200\n",
      "3/3 [==============================] - 1s 6ms/step - loss: 0.5808 - accuracy: 0.8640\n",
      "Epoch 2/200\n",
      "3/3 [==============================] - 0s 5ms/step - loss: 0.4244 - accuracy: 0.8640\n",
      "Epoch 3/200\n",
      "3/3 [==============================] - 0s 4ms/step - loss: 0.4179 - accuracy: 0.8640\n",
      "Epoch 4/200\n",
      "3/3 [==============================] - 0s 4ms/step - loss: 0.3798 - accuracy: 0.8640\n",
      "Epoch 5/200\n",
      "3/3 [==============================] - 0s 5ms/step - loss: 0.3567 - accuracy: 0.8640\n",
      "Epoch 6/200\n",
      "3/3 [==============================] - 0s 4ms/step - loss: 0.3373 - accuracy: 0.8640\n",
      "Epoch 7/200\n",
      "3/3 [==============================] - 0s 4ms/step - loss: 0.3206 - accuracy: 0.8640\n",
      "Epoch 8/200\n",
      "3/3 [==============================] - 0s 4ms/step - loss: 0.3042 - accuracy: 0.8655\n",
      "Epoch 9/200\n",
      "3/3 [==============================] - 0s 5ms/step - loss: 0.2941 - accuracy: 0.8686\n",
      "Epoch 10/200\n",
      "3/3 [==============================] - 0s 5ms/step - loss: 0.2879 - accuracy: 0.8679\n",
      "Epoch 11/200\n",
      "3/3 [==============================] - 0s 4ms/step - loss: 0.2880 - accuracy: 0.8726\n",
      "Epoch 12/200\n",
      "3/3 [==============================] - 0s 4ms/step - loss: 0.2826 - accuracy: 0.8733\n",
      "Epoch 13/200\n",
      "3/3 [==============================] - 0s 5ms/step - loss: 0.2815 - accuracy: 0.8710\n",
      "Epoch 14/200\n",
      "3/3 [==============================] - 0s 4ms/step - loss: 0.2803 - accuracy: 0.8710\n",
      "Epoch 15/200\n",
      "3/3 [==============================] - 0s 5ms/step - loss: 0.2767 - accuracy: 0.8702\n",
      "Epoch 16/200\n",
      "3/3 [==============================] - 0s 4ms/step - loss: 0.2749 - accuracy: 0.8702\n",
      "Epoch 17/200\n",
      "3/3 [==============================] - 0s 4ms/step - loss: 0.2736 - accuracy: 0.8741\n",
      "Epoch 18/200\n",
      "3/3 [==============================] - 0s 4ms/step - loss: 0.2732 - accuracy: 0.8796\n",
      "Epoch 19/200\n",
      "3/3 [==============================] - 0s 5ms/step - loss: 0.2726 - accuracy: 0.8741\n",
      "Epoch 20/200\n",
      "3/3 [==============================] - 0s 5ms/step - loss: 0.2710 - accuracy: 0.8788\n",
      "Epoch 21/200\n",
      "3/3 [==============================] - 0s 4ms/step - loss: 0.2693 - accuracy: 0.8765\n",
      "Epoch 22/200\n",
      "3/3 [==============================] - 0s 4ms/step - loss: 0.2708 - accuracy: 0.8765\n",
      "Epoch 23/200\n",
      "3/3 [==============================] - 0s 4ms/step - loss: 0.2684 - accuracy: 0.8780\n",
      "Epoch 24/200\n",
      "3/3 [==============================] - 0s 4ms/step - loss: 0.2682 - accuracy: 0.8765\n",
      "Epoch 25/200\n",
      "3/3 [==============================] - 0s 5ms/step - loss: 0.2697 - accuracy: 0.8772\n",
      "Epoch 26/200\n",
      "3/3 [==============================] - 0s 4ms/step - loss: 0.2715 - accuracy: 0.8851\n",
      "Epoch 27/200\n",
      "3/3 [==============================] - 0s 4ms/step - loss: 0.2683 - accuracy: 0.8765\n",
      "Epoch 28/200\n",
      "3/3 [==============================] - 0s 4ms/step - loss: 0.2667 - accuracy: 0.8788\n",
      "Epoch 29/200\n",
      "3/3 [==============================] - 0s 4ms/step - loss: 0.2668 - accuracy: 0.8819\n",
      "Epoch 30/200\n",
      "3/3 [==============================] - 0s 4ms/step - loss: 0.2654 - accuracy: 0.8796\n",
      "Epoch 31/200\n",
      "3/3 [==============================] - 0s 5ms/step - loss: 0.2688 - accuracy: 0.8780\n",
      "Epoch 32/200\n",
      "3/3 [==============================] - 0s 6ms/step - loss: 0.2680 - accuracy: 0.8741\n",
      "Epoch 33/200\n",
      "3/3 [==============================] - 0s 5ms/step - loss: 0.2639 - accuracy: 0.8780\n",
      "Epoch 34/200\n",
      "3/3 [==============================] - 0s 4ms/step - loss: 0.2666 - accuracy: 0.8772\n",
      "Epoch 35/200\n",
      "3/3 [==============================] - 0s 4ms/step - loss: 0.2621 - accuracy: 0.8796\n",
      "Epoch 36/200\n",
      "3/3 [==============================] - 0s 4ms/step - loss: 0.2623 - accuracy: 0.8858\n",
      "Epoch 37/200\n",
      "3/3 [==============================] - 0s 4ms/step - loss: 0.2610 - accuracy: 0.8780\n",
      "Epoch 38/200\n",
      "3/3 [==============================] - 0s 5ms/step - loss: 0.2604 - accuracy: 0.8780\n",
      "Epoch 39/200\n",
      "3/3 [==============================] - 0s 4ms/step - loss: 0.2594 - accuracy: 0.8851\n",
      "Epoch 40/200\n",
      "3/3 [==============================] - 0s 4ms/step - loss: 0.2586 - accuracy: 0.8757\n",
      "Epoch 41/200\n",
      "3/3 [==============================] - 0s 4ms/step - loss: 0.2582 - accuracy: 0.8819\n",
      "Epoch 42/200\n",
      "3/3 [==============================] - 0s 4ms/step - loss: 0.2579 - accuracy: 0.8827\n",
      "Epoch 43/200\n",
      "3/3 [==============================] - 0s 4ms/step - loss: 0.2559 - accuracy: 0.8866\n",
      "Epoch 44/200\n",
      "3/3 [==============================] - 0s 4ms/step - loss: 0.2548 - accuracy: 0.8835\n",
      "Epoch 45/200\n",
      "3/3 [==============================] - 0s 4ms/step - loss: 0.2548 - accuracy: 0.8819\n",
      "Epoch 46/200\n",
      "3/3 [==============================] - 0s 5ms/step - loss: 0.2542 - accuracy: 0.8757\n",
      "Epoch 47/200\n",
      "3/3 [==============================] - 0s 5ms/step - loss: 0.2542 - accuracy: 0.8812\n",
      "Epoch 48/200\n",
      "3/3 [==============================] - 0s 4ms/step - loss: 0.2531 - accuracy: 0.8788\n",
      "Epoch 49/200\n",
      "3/3 [==============================] - 0s 4ms/step - loss: 0.2511 - accuracy: 0.8819\n",
      "Epoch 50/200\n",
      "3/3 [==============================] - 0s 5ms/step - loss: 0.2520 - accuracy: 0.8812\n",
      "Epoch 51/200\n",
      "3/3 [==============================] - 0s 4ms/step - loss: 0.2537 - accuracy: 0.8835\n",
      "Epoch 52/200\n",
      "3/3 [==============================] - 0s 5ms/step - loss: 0.2581 - accuracy: 0.8804\n",
      "Epoch 53/200\n",
      "3/3 [==============================] - 0s 4ms/step - loss: 0.2600 - accuracy: 0.8890\n",
      "Epoch 54/200\n",
      "3/3 [==============================] - 0s 4ms/step - loss: 0.2548 - accuracy: 0.8804\n",
      "Epoch 55/200\n",
      "3/3 [==============================] - 0s 4ms/step - loss: 0.2519 - accuracy: 0.8882\n",
      "Epoch 56/200\n",
      "3/3 [==============================] - 0s 5ms/step - loss: 0.2488 - accuracy: 0.8812\n",
      "Epoch 57/200\n",
      "3/3 [==============================] - 0s 5ms/step - loss: 0.2543 - accuracy: 0.8780\n",
      "Epoch 58/200\n",
      "3/3 [==============================] - 0s 4ms/step - loss: 0.2458 - accuracy: 0.8788\n",
      "Epoch 59/200\n",
      "3/3 [==============================] - 0s 5ms/step - loss: 0.2458 - accuracy: 0.8819\n",
      "Epoch 60/200\n",
      "3/3 [==============================] - 0s 5ms/step - loss: 0.2473 - accuracy: 0.8835\n",
      "Epoch 61/200\n",
      "3/3 [==============================] - 0s 4ms/step - loss: 0.2515 - accuracy: 0.8827\n",
      "Epoch 62/200\n",
      "3/3 [==============================] - 0s 5ms/step - loss: 0.2446 - accuracy: 0.8819\n",
      "Epoch 63/200\n",
      "3/3 [==============================] - 0s 4ms/step - loss: 0.2452 - accuracy: 0.8827\n",
      "Epoch 64/200\n",
      "3/3 [==============================] - 0s 5ms/step - loss: 0.2473 - accuracy: 0.8843\n",
      "Epoch 65/200\n",
      "3/3 [==============================] - 0s 5ms/step - loss: 0.2479 - accuracy: 0.8819\n",
      "Epoch 66/200\n",
      "3/3 [==============================] - 0s 5ms/step - loss: 0.2502 - accuracy: 0.8851\n",
      "Epoch 67/200\n",
      "3/3 [==============================] - 0s 4ms/step - loss: 0.2498 - accuracy: 0.8804\n",
      "Epoch 68/200\n",
      "3/3 [==============================] - 0s 4ms/step - loss: 0.2521 - accuracy: 0.8812\n",
      "Epoch 69/200\n",
      "3/3 [==============================] - 0s 4ms/step - loss: 0.2482 - accuracy: 0.8827\n",
      "Epoch 70/200\n",
      "3/3 [==============================] - 0s 5ms/step - loss: 0.2430 - accuracy: 0.8772\n",
      "Epoch 71/200\n",
      "3/3 [==============================] - 0s 5ms/step - loss: 0.2456 - accuracy: 0.8882\n",
      "Epoch 72/200\n",
      "3/3 [==============================] - 0s 4ms/step - loss: 0.2447 - accuracy: 0.8812\n",
      "Epoch 73/200\n",
      "3/3 [==============================] - 0s 5ms/step - loss: 0.2482 - accuracy: 0.8835\n",
      "Epoch 74/200\n",
      "3/3 [==============================] - 0s 5ms/step - loss: 0.2429 - accuracy: 0.8827\n",
      "Epoch 75/200\n",
      "3/3 [==============================] - 0s 4ms/step - loss: 0.2436 - accuracy: 0.8819\n",
      "Epoch 76/200\n",
      "3/3 [==============================] - 0s 5ms/step - loss: 0.2456 - accuracy: 0.8788\n",
      "Epoch 77/200\n",
      "3/3 [==============================] - 0s 5ms/step - loss: 0.2434 - accuracy: 0.8835\n",
      "Epoch 78/200\n",
      "3/3 [==============================] - 0s 5ms/step - loss: 0.2405 - accuracy: 0.8851\n",
      "Epoch 79/200\n",
      "3/3 [==============================] - 0s 4ms/step - loss: 0.2426 - accuracy: 0.8796\n",
      "Epoch 80/200\n",
      "3/3 [==============================] - 0s 4ms/step - loss: 0.2497 - accuracy: 0.8882\n",
      "Epoch 81/200\n",
      "3/3 [==============================] - 0s 4ms/step - loss: 0.2471 - accuracy: 0.8858\n",
      "Epoch 82/200\n",
      "3/3 [==============================] - 0s 5ms/step - loss: 0.2426 - accuracy: 0.8843\n",
      "Epoch 83/200\n",
      "3/3 [==============================] - 0s 5ms/step - loss: 0.2417 - accuracy: 0.8874\n",
      "Epoch 84/200\n",
      "3/3 [==============================] - 0s 4ms/step - loss: 0.2439 - accuracy: 0.8858\n",
      "Epoch 85/200\n",
      "3/3 [==============================] - 0s 5ms/step - loss: 0.2463 - accuracy: 0.8890\n",
      "Epoch 86/200\n",
      "3/3 [==============================] - 0s 4ms/step - loss: 0.2438 - accuracy: 0.8819\n",
      "Epoch 87/200\n",
      "3/3 [==============================] - 0s 4ms/step - loss: 0.2381 - accuracy: 0.8858\n",
      "Epoch 88/200\n",
      "3/3 [==============================] - 0s 5ms/step - loss: 0.2458 - accuracy: 0.8905\n",
      "Epoch 89/200\n",
      "3/3 [==============================] - 0s 4ms/step - loss: 0.2393 - accuracy: 0.8843\n",
      "Epoch 90/200\n",
      "3/3 [==============================] - 0s 4ms/step - loss: 0.2388 - accuracy: 0.8812\n",
      "Epoch 91/200\n",
      "3/3 [==============================] - 0s 4ms/step - loss: 0.2360 - accuracy: 0.8827\n",
      "Epoch 92/200\n",
      "3/3 [==============================] - 0s 4ms/step - loss: 0.2348 - accuracy: 0.8819\n",
      "Epoch 93/200\n",
      "3/3 [==============================] - 0s 5ms/step - loss: 0.2344 - accuracy: 0.8866\n",
      "Epoch 94/200\n",
      "3/3 [==============================] - 0s 4ms/step - loss: 0.2339 - accuracy: 0.8851\n",
      "Epoch 95/200\n",
      "3/3 [==============================] - 0s 5ms/step - loss: 0.2377 - accuracy: 0.8913\n",
      "Epoch 96/200\n",
      "3/3 [==============================] - 0s 5ms/step - loss: 0.2359 - accuracy: 0.8812\n",
      "Epoch 97/200\n",
      "3/3 [==============================] - 0s 5ms/step - loss: 0.2354 - accuracy: 0.8858\n",
      "Epoch 98/200\n",
      "3/3 [==============================] - 0s 4ms/step - loss: 0.2354 - accuracy: 0.8866\n",
      "Epoch 99/200\n",
      "3/3 [==============================] - 0s 4ms/step - loss: 0.2318 - accuracy: 0.8866\n",
      "Epoch 100/200\n",
      "3/3 [==============================] - 0s 4ms/step - loss: 0.2344 - accuracy: 0.8882\n",
      "Epoch 101/200\n",
      "3/3 [==============================] - 0s 5ms/step - loss: 0.2340 - accuracy: 0.8843\n",
      "Epoch 102/200\n",
      "3/3 [==============================] - 0s 5ms/step - loss: 0.2322 - accuracy: 0.8851\n",
      "Epoch 103/200\n",
      "3/3 [==============================] - 0s 4ms/step - loss: 0.2329 - accuracy: 0.8890\n",
      "Epoch 104/200\n",
      "3/3 [==============================] - 0s 5ms/step - loss: 0.2331 - accuracy: 0.8858\n",
      "Epoch 105/200\n",
      "3/3 [==============================] - 0s 4ms/step - loss: 0.2315 - accuracy: 0.8866\n",
      "Epoch 106/200\n",
      "3/3 [==============================] - 0s 4ms/step - loss: 0.2325 - accuracy: 0.8827\n",
      "Epoch 107/200\n",
      "3/3 [==============================] - 0s 5ms/step - loss: 0.2306 - accuracy: 0.8866\n",
      "Epoch 108/200\n",
      "3/3 [==============================] - 0s 5ms/step - loss: 0.2319 - accuracy: 0.8843\n",
      "Epoch 109/200\n",
      "3/3 [==============================] - 0s 5ms/step - loss: 0.2277 - accuracy: 0.8874\n",
      "Epoch 110/200\n",
      "3/3 [==============================] - 0s 5ms/step - loss: 0.2290 - accuracy: 0.8968\n",
      "Epoch 111/200\n",
      "3/3 [==============================] - 0s 5ms/step - loss: 0.2291 - accuracy: 0.8866\n",
      "Epoch 112/200\n",
      "3/3 [==============================] - 0s 4ms/step - loss: 0.2325 - accuracy: 0.8968\n",
      "Epoch 113/200\n",
      "3/3 [==============================] - 0s 4ms/step - loss: 0.2300 - accuracy: 0.8874\n",
      "Epoch 114/200\n",
      "3/3 [==============================] - 0s 5ms/step - loss: 0.2269 - accuracy: 0.8929\n",
      "Epoch 115/200\n",
      "3/3 [==============================] - 0s 5ms/step - loss: 0.2270 - accuracy: 0.8929\n",
      "Epoch 116/200\n",
      "3/3 [==============================] - 0s 4ms/step - loss: 0.2285 - accuracy: 0.8858\n",
      "Epoch 117/200\n",
      "3/3 [==============================] - 0s 4ms/step - loss: 0.2289 - accuracy: 0.9038\n",
      "Epoch 118/200\n",
      "3/3 [==============================] - 0s 4ms/step - loss: 0.2286 - accuracy: 0.8898\n",
      "Epoch 119/200\n",
      "3/3 [==============================] - 0s 4ms/step - loss: 0.2258 - accuracy: 0.8937\n",
      "Epoch 120/200\n",
      "3/3 [==============================] - 0s 6ms/step - loss: 0.2296 - accuracy: 0.8843\n",
      "Epoch 121/200\n",
      "3/3 [==============================] - 0s 5ms/step - loss: 0.2269 - accuracy: 0.8952\n",
      "Epoch 122/200\n",
      "3/3 [==============================] - 0s 5ms/step - loss: 0.2224 - accuracy: 0.8905\n",
      "Epoch 123/200\n",
      "3/3 [==============================] - 0s 5ms/step - loss: 0.2287 - accuracy: 0.8858\n",
      "Epoch 124/200\n",
      "3/3 [==============================] - 0s 4ms/step - loss: 0.2245 - accuracy: 0.8944\n",
      "Epoch 125/200\n",
      "3/3 [==============================] - 0s 4ms/step - loss: 0.2227 - accuracy: 0.8921\n",
      "Epoch 126/200\n",
      "3/3 [==============================] - 0s 4ms/step - loss: 0.2275 - accuracy: 0.8991\n",
      "Epoch 127/200\n",
      "3/3 [==============================] - 0s 4ms/step - loss: 0.2252 - accuracy: 0.8858\n",
      "Epoch 128/200\n",
      "3/3 [==============================] - 0s 4ms/step - loss: 0.2223 - accuracy: 0.8937\n",
      "Epoch 129/200\n",
      "3/3 [==============================] - 0s 5ms/step - loss: 0.2228 - accuracy: 0.8921\n",
      "Epoch 130/200\n",
      "3/3 [==============================] - 0s 4ms/step - loss: 0.2262 - accuracy: 0.8960\n",
      "Epoch 131/200\n",
      "3/3 [==============================] - 0s 4ms/step - loss: 0.2342 - accuracy: 0.8882\n",
      "Epoch 132/200\n",
      "3/3 [==============================] - 0s 5ms/step - loss: 0.2262 - accuracy: 0.9023\n",
      "Epoch 133/200\n",
      "3/3 [==============================] - 0s 5ms/step - loss: 0.2237 - accuracy: 0.8898\n",
      "Epoch 134/200\n",
      "3/3 [==============================] - 0s 5ms/step - loss: 0.2213 - accuracy: 0.8913\n",
      "Epoch 135/200\n",
      "3/3 [==============================] - 0s 4ms/step - loss: 0.2240 - accuracy: 0.9030\n",
      "Epoch 136/200\n",
      "3/3 [==============================] - 0s 4ms/step - loss: 0.2195 - accuracy: 0.8968\n",
      "Epoch 137/200\n",
      "3/3 [==============================] - 0s 5ms/step - loss: 0.2194 - accuracy: 0.8937\n",
      "Epoch 138/200\n",
      "3/3 [==============================] - 0s 4ms/step - loss: 0.2167 - accuracy: 0.9007\n",
      "Epoch 139/200\n",
      "3/3 [==============================] - 0s 5ms/step - loss: 0.2222 - accuracy: 0.8913\n",
      "Epoch 140/200\n",
      "3/3 [==============================] - 0s 5ms/step - loss: 0.2167 - accuracy: 0.9023\n",
      "Epoch 141/200\n",
      "3/3 [==============================] - 0s 5ms/step - loss: 0.2198 - accuracy: 0.8960\n",
      "Epoch 142/200\n",
      "3/3 [==============================] - 0s 4ms/step - loss: 0.2188 - accuracy: 0.9030\n",
      "Epoch 143/200\n",
      "3/3 [==============================] - 0s 5ms/step - loss: 0.2198 - accuracy: 0.8921\n",
      "Epoch 144/200\n",
      "3/3 [==============================] - 0s 5ms/step - loss: 0.2143 - accuracy: 0.9015\n",
      "Epoch 145/200\n",
      "3/3 [==============================] - 0s 5ms/step - loss: 0.2135 - accuracy: 0.8991\n",
      "Epoch 146/200\n",
      "3/3 [==============================] - 0s 5ms/step - loss: 0.2168 - accuracy: 0.8921\n",
      "Epoch 147/200\n",
      "3/3 [==============================] - 0s 5ms/step - loss: 0.2140 - accuracy: 0.9038\n",
      "Epoch 148/200\n",
      "3/3 [==============================] - 0s 5ms/step - loss: 0.2108 - accuracy: 0.9007\n",
      "Epoch 149/200\n",
      "3/3 [==============================] - 0s 4ms/step - loss: 0.2129 - accuracy: 0.9023\n",
      "Epoch 150/200\n",
      "3/3 [==============================] - 0s 4ms/step - loss: 0.2126 - accuracy: 0.8999\n",
      "Epoch 151/200\n",
      "3/3 [==============================] - 0s 4ms/step - loss: 0.2102 - accuracy: 0.8984\n",
      "Epoch 152/200\n",
      "3/3 [==============================] - 0s 4ms/step - loss: 0.2092 - accuracy: 0.9038\n",
      "Epoch 153/200\n",
      "3/3 [==============================] - 0s 5ms/step - loss: 0.2088 - accuracy: 0.8984\n",
      "Epoch 154/200\n",
      "3/3 [==============================] - 0s 5ms/step - loss: 0.2171 - accuracy: 0.8999\n",
      "Epoch 155/200\n",
      "3/3 [==============================] - 0s 5ms/step - loss: 0.2301 - accuracy: 0.8905\n",
      "Epoch 156/200\n",
      "3/3 [==============================] - 0s 5ms/step - loss: 0.2154 - accuracy: 0.9062\n",
      "Epoch 157/200\n",
      "3/3 [==============================] - 0s 5ms/step - loss: 0.2129 - accuracy: 0.8913\n",
      "Epoch 158/200\n",
      "3/3 [==============================] - 0s 6ms/step - loss: 0.2131 - accuracy: 0.9007\n",
      "Epoch 159/200\n",
      "3/3 [==============================] - 0s 6ms/step - loss: 0.2110 - accuracy: 0.8976\n",
      "Epoch 160/200\n",
      "3/3 [==============================] - 0s 5ms/step - loss: 0.2079 - accuracy: 0.9070\n",
      "Epoch 161/200\n",
      "3/3 [==============================] - 0s 5ms/step - loss: 0.2087 - accuracy: 0.9015\n",
      "Epoch 162/200\n",
      "3/3 [==============================] - 0s 4ms/step - loss: 0.2073 - accuracy: 0.9062\n",
      "Epoch 163/200\n",
      "3/3 [==============================] - 0s 4ms/step - loss: 0.2119 - accuracy: 0.8999\n",
      "Epoch 164/200\n",
      "3/3 [==============================] - 0s 4ms/step - loss: 0.2031 - accuracy: 0.9070\n",
      "Epoch 165/200\n",
      "3/3 [==============================] - 0s 5ms/step - loss: 0.2048 - accuracy: 0.9054\n",
      "Epoch 166/200\n",
      "3/3 [==============================] - 0s 5ms/step - loss: 0.2021 - accuracy: 0.9070\n",
      "Epoch 167/200\n",
      "3/3 [==============================] - 0s 5ms/step - loss: 0.2032 - accuracy: 0.9023\n",
      "Epoch 168/200\n",
      "3/3 [==============================] - 0s 5ms/step - loss: 0.2119 - accuracy: 0.9062\n",
      "Epoch 169/200\n",
      "3/3 [==============================] - 0s 5ms/step - loss: 0.2140 - accuracy: 0.8968\n",
      "Epoch 170/200\n",
      "3/3 [==============================] - 0s 5ms/step - loss: 0.2169 - accuracy: 0.9038\n",
      "Epoch 171/200\n",
      "3/3 [==============================] - 0s 6ms/step - loss: 0.2140 - accuracy: 0.8952\n",
      "Epoch 172/200\n",
      "3/3 [==============================] - 0s 5ms/step - loss: 0.2171 - accuracy: 0.9109\n",
      "Epoch 173/200\n",
      "3/3 [==============================] - 0s 5ms/step - loss: 0.2201 - accuracy: 0.8937\n",
      "Epoch 174/200\n",
      "3/3 [==============================] - 0s 4ms/step - loss: 0.2141 - accuracy: 0.9093\n",
      "Epoch 175/200\n",
      "3/3 [==============================] - 0s 4ms/step - loss: 0.2067 - accuracy: 0.8984\n",
      "Epoch 176/200\n",
      "3/3 [==============================] - 0s 4ms/step - loss: 0.2001 - accuracy: 0.9109\n",
      "Epoch 177/200\n",
      "3/3 [==============================] - 0s 4ms/step - loss: 0.1975 - accuracy: 0.9085\n",
      "Epoch 178/200\n",
      "3/3 [==============================] - 0s 5ms/step - loss: 0.1989 - accuracy: 0.9038\n",
      "Epoch 179/200\n",
      "3/3 [==============================] - 0s 5ms/step - loss: 0.2024 - accuracy: 0.9062\n",
      "Epoch 180/200\n",
      "3/3 [==============================] - 0s 5ms/step - loss: 0.2002 - accuracy: 0.9116\n",
      "Epoch 181/200\n",
      "3/3 [==============================] - 0s 4ms/step - loss: 0.2044 - accuracy: 0.9085\n",
      "Epoch 182/200\n",
      "3/3 [==============================] - 0s 5ms/step - loss: 0.1957 - accuracy: 0.9163\n",
      "Epoch 183/200\n",
      "3/3 [==============================] - 0s 5ms/step - loss: 0.1949 - accuracy: 0.9085\n",
      "Epoch 184/200\n",
      "3/3 [==============================] - 0s 4ms/step - loss: 0.2014 - accuracy: 0.9023\n",
      "Epoch 185/200\n",
      "3/3 [==============================] - 0s 5ms/step - loss: 0.2017 - accuracy: 0.9070\n",
      "Epoch 186/200\n",
      "3/3 [==============================] - 0s 4ms/step - loss: 0.2018 - accuracy: 0.9046\n",
      "Epoch 187/200\n",
      "3/3 [==============================] - 0s 4ms/step - loss: 0.2050 - accuracy: 0.9124\n",
      "Epoch 188/200\n",
      "3/3 [==============================] - 0s 4ms/step - loss: 0.2028 - accuracy: 0.8999\n",
      "Epoch 189/200\n",
      "3/3 [==============================] - 0s 5ms/step - loss: 0.2090 - accuracy: 0.9038\n",
      "Epoch 190/200\n",
      "3/3 [==============================] - 0s 5ms/step - loss: 0.2015 - accuracy: 0.8999\n",
      "Epoch 191/200\n",
      "3/3 [==============================] - 0s 5ms/step - loss: 0.2053 - accuracy: 0.9132\n",
      "Epoch 192/200\n",
      "3/3 [==============================] - 0s 5ms/step - loss: 0.2011 - accuracy: 0.9077\n",
      "Epoch 193/200\n",
      "3/3 [==============================] - 0s 4ms/step - loss: 0.2029 - accuracy: 0.9062\n",
      "Epoch 194/200\n",
      "3/3 [==============================] - 0s 5ms/step - loss: 0.2007 - accuracy: 0.9023\n",
      "Epoch 195/200\n",
      "3/3 [==============================] - 0s 5ms/step - loss: 0.1958 - accuracy: 0.9109\n",
      "Epoch 196/200\n",
      "3/3 [==============================] - 0s 5ms/step - loss: 0.1981 - accuracy: 0.9030\n",
      "Epoch 197/200\n",
      "3/3 [==============================] - 0s 4ms/step - loss: 0.2035 - accuracy: 0.9054\n",
      "Epoch 198/200\n",
      "3/3 [==============================] - 0s 4ms/step - loss: 0.2076 - accuracy: 0.9015\n",
      "Epoch 199/200\n",
      "3/3 [==============================] - 0s 4ms/step - loss: 0.2084 - accuracy: 0.9070\n",
      "Epoch 200/200\n",
      "3/3 [==============================] - 0s 4ms/step - loss: 0.2024 - accuracy: 0.9038\n",
      "10/10 - 0s - loss: 0.3032 - accuracy: 0.8938\n"
     ]
    },
    {
     "data": {
      "text/plain": [
       "[0.30320292711257935, 0.893750011920929]"
      ]
     },
     "execution_count": 19,
     "metadata": {},
     "output_type": "execute_result"
    }
   ],
   "source": [
    "optimizer = tf.keras.optimizers.Adam(learning_rate = 0.01)\n",
    "model.compile(optimizer = optimizer, loss='binary_crossentropy', metrics = ['accuracy'])\n",
    "history = model.fit(x_train, y_train, epochs = 200, batch_size = 512)\n",
    "model.evaluate(x_test, y_test, verbose=2)"
   ]
  },
  {
   "cell_type": "markdown",
   "id": "03838cf3",
   "metadata": {
    "papermill": {
     "duration": 0.041658,
     "end_time": "2023-01-17T12:37:07.604480",
     "exception": false,
     "start_time": "2023-01-17T12:37:07.562822",
     "status": "completed"
    },
    "tags": []
   },
   "source": []
  },
  {
   "cell_type": "code",
   "execution_count": 20,
   "id": "c0b3f586",
   "metadata": {
    "execution": {
     "iopub.execute_input": "2023-01-17T12:37:07.690557Z",
     "iopub.status.busy": "2023-01-17T12:37:07.690156Z",
     "iopub.status.idle": "2023-01-17T12:37:07.974280Z",
     "shell.execute_reply": "2023-01-17T12:37:07.972610Z"
    },
    "papermill": {
     "duration": 0.331669,
     "end_time": "2023-01-17T12:37:07.976828",
     "exception": false,
     "start_time": "2023-01-17T12:37:07.645159",
     "status": "completed"
    },
    "tags": []
   },
   "outputs": [
    {
     "data": {
      "text/plain": [
       "<matplotlib.legend.Legend at 0x7f218750df90>"
      ]
     },
     "execution_count": 20,
     "metadata": {},
     "output_type": "execute_result"
    },
    {
     "data": {
      "image/png": "[encoded data removed]",
      "text/plain": [
       "<Figure size 864x288 with 1 Axes>"
      ]
     },
     "metadata": {
      "needs_background": "light"
     },
     "output_type": "display_data"
    }
   ],
   "source": [
    "plt.figure(figsize=(12, 4))\n",
    "\n",
    "plt.subplot(1, 2, 1)\n",
    "plt.plot(history.history['loss'], 'b-', label='loss')\n",
    "plt.xlabel('Epoch')\n",
    "plt.legend()"
   ]
  },
  {
   "cell_type": "code",
   "execution_count": 21,
   "id": "10e3b8ce",
   "metadata": {
    "execution": {
     "iopub.execute_input": "2023-01-17T12:37:08.063187Z",
     "iopub.status.busy": "2023-01-17T12:37:08.061733Z",
     "iopub.status.idle": "2023-01-17T12:37:08.319971Z",
     "shell.execute_reply": "2023-01-17T12:37:08.318877Z"
    },
    "papermill": {
     "duration": 0.304769,
     "end_time": "2023-01-17T12:37:08.322696",
     "exception": false,
     "start_time": "2023-01-17T12:37:08.017927",
     "status": "completed"
    },
    "tags": []
   },
   "outputs": [
    {
     "data": {
      "image/png": "[encoded data removed]",
      "text/plain": [
       "<Figure size 1440x864 with 1 Axes>"
      ]
     },
     "metadata": {
      "needs_background": "light"
     },
     "output_type": "display_data"
    }
   ],
   "source": [
    "plt.subplot(1, 2, 2)\n",
    "plt.plot(history.history['accuracy'], 'g-', label='accuracy')\n",
    "plt.xlabel('Epoch')\n",
    "plt.ylim(0.7, 1)\n",
    "plt.legend()\n",
    "\n",
    "plt.show()"
   ]
  },
  {
   "cell_type": "code",
   "execution_count": 22,
   "id": "7a6e49f5",
   "metadata": {
    "execution": {
     "iopub.execute_input": "2023-01-17T12:37:08.412199Z",
     "iopub.status.busy": "2023-01-17T12:37:08.411354Z",
     "iopub.status.idle": "2023-01-17T12:37:08.588864Z",
     "shell.execute_reply": "2023-01-17T12:37:08.587291Z"
    },
    "papermill": {
     "duration": 0.227257,
     "end_time": "2023-01-17T12:37:08.593606",
     "exception": false,
     "start_time": "2023-01-17T12:37:08.366349",
     "status": "completed"
    },
    "tags": []
   },
   "outputs": [
    {
     "name": "stdout",
     "output_type": "stream",
     "text": [
      "최종 예측 결과 0.89375\n"
     ]
    }
   ],
   "source": [
    "model_pred = model.predict(x_test).flatten()\n",
    "\n",
    "pred_class = np.where(model_pred > 0.5, 1 , 0) #0.5보다크면 2, 작으면 1\n",
    "\n",
    "accuracy3 = accuracy_score(y_test, pred_class)\n",
    "print(\"최종 예측 결과\", accuracy3)"
   ]
  },
  {
   "cell_type": "markdown",
   "id": "0524f564",
   "metadata": {
    "papermill": {
     "duration": 0.04112,
     "end_time": "2023-01-17T12:37:08.680336",
     "exception": false,
     "start_time": "2023-01-17T12:37:08.639216",
     "status": "completed"
    },
    "tags": []
   },
   "source": []
  },
  {
   "cell_type": "code",
   "execution_count": null,
   "id": "a2568111",
   "metadata": {
    "papermill": {
     "duration": 0.04051,
     "end_time": "2023-01-17T12:37:08.762684",
     "exception": false,
     "start_time": "2023-01-17T12:37:08.722174",
     "status": "completed"
    },
    "tags": []
   },
   "outputs": [],
   "source": []
  }
 ],
 "metadata": {
  "kernelspec": {
   "display_name": "Python 3",
   "language": "python",
   "name": "python3"
  },
  "language_info": {
   "codemirror_mode": {
    "name": "ipython",
    "version": 3
   },
   "file_extension": ".py",
   "mimetype": "text/x-python",
   "name": "python",
   "nbconvert_exporter": "python",
   "pygments_lexer": "ipython3",
   "version": "3.7.12"
  },
  "papermill": {
   "default_parameters": {},
   "duration": 32.17639,
   "end_time": "2023-01-17T12:37:12.074600",
   "environment_variables": {},
   "exception": null,
   "input_path": "__notebook__.ipynb",
   "output_path": "__notebook__.ipynb",
   "parameters": {},
   "start_time": "2023-01-17T12:36:39.898210",
   "version": "2.3.4"
  }
 },
 "nbformat": 4,
 "nbformat_minor": 5
}
