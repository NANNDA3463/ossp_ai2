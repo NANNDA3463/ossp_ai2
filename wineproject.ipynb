{
 "cells": [
  {
   "cell_type": "code",
   "execution_count": 1,
   "id": "b46d787b",
   "metadata": {
    "_cell_guid": "b1076dfc-b9ad-4769-8c92-a6c4dae69d19",
    "_uuid": "8f2839f25d086af736a60e9eeb907d3b93b6e0e5",
    "execution": {
     "iopub.execute_input": "2023-01-13T13:33:22.216805Z",
     "iopub.status.busy": "2023-01-13T13:33:22.215692Z",
     "iopub.status.idle": "2023-01-13T13:33:23.671644Z",
     "shell.execute_reply": "2023-01-13T13:33:23.670433Z"
    },
    "papermill": {
     "duration": 1.469927,
     "end_time": "2023-01-13T13:33:23.675330",
     "exception": false,
     "start_time": "2023-01-13T13:33:22.205403",
     "status": "completed"
    },
    "tags": []
   },
   "outputs": [
    {
     "name": "stdout",
     "output_type": "stream",
     "text": [
      "/kaggle/input/red-wine-quality-cortez-et-al-2009/winequality-red.csv\n"
     ]
    },
    {
     "data": {
      "text/html": [
       "<div>\n",
       "<style scoped>\n",
       "    .dataframe tbody tr th:only-of-type {\n",
       "        vertical-align: middle;\n",
       "    }\n",
       "\n",
       "    .dataframe tbody tr th {\n",
       "        vertical-align: top;\n",
       "    }\n",
       "\n",
       "    .dataframe thead th {\n",
       "        text-align: right;\n",
       "    }\n",
       "</style>\n",
       "<table border=\"1\" class=\"dataframe\">\n",
       "  <thead>\n",
       "    <tr style=\"text-align: right;\">\n",
       "      <th></th>\n",
       "      <th>fixed acidity</th>\n",
       "      <th>volatile acidity</th>\n",
       "      <th>citric acid</th>\n",
       "      <th>residual sugar</th>\n",
       "      <th>chlorides</th>\n",
       "      <th>free sulfur dioxide</th>\n",
       "      <th>total sulfur dioxide</th>\n",
       "      <th>density</th>\n",
       "      <th>pH</th>\n",
       "      <th>sulphates</th>\n",
       "      <th>alcohol</th>\n",
       "      <th>quality</th>\n",
       "    </tr>\n",
       "  </thead>\n",
       "  <tbody>\n",
       "    <tr>\n",
       "      <th>0</th>\n",
       "      <td>7.4</td>\n",
       "      <td>0.70</td>\n",
       "      <td>0.00</td>\n",
       "      <td>1.9</td>\n",
       "      <td>0.076</td>\n",
       "      <td>11.0</td>\n",
       "      <td>34.0</td>\n",
       "      <td>0.9978</td>\n",
       "      <td>3.51</td>\n",
       "      <td>0.56</td>\n",
       "      <td>9.4</td>\n",
       "      <td>5</td>\n",
       "    </tr>\n",
       "    <tr>\n",
       "      <th>1</th>\n",
       "      <td>7.8</td>\n",
       "      <td>0.88</td>\n",
       "      <td>0.00</td>\n",
       "      <td>2.6</td>\n",
       "      <td>0.098</td>\n",
       "      <td>25.0</td>\n",
       "      <td>67.0</td>\n",
       "      <td>0.9968</td>\n",
       "      <td>3.20</td>\n",
       "      <td>0.68</td>\n",
       "      <td>9.8</td>\n",
       "      <td>5</td>\n",
       "    </tr>\n",
       "    <tr>\n",
       "      <th>2</th>\n",
       "      <td>7.8</td>\n",
       "      <td>0.76</td>\n",
       "      <td>0.04</td>\n",
       "      <td>2.3</td>\n",
       "      <td>0.092</td>\n",
       "      <td>15.0</td>\n",
       "      <td>54.0</td>\n",
       "      <td>0.9970</td>\n",
       "      <td>3.26</td>\n",
       "      <td>0.65</td>\n",
       "      <td>9.8</td>\n",
       "      <td>5</td>\n",
       "    </tr>\n",
       "    <tr>\n",
       "      <th>3</th>\n",
       "      <td>11.2</td>\n",
       "      <td>0.28</td>\n",
       "      <td>0.56</td>\n",
       "      <td>1.9</td>\n",
       "      <td>0.075</td>\n",
       "      <td>17.0</td>\n",
       "      <td>60.0</td>\n",
       "      <td>0.9980</td>\n",
       "      <td>3.16</td>\n",
       "      <td>0.58</td>\n",
       "      <td>9.8</td>\n",
       "      <td>6</td>\n",
       "    </tr>\n",
       "    <tr>\n",
       "      <th>4</th>\n",
       "      <td>7.4</td>\n",
       "      <td>0.70</td>\n",
       "      <td>0.00</td>\n",
       "      <td>1.9</td>\n",
       "      <td>0.076</td>\n",
       "      <td>11.0</td>\n",
       "      <td>34.0</td>\n",
       "      <td>0.9978</td>\n",
       "      <td>3.51</td>\n",
       "      <td>0.56</td>\n",
       "      <td>9.4</td>\n",
       "      <td>5</td>\n",
       "    </tr>\n",
       "  </tbody>\n",
       "</table>\n",
       "</div>"
      ],
      "text/plain": [
       "   fixed acidity  volatile acidity  citric acid  residual sugar  chlorides  \\\n",
       "0            7.4              0.70         0.00             1.9      0.076   \n",
       "1            7.8              0.88         0.00             2.6      0.098   \n",
       "2            7.8              0.76         0.04             2.3      0.092   \n",
       "3           11.2              0.28         0.56             1.9      0.075   \n",
       "4            7.4              0.70         0.00             1.9      0.076   \n",
       "\n",
       "   free sulfur dioxide  total sulfur dioxide  density    pH  sulphates  \\\n",
       "0                 11.0                  34.0   0.9978  3.51       0.56   \n",
       "1                 25.0                  67.0   0.9968  3.20       0.68   \n",
       "2                 15.0                  54.0   0.9970  3.26       0.65   \n",
       "3                 17.0                  60.0   0.9980  3.16       0.58   \n",
       "4                 11.0                  34.0   0.9978  3.51       0.56   \n",
       "\n",
       "   alcohol  quality  \n",
       "0      9.4        5  \n",
       "1      9.8        5  \n",
       "2      9.8        5  \n",
       "3      9.8        6  \n",
       "4      9.4        5  "
      ]
     },
     "execution_count": 1,
     "metadata": {},
     "output_type": "execute_result"
    }
   ],
   "source": [
    "## 기본 패키지 모음\n",
    "import numpy as np\n",
    "import pandas as pd\n",
    "import matplotlib.pyplot as plt\n",
    "import seaborn as sns\n",
    " \n",
    "## 전처리 및 모델링 준비를 위한 패키지\n",
    "from sklearn.preprocessing import StandardScaler, LabelEncoder\n",
    "from sklearn.model_selection import train_test_split\n",
    "from sklearn.linear_model import LinearRegression\n",
    "from sklearn.model_selection import train_test_split\n",
    " \n",
    "## 실제 모델링을 위한 패키지\n",
    "from sklearn.ensemble import RandomForestClassifier\n",
    "from sklearn.linear_model import LogisticRegression\n",
    "from sklearn.svm import SVC\n",
    "from sklearn import tree\n",
    "from sklearn.ensemble import RandomForestClassifier\n",
    "from sklearn.neighbors import KNeighborsClassifier\n",
    "from sklearn.naive_bayes import GaussianNB\n",
    " \n",
    "## 모델 평가를 위한 패키지\n",
    "from sklearn.metrics import classification_report\n",
    "from sklearn import metrics\n",
    "\n",
    "import os\n",
    "for dirname, _, filenames in os.walk('/kaggle/input'):\n",
    "    for filename in filenames:\n",
    "        print(os.path.join(dirname, filename))\n",
    "        \n",
    "    \n",
    "red_wine_quality = pd.read_csv(\"/kaggle/input/red-wine-quality-cortez-et-al-2009/winequality-red.csv\")\n",
    "red_wine_quality.head(5)"
   ]
  },
  {
   "cell_type": "code",
   "execution_count": 2,
   "id": "54f5c9aa",
   "metadata": {
    "execution": {
     "iopub.execute_input": "2023-01-13T13:33:23.691212Z",
     "iopub.status.busy": "2023-01-13T13:33:23.690790Z",
     "iopub.status.idle": "2023-01-13T13:33:23.704030Z",
     "shell.execute_reply": "2023-01-13T13:33:23.703012Z"
    },
    "papermill": {
     "duration": 0.024969,
     "end_time": "2023-01-13T13:33:23.707350",
     "exception": false,
     "start_time": "2023-01-13T13:33:23.682381",
     "status": "completed"
    },
    "tags": []
   },
   "outputs": [
    {
     "name": "stdout",
     "output_type": "stream",
     "text": [
      "the red_wine_quality shape is: (1599, 12)\n",
      "\n",
      "   fixed acidity  volatile acidity  citric acid  residual sugar  chlorides  \\\n",
      "0            7.4              0.70         0.00             1.9      0.076   \n",
      "1            7.8              0.88         0.00             2.6      0.098   \n",
      "2            7.8              0.76         0.04             2.3      0.092   \n",
      "3           11.2              0.28         0.56             1.9      0.075   \n",
      "4            7.4              0.70         0.00             1.9      0.076   \n",
      "\n",
      "   free sulfur dioxide  total sulfur dioxide  density    pH  sulphates  \\\n",
      "0                 11.0                  34.0   0.9978  3.51       0.56   \n",
      "1                 25.0                  67.0   0.9968  3.20       0.68   \n",
      "2                 15.0                  54.0   0.9970  3.26       0.65   \n",
      "3                 17.0                  60.0   0.9980  3.16       0.58   \n",
      "4                 11.0                  34.0   0.9978  3.51       0.56   \n",
      "\n",
      "   alcohol  quality  \n",
      "0      9.4        5  \n",
      "1      9.8        5  \n",
      "2      9.8        5  \n",
      "3      9.8        6  \n",
      "4      9.4        5  \n",
      "\n",
      "Index(['fixed acidity', 'volatile acidity', 'citric acid', 'residual sugar',\n",
      "       'chlorides', 'free sulfur dioxide', 'total sulfur dioxide', 'density',\n",
      "       'pH', 'sulphates', 'alcohol', 'quality'],\n",
      "      dtype='object')\n"
     ]
    }
   ],
   "source": [
    "print(f\"the red_wine_quality shape is: {red_wine_quality.shape}\")\n",
    "print(\"\")\n",
    "print(red_wine_quality.head())\n",
    "print(\"\")\n",
    "print(red_wine_quality.columns)"
   ]
  },
  {
   "cell_type": "code",
   "execution_count": 3,
   "id": "a76b087c",
   "metadata": {
    "execution": {
     "iopub.execute_input": "2023-01-13T13:33:23.723400Z",
     "iopub.status.busy": "2023-01-13T13:33:23.722993Z",
     "iopub.status.idle": "2023-01-13T13:33:23.734819Z",
     "shell.execute_reply": "2023-01-13T13:33:23.733392Z"
    },
    "papermill": {
     "duration": 0.023182,
     "end_time": "2023-01-13T13:33:23.737920",
     "exception": false,
     "start_time": "2023-01-13T13:33:23.714738",
     "status": "completed"
    },
    "tags": []
   },
   "outputs": [
    {
     "name": "stdout",
     "output_type": "stream",
     "text": [
      "The x variable is: [3.51 3.2  3.26 ... 3.42 3.57 3.39]\n",
      "\n",
      "The y variable is: [5 5 5 ... 6 5 6]\n",
      "\n",
      "The shape of x is: (1599,)\n",
      "The shape of y is: (1599,)\n"
     ]
    }
   ],
   "source": [
    "x = red_wine_quality[\"pH\"].values\n",
    "y = red_wine_quality[\"quality\"].values\n",
    "\n",
    "print(\"The x variable is:\", x)\n",
    "print(\"\")\n",
    "print(\"The y variable is:\", y)\n",
    "print(\"\")\n",
    "print(\"The shape of x is:\", x.shape)\n",
    "print(\"The shape of y is:\", y.shape)"
   ]
  },
  {
   "cell_type": "code",
   "execution_count": 4,
   "id": "0b51e705",
   "metadata": {
    "execution": {
     "iopub.execute_input": "2023-01-13T13:33:23.754718Z",
     "iopub.status.busy": "2023-01-13T13:33:23.753938Z",
     "iopub.status.idle": "2023-01-13T13:33:23.761013Z",
     "shell.execute_reply": "2023-01-13T13:33:23.759635Z"
    },
    "papermill": {
     "duration": 0.018213,
     "end_time": "2023-01-13T13:33:23.763793",
     "exception": false,
     "start_time": "2023-01-13T13:33:23.745580",
     "status": "completed"
    },
    "tags": []
   },
   "outputs": [
    {
     "name": "stdout",
     "output_type": "stream",
     "text": [
      "<class 'numpy.ndarray'>\n",
      "[[3.51]\n",
      " [3.2 ]\n",
      " [3.26]\n",
      " ...\n",
      " [3.42]\n",
      " [3.57]\n",
      " [3.39]]\n",
      "\n",
      "the shape of x is: (1599, 1)\n"
     ]
    }
   ],
   "source": [
    "print(type(x))\n",
    "x = x.reshape(-1, 1)\n",
    "print(x)\n",
    "print(\"\")\n",
    "print(\"the shape of x is:\", x.shape)"
   ]
  },
  {
   "cell_type": "code",
   "execution_count": 5,
   "id": "8b63f963",
   "metadata": {
    "execution": {
     "iopub.execute_input": "2023-01-13T13:33:23.779905Z",
     "iopub.status.busy": "2023-01-13T13:33:23.779503Z",
     "iopub.status.idle": "2023-01-13T13:33:23.787490Z",
     "shell.execute_reply": "2023-01-13T13:33:23.786120Z"
    },
    "papermill": {
     "duration": 0.019677,
     "end_time": "2023-01-13T13:33:23.790491",
     "exception": false,
     "start_time": "2023-01-13T13:33:23.770814",
     "status": "completed"
    },
    "tags": []
   },
   "outputs": [
    {
     "name": "stdout",
     "output_type": "stream",
     "text": [
      "x_train shape (1119, 1)\n",
      "y_train shape (1119,)\n",
      "\n",
      "x_test shape (480, 1)\n",
      "y_test shape (480,)\n",
      "\n"
     ]
    }
   ],
   "source": [
    "x_train, x_test, y_train, y_test = train_test_split(x, y, train_size=0.7, test_size=0.3, random_state=100)\n",
    "print(f\"x_train shape {x_train.shape}\")\n",
    "print(f\"y_train shape {y_train.shape}\")\n",
    "print(\"\")\n",
    "print(f\"x_test shape {x_test.shape}\")\n",
    "print(f\"y_test shape {y_test.shape}\")\n",
    "print(\"\")"
   ]
  },
  {
   "cell_type": "code",
   "execution_count": 6,
   "id": "1dca96cd",
   "metadata": {
    "execution": {
     "iopub.execute_input": "2023-01-13T13:33:23.807228Z",
     "iopub.status.busy": "2023-01-13T13:33:23.806812Z",
     "iopub.status.idle": "2023-01-13T13:33:23.813938Z",
     "shell.execute_reply": "2023-01-13T13:33:23.812648Z"
    },
    "papermill": {
     "duration": 0.018777,
     "end_time": "2023-01-13T13:33:23.816609",
     "exception": false,
     "start_time": "2023-01-13T13:33:23.797832",
     "status": "completed"
    },
    "tags": []
   },
   "outputs": [
    {
     "name": "stdout",
     "output_type": "stream",
     "text": [
      "4\n"
     ]
    }
   ],
   "source": [
    "print(len(train_test_split(x, y, train_size=0.8, test_size=0.2, random_state=100)))"
   ]
  },
  {
   "cell_type": "code",
   "execution_count": 7,
   "id": "dadffea3",
   "metadata": {
    "execution": {
     "iopub.execute_input": "2023-01-13T13:33:23.833484Z",
     "iopub.status.busy": "2023-01-13T13:33:23.833088Z",
     "iopub.status.idle": "2023-01-13T13:33:24.025046Z",
     "shell.execute_reply": "2023-01-13T13:33:24.023607Z"
    },
    "papermill": {
     "duration": 0.204245,
     "end_time": "2023-01-13T13:33:24.028178",
     "exception": false,
     "start_time": "2023-01-13T13:33:23.823933",
     "status": "completed"
    },
    "tags": []
   },
   "outputs": [
    {
     "data": {
      "image/png": "[encoded data removed]",
      "text/plain": [
       "<Figure size 432x288 with 1 Axes>"
      ]
     },
     "metadata": {
      "needs_background": "light"
     },
     "output_type": "display_data"
    }
   ],
   "source": [
    "plt.scatter(x_train, y_train, color='red')\n",
    "plt.xlabel(\"pH\")\n",
    "plt.ylabel(\"quality\")\n",
    "plt.show()"
   ]
  },
  {
   "cell_type": "code",
   "execution_count": 8,
   "id": "9991e923",
   "metadata": {
    "execution": {
     "iopub.execute_input": "2023-01-13T13:33:24.048396Z",
     "iopub.status.busy": "2023-01-13T13:33:24.047503Z",
     "iopub.status.idle": "2023-01-13T13:33:24.074375Z",
     "shell.execute_reply": "2023-01-13T13:33:24.073364Z"
    },
    "papermill": {
     "duration": 0.041084,
     "end_time": "2023-01-13T13:33:24.077504",
     "exception": false,
     "start_time": "2023-01-13T13:33:24.036420",
     "status": "completed"
    },
    "tags": []
   },
   "outputs": [
    {
     "name": "stdout",
     "output_type": "stream",
     "text": [
      "Train Accuracy 0.0033538148868147433\n",
      "Test Accuracy 0.0029189144565353597\n"
     ]
    }
   ],
   "source": [
    "# This our instance of a LinearRegression class\n",
    "lm = LinearRegression()\n",
    "\n",
    "# Invoke lm.fit(), passing in training data\n",
    "# This creates the 'best fit line' for our TRAINING data points \n",
    "lm.fit(x_train, y_train)\n",
    "\n",
    "\n",
    "# Then we have a model! We have a formula. We have a line that will predict quality given pH\n",
    "# Then we test the best fit line, by invoking .predict() on our testing data\n",
    "# y_predict represents PREDICTIONS from our linear regression!\n",
    "# lm.score() -> Returns the coefficient of determination (R^2). A measure of how well observed outcomes are replicated by the model, as the proportion of total variation of outcomes explained by the model.\n",
    "y_predict = lm.predict(x_test)\n",
    "\n",
    "print(f\"Train Accuracy {lm.score(x_train, y_train)}\")\n",
    "print(f\"Test Accuracy {lm.score(x_test, y_test)}\")"
   ]
  },
  {
   "cell_type": "code",
   "execution_count": 9,
   "id": "346630e6",
   "metadata": {
    "execution": {
     "iopub.execute_input": "2023-01-13T13:33:24.095665Z",
     "iopub.status.busy": "2023-01-13T13:33:24.094572Z",
     "iopub.status.idle": "2023-01-13T13:33:24.333718Z",
     "shell.execute_reply": "2023-01-13T13:33:24.332837Z"
    },
    "papermill": {
     "duration": 0.250501,
     "end_time": "2023-01-13T13:33:24.336157",
     "exception": false,
     "start_time": "2023-01-13T13:33:24.085656",
     "status": "completed"
    },
    "tags": []
   },
   "outputs": [
    {
     "data": {
      "text/plain": [
       "<function matplotlib.pyplot.plot(*args, scalex=True, scaley=True, data=None, **kwargs)>"
      ]
     },
     "execution_count": 9,
     "metadata": {},
     "output_type": "execute_result"
    },
    {
     "data": {
      "image/png": "[encoded data removed]",
      "text/plain": [
       "<Figure size 1440x864 with 1 Axes>"
      ]
     },
     "metadata": {
      "needs_background": "light"
     },
     "output_type": "display_data"
    }
   ],
   "source": [
    "plt.rcParams[\"figure.figsize\"]=[20,12]\n",
    "plt.scatter(x_train,y_train,color='orange')\n",
    "plt.plot(x_test,y_predict)\n",
    "plt.xlabel(\"pH\")\n",
    "plt.ylabel(\"quality\")\n",
    "plt.title(\"Trained model plot\")\n",
    "plt.plot"
   ]
  },
  {
   "cell_type": "markdown",
   "id": "8bcd6934",
   "metadata": {
    "papermill": {
     "duration": 0.007461,
     "end_time": "2023-01-13T13:33:24.351587",
     "exception": false,
     "start_time": "2023-01-13T13:33:24.344126",
     "status": "completed"
    },
    "tags": []
   },
   "source": [
    "pH가 증가하면 와인 품질이 감소함.\n",
    "\n",
    "최고급 와인의 ph는 약 3.2.\n",
    "\n",
    "5에서 7 사이의 품질을 가진 대부분의 와인은 3에서 3.6 사이의 ph 범위를 갖음\n"
   ]
  },
  {
   "cell_type": "code",
   "execution_count": 10,
   "id": "0dde5f35",
   "metadata": {
    "execution": {
     "iopub.execute_input": "2023-01-13T13:33:24.369489Z",
     "iopub.status.busy": "2023-01-13T13:33:24.368681Z",
     "iopub.status.idle": "2023-01-13T13:33:24.409539Z",
     "shell.execute_reply": "2023-01-13T13:33:24.407845Z"
    },
    "papermill": {
     "duration": 0.0532,
     "end_time": "2023-01-13T13:33:24.412598",
     "exception": false,
     "start_time": "2023-01-13T13:33:24.359398",
     "status": "completed"
    },
    "tags": []
   },
   "outputs": [
    {
     "data": {
      "text/html": [
       "<div>\n",
       "<style scoped>\n",
       "    .dataframe tbody tr th:only-of-type {\n",
       "        vertical-align: middle;\n",
       "    }\n",
       "\n",
       "    .dataframe tbody tr th {\n",
       "        vertical-align: top;\n",
       "    }\n",
       "\n",
       "    .dataframe thead th {\n",
       "        text-align: right;\n",
       "    }\n",
       "</style>\n",
       "<table border=\"1\" class=\"dataframe\">\n",
       "  <thead>\n",
       "    <tr style=\"text-align: right;\">\n",
       "      <th></th>\n",
       "      <th>fixed acidity</th>\n",
       "      <th>volatile acidity</th>\n",
       "      <th>citric acid</th>\n",
       "      <th>residual sugar</th>\n",
       "      <th>chlorides</th>\n",
       "      <th>free sulfur dioxide</th>\n",
       "      <th>total sulfur dioxide</th>\n",
       "      <th>density</th>\n",
       "      <th>pH</th>\n",
       "      <th>sulphates</th>\n",
       "      <th>alcohol</th>\n",
       "      <th>quality</th>\n",
       "    </tr>\n",
       "  </thead>\n",
       "  <tbody>\n",
       "    <tr>\n",
       "      <th>0</th>\n",
       "      <td>7.4</td>\n",
       "      <td>0.70</td>\n",
       "      <td>0.00</td>\n",
       "      <td>1.9</td>\n",
       "      <td>0.076</td>\n",
       "      <td>11.0</td>\n",
       "      <td>34.0</td>\n",
       "      <td>0.9978</td>\n",
       "      <td>3.51</td>\n",
       "      <td>0.56</td>\n",
       "      <td>9.4</td>\n",
       "      <td>5</td>\n",
       "    </tr>\n",
       "    <tr>\n",
       "      <th>1</th>\n",
       "      <td>7.8</td>\n",
       "      <td>0.88</td>\n",
       "      <td>0.00</td>\n",
       "      <td>2.6</td>\n",
       "      <td>0.098</td>\n",
       "      <td>25.0</td>\n",
       "      <td>67.0</td>\n",
       "      <td>0.9968</td>\n",
       "      <td>3.20</td>\n",
       "      <td>0.68</td>\n",
       "      <td>9.8</td>\n",
       "      <td>5</td>\n",
       "    </tr>\n",
       "    <tr>\n",
       "      <th>2</th>\n",
       "      <td>7.8</td>\n",
       "      <td>0.76</td>\n",
       "      <td>0.04</td>\n",
       "      <td>2.3</td>\n",
       "      <td>0.092</td>\n",
       "      <td>15.0</td>\n",
       "      <td>54.0</td>\n",
       "      <td>0.9970</td>\n",
       "      <td>3.26</td>\n",
       "      <td>0.65</td>\n",
       "      <td>9.8</td>\n",
       "      <td>5</td>\n",
       "    </tr>\n",
       "    <tr>\n",
       "      <th>3</th>\n",
       "      <td>11.2</td>\n",
       "      <td>0.28</td>\n",
       "      <td>0.56</td>\n",
       "      <td>1.9</td>\n",
       "      <td>0.075</td>\n",
       "      <td>17.0</td>\n",
       "      <td>60.0</td>\n",
       "      <td>0.9980</td>\n",
       "      <td>3.16</td>\n",
       "      <td>0.58</td>\n",
       "      <td>9.8</td>\n",
       "      <td>6</td>\n",
       "    </tr>\n",
       "    <tr>\n",
       "      <th>4</th>\n",
       "      <td>7.4</td>\n",
       "      <td>0.70</td>\n",
       "      <td>0.00</td>\n",
       "      <td>1.9</td>\n",
       "      <td>0.076</td>\n",
       "      <td>11.0</td>\n",
       "      <td>34.0</td>\n",
       "      <td>0.9978</td>\n",
       "      <td>3.51</td>\n",
       "      <td>0.56</td>\n",
       "      <td>9.4</td>\n",
       "      <td>5</td>\n",
       "    </tr>\n",
       "  </tbody>\n",
       "</table>\n",
       "</div>"
      ],
      "text/plain": [
       "   fixed acidity  volatile acidity  citric acid  residual sugar  chlorides  \\\n",
       "0            7.4              0.70         0.00             1.9      0.076   \n",
       "1            7.8              0.88         0.00             2.6      0.098   \n",
       "2            7.8              0.76         0.04             2.3      0.092   \n",
       "3           11.2              0.28         0.56             1.9      0.075   \n",
       "4            7.4              0.70         0.00             1.9      0.076   \n",
       "\n",
       "   free sulfur dioxide  total sulfur dioxide  density    pH  sulphates  \\\n",
       "0                 11.0                  34.0   0.9978  3.51       0.56   \n",
       "1                 25.0                  67.0   0.9968  3.20       0.68   \n",
       "2                 15.0                  54.0   0.9970  3.26       0.65   \n",
       "3                 17.0                  60.0   0.9980  3.16       0.58   \n",
       "4                 11.0                  34.0   0.9978  3.51       0.56   \n",
       "\n",
       "   alcohol  quality  \n",
       "0      9.4        5  \n",
       "1      9.8        5  \n",
       "2      9.8        5  \n",
       "3      9.8        6  \n",
       "4      9.4        5  "
      ]
     },
     "metadata": {},
     "output_type": "display_data"
    },
    {
     "name": "stdout",
     "output_type": "stream",
     "text": [
      "<class 'pandas.core.frame.DataFrame'>\n",
      "RangeIndex: 1599 entries, 0 to 1598\n",
      "Data columns (total 12 columns):\n",
      " #   Column                Non-Null Count  Dtype  \n",
      "---  ------                --------------  -----  \n",
      " 0   fixed acidity         1599 non-null   float64\n",
      " 1   volatile acidity      1599 non-null   float64\n",
      " 2   citric acid           1599 non-null   float64\n",
      " 3   residual sugar        1599 non-null   float64\n",
      " 4   chlorides             1599 non-null   float64\n",
      " 5   free sulfur dioxide   1599 non-null   float64\n",
      " 6   total sulfur dioxide  1599 non-null   float64\n",
      " 7   density               1599 non-null   float64\n",
      " 8   pH                    1599 non-null   float64\n",
      " 9   sulphates             1599 non-null   float64\n",
      " 10  alcohol               1599 non-null   float64\n",
      " 11  quality               1599 non-null   int64  \n",
      "dtypes: float64(11), int64(1)\n",
      "memory usage: 150.0 KB\n"
     ]
    }
   ],
   "source": [
    "import pandas as pd\n",
    "\n",
    "red_wine = pd.read_csv(\"/kaggle/input/red-wine-quality-cortez-et-al-2009/winequality-red.csv\")\n",
    "display(red_wine.head(5))\n",
    "red_wine.info()"
   ]
  },
  {
   "cell_type": "markdown",
   "id": "3d6c8cf4",
   "metadata": {
    "papermill": {
     "duration": 0.007992,
     "end_time": "2023-01-13T13:33:24.429350",
     "exception": false,
     "start_time": "2023-01-13T13:33:24.421358",
     "status": "completed"
    },
    "tags": []
   },
   "source": [
    "Quality로 분류 예측하는 것이 목표.\n",
    "퀄리티의 기준은 7로 분류."
   ]
  },
  {
   "cell_type": "code",
   "execution_count": 11,
   "id": "eacd46db",
   "metadata": {
    "execution": {
     "iopub.execute_input": "2023-01-13T13:33:24.447458Z",
     "iopub.status.busy": "2023-01-13T13:33:24.447058Z",
     "iopub.status.idle": "2023-01-13T13:33:24.458160Z",
     "shell.execute_reply": "2023-01-13T13:33:24.456702Z"
    },
    "papermill": {
     "duration": 0.023298,
     "end_time": "2023-01-13T13:33:24.460867",
     "exception": false,
     "start_time": "2023-01-13T13:33:24.437569",
     "status": "completed"
    },
    "tags": []
   },
   "outputs": [
    {
     "name": "stdout",
     "output_type": "stream",
     "text": [
      "0    1382\n",
      "1     217\n",
      "Name: target, dtype: int64\n"
     ]
    }
   ],
   "source": [
    "def binary_quality(x):\n",
    "    target = None\n",
    "    if x >= 7:\n",
    "        target = 1\n",
    "    else:\n",
    "        target = 0\n",
    "    return target\n",
    "\n",
    "red_wine['target'] = red_wine['quality'].apply(lambda x : binary_quality(x))\n",
    "print(red_wine['target'].value_counts())"
   ]
  },
  {
   "cell_type": "markdown",
   "id": "77dada18",
   "metadata": {
    "papermill": {
     "duration": 0.010521,
     "end_time": "2023-01-13T13:33:24.480122",
     "exception": false,
     "start_time": "2023-01-13T13:33:24.469601",
     "status": "completed"
    },
    "tags": []
   },
   "source": [
    "7 이상인 와인이 217, 미만인 와인이 1382인 모습"
   ]
  },
  {
   "cell_type": "code",
   "execution_count": 12,
   "id": "bc21a942",
   "metadata": {
    "execution": {
     "iopub.execute_input": "2023-01-13T13:33:24.499621Z",
     "iopub.status.busy": "2023-01-13T13:33:24.498764Z",
     "iopub.status.idle": "2023-01-13T13:33:24.534229Z",
     "shell.execute_reply": "2023-01-13T13:33:24.532930Z"
    },
    "papermill": {
     "duration": 0.048227,
     "end_time": "2023-01-13T13:33:24.536751",
     "exception": false,
     "start_time": "2023-01-13T13:33:24.488524",
     "status": "completed"
    },
    "tags": []
   },
   "outputs": [
    {
     "data": {
      "text/html": [
       "<div>\n",
       "<style scoped>\n",
       "    .dataframe tbody tr th:only-of-type {\n",
       "        vertical-align: middle;\n",
       "    }\n",
       "\n",
       "    .dataframe tbody tr th {\n",
       "        vertical-align: top;\n",
       "    }\n",
       "\n",
       "    .dataframe thead th {\n",
       "        text-align: right;\n",
       "    }\n",
       "</style>\n",
       "<table border=\"1\" class=\"dataframe\">\n",
       "  <thead>\n",
       "    <tr style=\"text-align: right;\">\n",
       "      <th></th>\n",
       "      <th>fixed acidity</th>\n",
       "      <th>volatile acidity</th>\n",
       "      <th>citric acid</th>\n",
       "      <th>residual sugar</th>\n",
       "      <th>chlorides</th>\n",
       "      <th>free sulfur dioxide</th>\n",
       "      <th>total sulfur dioxide</th>\n",
       "      <th>density</th>\n",
       "      <th>pH</th>\n",
       "      <th>sulphates</th>\n",
       "      <th>alcohol</th>\n",
       "    </tr>\n",
       "  </thead>\n",
       "  <tbody>\n",
       "    <tr>\n",
       "      <th>0</th>\n",
       "      <td>7.4</td>\n",
       "      <td>0.70</td>\n",
       "      <td>0.00</td>\n",
       "      <td>1.9</td>\n",
       "      <td>0.076</td>\n",
       "      <td>11.0</td>\n",
       "      <td>34.0</td>\n",
       "      <td>0.9978</td>\n",
       "      <td>3.51</td>\n",
       "      <td>0.56</td>\n",
       "      <td>9.4</td>\n",
       "    </tr>\n",
       "    <tr>\n",
       "      <th>1</th>\n",
       "      <td>7.8</td>\n",
       "      <td>0.88</td>\n",
       "      <td>0.00</td>\n",
       "      <td>2.6</td>\n",
       "      <td>0.098</td>\n",
       "      <td>25.0</td>\n",
       "      <td>67.0</td>\n",
       "      <td>0.9968</td>\n",
       "      <td>3.20</td>\n",
       "      <td>0.68</td>\n",
       "      <td>9.8</td>\n",
       "    </tr>\n",
       "    <tr>\n",
       "      <th>2</th>\n",
       "      <td>7.8</td>\n",
       "      <td>0.76</td>\n",
       "      <td>0.04</td>\n",
       "      <td>2.3</td>\n",
       "      <td>0.092</td>\n",
       "      <td>15.0</td>\n",
       "      <td>54.0</td>\n",
       "      <td>0.9970</td>\n",
       "      <td>3.26</td>\n",
       "      <td>0.65</td>\n",
       "      <td>9.8</td>\n",
       "    </tr>\n",
       "    <tr>\n",
       "      <th>3</th>\n",
       "      <td>11.2</td>\n",
       "      <td>0.28</td>\n",
       "      <td>0.56</td>\n",
       "      <td>1.9</td>\n",
       "      <td>0.075</td>\n",
       "      <td>17.0</td>\n",
       "      <td>60.0</td>\n",
       "      <td>0.9980</td>\n",
       "      <td>3.16</td>\n",
       "      <td>0.58</td>\n",
       "      <td>9.8</td>\n",
       "    </tr>\n",
       "    <tr>\n",
       "      <th>4</th>\n",
       "      <td>7.4</td>\n",
       "      <td>0.70</td>\n",
       "      <td>0.00</td>\n",
       "      <td>1.9</td>\n",
       "      <td>0.076</td>\n",
       "      <td>11.0</td>\n",
       "      <td>34.0</td>\n",
       "      <td>0.9978</td>\n",
       "      <td>3.51</td>\n",
       "      <td>0.56</td>\n",
       "      <td>9.4</td>\n",
       "    </tr>\n",
       "  </tbody>\n",
       "</table>\n",
       "</div>"
      ],
      "text/plain": [
       "   fixed acidity  volatile acidity  citric acid  residual sugar  chlorides  \\\n",
       "0            7.4              0.70         0.00             1.9      0.076   \n",
       "1            7.8              0.88         0.00             2.6      0.098   \n",
       "2            7.8              0.76         0.04             2.3      0.092   \n",
       "3           11.2              0.28         0.56             1.9      0.075   \n",
       "4            7.4              0.70         0.00             1.9      0.076   \n",
       "\n",
       "   free sulfur dioxide  total sulfur dioxide  density    pH  sulphates  \\\n",
       "0                 11.0                  34.0   0.9978  3.51       0.56   \n",
       "1                 25.0                  67.0   0.9968  3.20       0.68   \n",
       "2                 15.0                  54.0   0.9970  3.26       0.65   \n",
       "3                 17.0                  60.0   0.9980  3.16       0.58   \n",
       "4                 11.0                  34.0   0.9978  3.51       0.56   \n",
       "\n",
       "   alcohol  \n",
       "0      9.4  \n",
       "1      9.8  \n",
       "2      9.8  \n",
       "3      9.8  \n",
       "4      9.4  "
      ]
     },
     "metadata": {},
     "output_type": "display_data"
    },
    {
     "data": {
      "text/plain": [
       "0    0\n",
       "1    0\n",
       "2    0\n",
       "3    0\n",
       "4    0\n",
       "Name: target, dtype: int64"
      ]
     },
     "metadata": {},
     "output_type": "display_data"
    }
   ],
   "source": [
    "wine_y = red_wine['target']\n",
    "#필요없는 데이터 값들 제거, y의 label의 형태 파악\n",
    "wine_x = red_wine.drop(['target', 'quality'], axis = 1)\n",
    "display(wine_x.head())\n",
    "display(wine_y.head())"
   ]
  },
  {
   "cell_type": "code",
   "execution_count": 13,
   "id": "80f8b800",
   "metadata": {
    "execution": {
     "iopub.execute_input": "2023-01-13T13:33:24.556421Z",
     "iopub.status.busy": "2023-01-13T13:33:24.555478Z",
     "iopub.status.idle": "2023-01-13T13:33:24.566838Z",
     "shell.execute_reply": "2023-01-13T13:33:24.565991Z"
    },
    "papermill": {
     "duration": 0.023817,
     "end_time": "2023-01-13T13:33:24.569311",
     "exception": false,
     "start_time": "2023-01-13T13:33:24.545494",
     "status": "completed"
    },
    "tags": []
   },
   "outputs": [],
   "source": [
    "from sklearn.model_selection import train_test_split\n",
    "\n",
    "#test set을 20%, trainnig set을 80%로 설정\n",
    "x_train, x_test, y_train, y_test = train_test_split(wine_x, wine_y,\n",
    "                                                    test_size = 0.2,\n",
    "                                                    stratify=wine_y,\n",
    "                                                    random_state = 12)"
   ]
  },
  {
   "cell_type": "code",
   "execution_count": 14,
   "id": "cb757483",
   "metadata": {
    "execution": {
     "iopub.execute_input": "2023-01-13T13:33:24.590366Z",
     "iopub.status.busy": "2023-01-13T13:33:24.589656Z",
     "iopub.status.idle": "2023-01-13T13:33:24.603454Z",
     "shell.execute_reply": "2023-01-13T13:33:24.601928Z"
    },
    "papermill": {
     "duration": 0.027957,
     "end_time": "2023-01-13T13:33:24.606160",
     "exception": false,
     "start_time": "2023-01-13T13:33:24.578203",
     "status": "completed"
    },
    "tags": []
   },
   "outputs": [
    {
     "name": "stdout",
     "output_type": "stream",
     "text": [
      "[[0.22123894 0.40410959 0.         ... 0.53043478 0.13333333 0.15384615]\n",
      " [0.25663717 0.19863014 0.18987342 ... 0.24347826 0.15151515 0.10769231]\n",
      " [0.2300885  0.15068493 0.26582278 ... 0.44347826 0.12727273 0.26153846]\n",
      " ...\n",
      " [0.20353982 0.49315068 0.26582278 ... 0.5826087  0.23636364 0.12820513]\n",
      " [0.25663717 0.32191781 0.27848101 ... 0.20869565 0.05454545 0.12307692]\n",
      " [0.92035398 0.06164384 0.55696203 ... 0.1826087  0.30909091 0.12307692]]\n"
     ]
    }
   ],
   "source": [
    "#데이터 전처리\n",
    "from sklearn.preprocessing import MinMaxScaler\n",
    "\n",
    "scaler = MinMaxScaler()\n",
    "\n",
    "scaler.fit(x_train)\n",
    "\n",
    "x_train = scaler.transform(x_train)\n",
    "x_test = scaler.transform(x_test)\n",
    "\n",
    "print(x_train)"
   ]
  },
  {
   "cell_type": "code",
   "execution_count": 15,
   "id": "f8f1ef0d",
   "metadata": {
    "execution": {
     "iopub.execute_input": "2023-01-13T13:33:24.626000Z",
     "iopub.status.busy": "2023-01-13T13:33:24.625556Z",
     "iopub.status.idle": "2023-01-13T13:33:28.323424Z",
     "shell.execute_reply": "2023-01-13T13:33:28.322286Z"
    },
    "papermill": {
     "duration": 3.711423,
     "end_time": "2023-01-13T13:33:28.326979",
     "exception": false,
     "start_time": "2023-01-13T13:33:24.615556",
     "status": "completed"
    },
    "tags": []
   },
   "outputs": [
    {
     "name": "stdout",
     "output_type": "stream",
     "text": [
      "random forest 평균 정확도:  0.9007\n",
      "XGBoost 평균 정확도:  0.8976\n",
      "LogisticRegression 평균 정확도:  0.8718\n"
     ]
    }
   ],
   "source": [
    "import numpy as np\n",
    "from sklearn.model_selection import cross_val_score\n",
    "from sklearn.ensemble import RandomForestClassifier\n",
    "from sklearn.linear_model import LogisticRegression\n",
    "from xgboost import XGBClassifier\n",
    "\n",
    "rfc = RandomForestClassifier(random_state=12)\n",
    "xgb = XGBClassifier(random_state=12)\n",
    "lrg = LogisticRegression(solver='liblinear', random_state=12)\n",
    "\n",
    "rfc_cv_scores = cross_val_score(rfc, x_train , y_train , cv=5)\n",
    "xgb_cv_scores = cross_val_score(xgb, x_train , y_train , cv=5)\n",
    "lrg_cv_scores = cross_val_score(lrg, x_train , y_train , cv=5)\n",
    "\n",
    "print(\"random forest 평균 정확도: \", round(np.mean(rfc_cv_scores), 4))\n",
    "print(\"XGBoost 평균 정확도: \", round(np.mean(xgb_cv_scores), 4))\n",
    "print(\"LogisticRegression 평균 정확도: \", round(np.mean(lrg_cv_scores), 4))"
   ]
  },
  {
   "cell_type": "code",
   "execution_count": 16,
   "id": "1ee8360e",
   "metadata": {
    "execution": {
     "iopub.execute_input": "2023-01-13T13:33:28.347479Z",
     "iopub.status.busy": "2023-01-13T13:33:28.347091Z",
     "iopub.status.idle": "2023-01-13T13:33:28.645200Z",
     "shell.execute_reply": "2023-01-13T13:33:28.643879Z"
    },
    "papermill": {
     "duration": 0.310819,
     "end_time": "2023-01-13T13:33:28.647648",
     "exception": false,
     "start_time": "2023-01-13T13:33:28.336829",
     "status": "completed"
    },
    "tags": []
   },
   "outputs": [
    {
     "name": "stdout",
     "output_type": "stream",
     "text": [
      " test 데이터에서의 RandomForestClassifier 정확도: 0.9094\n",
      " test 데이터에서의 LogisticRegression 정확도: 0.8844\n"
     ]
    }
   ],
   "source": [
    "from sklearn.metrics import accuracy_score\n",
    "\n",
    "rfc.fit(x_train , y_train)\n",
    "lrg.fit(x_train, y_train)\n",
    "pred = rfc.predict(x_test)\n",
    "pred2 = lrg.predict(x_test)\n",
    "accuracy = accuracy_score(y_test, pred)\n",
    "accuracy2 = accuracy_score(y_test, pred2)\n",
    "\n",
    "print(\" test 데이터에서의 RandomForestClassifier 정확도:\", round(accuracy,4))\n",
    "print(\" test 데이터에서의 LogisticRegression 정확도:\", round(accuracy2,4))"
   ]
  },
  {
   "cell_type": "code",
   "execution_count": 17,
   "id": "3e981138",
   "metadata": {
    "execution": {
     "iopub.execute_input": "2023-01-13T13:33:28.667467Z",
     "iopub.status.busy": "2023-01-13T13:33:28.667056Z",
     "iopub.status.idle": "2023-01-13T13:33:33.917904Z",
     "shell.execute_reply": "2023-01-13T13:33:33.916326Z"
    },
    "papermill": {
     "duration": 5.264816,
     "end_time": "2023-01-13T13:33:33.921385",
     "exception": false,
     "start_time": "2023-01-13T13:33:28.656569",
     "status": "completed"
    },
    "tags": []
   },
   "outputs": [],
   "source": [
    "import tensorflow as tf\n",
    "import numpy as np\n",
    "import matplotlib.pyplot as plt"
   ]
  },
  {
   "cell_type": "code",
   "execution_count": 18,
   "id": "2dc3d4b4",
   "metadata": {
    "execution": {
     "iopub.execute_input": "2023-01-13T13:33:33.941006Z",
     "iopub.status.busy": "2023-01-13T13:33:33.940307Z",
     "iopub.status.idle": "2023-01-13T13:33:35.085754Z",
     "shell.execute_reply": "2023-01-13T13:33:35.084287Z"
    },
    "papermill": {
     "duration": 1.157856,
     "end_time": "2023-01-13T13:33:35.088192",
     "exception": false,
     "start_time": "2023-01-13T13:33:33.930336",
     "status": "completed"
    },
    "tags": []
   },
   "outputs": [
    {
     "name": "stdout",
     "output_type": "stream",
     "text": [
      "Model: \"sequential\"\n",
      "_________________________________________________________________\n",
      "Layer (type)                 Output Shape              Param #   \n",
      "=================================================================\n",
      "dense (Dense)                (None, 32)                384       \n",
      "_________________________________________________________________\n",
      "dense_1 (Dense)              (None, 10)                330       \n",
      "_________________________________________________________________\n",
      "dense_2 (Dense)              (None, 10)                110       \n",
      "_________________________________________________________________\n",
      "dense_3 (Dense)              (None, 1)                 11        \n",
      "=================================================================\n",
      "Total params: 835\n",
      "Trainable params: 835\n",
      "Non-trainable params: 0\n",
      "_________________________________________________________________\n"
     ]
    },
    {
     "name": "stderr",
     "output_type": "stream",
     "text": [
      "2023-01-13 13:33:35.006662: I tensorflow/core/common_runtime/process_util.cc:146] Creating new thread pool with default inter op setting: 2. Tune using inter_op_parallelism_threads for best performance.\n"
     ]
    }
   ],
   "source": [
    "model = tf.keras.models.Sequential([\n",
    "    tf.keras.Input(shape=(11,)),\n",
    "    tf.keras.layers.Dense(units= 32, activation = 'relu'),\n",
    "    tf.keras.layers.Dense(units = 10, activation='relu'),\n",
    "    tf.keras.layers.Dense(units = 10, activation='relu'),\n",
    "    tf.keras.layers.Dense(units= 1,  activation='sigmoid'),\n",
    "    #마지막 계층\n",
    "])\n",
    "model.summary()"
   ]
  },
  {
   "cell_type": "code",
   "execution_count": 19,
   "id": "df32937f",
   "metadata": {
    "execution": {
     "iopub.execute_input": "2023-01-13T13:33:35.108766Z",
     "iopub.status.busy": "2023-01-13T13:33:35.107596Z",
     "iopub.status.idle": "2023-01-13T13:33:38.932902Z",
     "shell.execute_reply": "2023-01-13T13:33:38.931216Z"
    },
    "papermill": {
     "duration": 3.838686,
     "end_time": "2023-01-13T13:33:38.936049",
     "exception": false,
     "start_time": "2023-01-13T13:33:35.097363",
     "status": "completed"
    },
    "tags": []
   },
   "outputs": [
    {
     "name": "stderr",
     "output_type": "stream",
     "text": [
      "2023-01-13 13:33:35.203701: I tensorflow/compiler/mlir/mlir_graph_optimization_pass.cc:185] None of the MLIR Optimization Passes are enabled (registered 2)\n"
     ]
    },
    {
     "name": "stdout",
     "output_type": "stream",
     "text": [
      "Epoch 1/50\n",
      "5/5 [==============================] - 1s 61ms/step - loss: 0.6441 - accuracy: 0.6864 - val_loss: 0.5157 - val_accuracy: 0.8750\n",
      "Epoch 2/50\n",
      "5/5 [==============================] - 0s 10ms/step - loss: 0.4705 - accuracy: 0.8627 - val_loss: 0.4060 - val_accuracy: 0.8750\n",
      "Epoch 3/50\n",
      "5/5 [==============================] - 0s 11ms/step - loss: 0.4324 - accuracy: 0.8627 - val_loss: 0.4146 - val_accuracy: 0.8750\n",
      "Epoch 4/50\n",
      "5/5 [==============================] - 0s 11ms/step - loss: 0.4350 - accuracy: 0.8627 - val_loss: 0.3860 - val_accuracy: 0.8750\n",
      "Epoch 5/50\n",
      "5/5 [==============================] - 0s 11ms/step - loss: 0.4009 - accuracy: 0.8627 - val_loss: 0.3756 - val_accuracy: 0.8750\n",
      "Epoch 6/50\n",
      "5/5 [==============================] - 0s 11ms/step - loss: 0.3870 - accuracy: 0.8627 - val_loss: 0.3623 - val_accuracy: 0.8750\n",
      "Epoch 7/50\n",
      "5/5 [==============================] - 0s 11ms/step - loss: 0.3654 - accuracy: 0.8627 - val_loss: 0.3289 - val_accuracy: 0.8750\n",
      "Epoch 8/50\n",
      "5/5 [==============================] - 0s 16ms/step - loss: 0.3382 - accuracy: 0.8627 - val_loss: 0.3040 - val_accuracy: 0.8750\n",
      "Epoch 9/50\n",
      "5/5 [==============================] - 0s 15ms/step - loss: 0.3159 - accuracy: 0.8610 - val_loss: 0.2848 - val_accuracy: 0.8828\n",
      "Epoch 10/50\n",
      "5/5 [==============================] - 0s 11ms/step - loss: 0.3012 - accuracy: 0.8627 - val_loss: 0.2775 - val_accuracy: 0.8594\n",
      "Epoch 11/50\n",
      "5/5 [==============================] - 0s 10ms/step - loss: 0.2915 - accuracy: 0.8671 - val_loss: 0.2689 - val_accuracy: 0.8672\n",
      "Epoch 12/50\n",
      "5/5 [==============================] - 0s 10ms/step - loss: 0.2875 - accuracy: 0.8740 - val_loss: 0.2687 - val_accuracy: 0.8750\n",
      "Epoch 13/50\n",
      "5/5 [==============================] - 0s 11ms/step - loss: 0.2852 - accuracy: 0.8671 - val_loss: 0.2841 - val_accuracy: 0.8906\n",
      "Epoch 14/50\n",
      "5/5 [==============================] - 0s 11ms/step - loss: 0.2846 - accuracy: 0.8766 - val_loss: 0.2798 - val_accuracy: 0.8828\n",
      "Epoch 15/50\n",
      "5/5 [==============================] - 0s 11ms/step - loss: 0.3032 - accuracy: 0.8662 - val_loss: 0.2904 - val_accuracy: 0.8906\n",
      "Epoch 16/50\n",
      "5/5 [==============================] - 0s 10ms/step - loss: 0.2906 - accuracy: 0.8679 - val_loss: 0.2688 - val_accuracy: 0.8750\n",
      "Epoch 17/50\n",
      "5/5 [==============================] - 0s 10ms/step - loss: 0.2854 - accuracy: 0.8732 - val_loss: 0.2721 - val_accuracy: 0.8984\n",
      "Epoch 18/50\n",
      "5/5 [==============================] - 0s 11ms/step - loss: 0.2808 - accuracy: 0.8688 - val_loss: 0.2710 - val_accuracy: 0.8906\n",
      "Epoch 19/50\n",
      "5/5 [==============================] - 0s 11ms/step - loss: 0.2794 - accuracy: 0.8732 - val_loss: 0.2683 - val_accuracy: 0.8828\n",
      "Epoch 20/50\n",
      "5/5 [==============================] - 0s 11ms/step - loss: 0.2797 - accuracy: 0.8723 - val_loss: 0.2691 - val_accuracy: 0.8828\n",
      "Epoch 21/50\n",
      "5/5 [==============================] - 0s 10ms/step - loss: 0.2812 - accuracy: 0.8766 - val_loss: 0.2671 - val_accuracy: 0.8906\n",
      "Epoch 22/50\n",
      "5/5 [==============================] - 0s 10ms/step - loss: 0.2743 - accuracy: 0.8749 - val_loss: 0.2749 - val_accuracy: 0.8750\n",
      "Epoch 23/50\n",
      "5/5 [==============================] - 0s 11ms/step - loss: 0.2749 - accuracy: 0.8775 - val_loss: 0.2664 - val_accuracy: 0.8906\n",
      "Epoch 24/50\n",
      "5/5 [==============================] - 0s 11ms/step - loss: 0.2702 - accuracy: 0.8732 - val_loss: 0.2797 - val_accuracy: 0.8672\n",
      "Epoch 25/50\n",
      "5/5 [==============================] - 0s 11ms/step - loss: 0.2738 - accuracy: 0.8714 - val_loss: 0.2668 - val_accuracy: 0.8828\n",
      "Epoch 26/50\n",
      "5/5 [==============================] - 0s 11ms/step - loss: 0.2729 - accuracy: 0.8740 - val_loss: 0.2726 - val_accuracy: 0.8828\n",
      "Epoch 27/50\n",
      "5/5 [==============================] - 0s 11ms/step - loss: 0.2695 - accuracy: 0.8801 - val_loss: 0.2676 - val_accuracy: 0.8750\n",
      "Epoch 28/50\n",
      "5/5 [==============================] - 0s 11ms/step - loss: 0.2676 - accuracy: 0.8784 - val_loss: 0.2760 - val_accuracy: 0.8672\n",
      "Epoch 29/50\n",
      "5/5 [==============================] - 0s 11ms/step - loss: 0.2679 - accuracy: 0.8792 - val_loss: 0.2672 - val_accuracy: 0.8906\n",
      "Epoch 30/50\n",
      "5/5 [==============================] - 0s 10ms/step - loss: 0.2654 - accuracy: 0.8766 - val_loss: 0.2804 - val_accuracy: 0.8672\n",
      "Epoch 31/50\n",
      "5/5 [==============================] - 0s 11ms/step - loss: 0.2701 - accuracy: 0.8749 - val_loss: 0.2675 - val_accuracy: 0.8828\n",
      "Epoch 32/50\n",
      "5/5 [==============================] - 0s 11ms/step - loss: 0.2701 - accuracy: 0.8836 - val_loss: 0.2709 - val_accuracy: 0.8828\n",
      "Epoch 33/50\n",
      "5/5 [==============================] - 0s 11ms/step - loss: 0.2679 - accuracy: 0.8740 - val_loss: 0.2695 - val_accuracy: 0.8828\n",
      "Epoch 34/50\n",
      "5/5 [==============================] - 0s 11ms/step - loss: 0.2638 - accuracy: 0.8801 - val_loss: 0.2681 - val_accuracy: 0.8828\n",
      "Epoch 35/50\n",
      "5/5 [==============================] - 0s 10ms/step - loss: 0.2636 - accuracy: 0.8792 - val_loss: 0.2722 - val_accuracy: 0.8828\n",
      "Epoch 36/50\n",
      "5/5 [==============================] - 0s 10ms/step - loss: 0.2635 - accuracy: 0.8801 - val_loss: 0.2699 - val_accuracy: 0.8828\n",
      "Epoch 37/50\n",
      "5/5 [==============================] - 0s 10ms/step - loss: 0.2618 - accuracy: 0.8766 - val_loss: 0.2749 - val_accuracy: 0.8672\n",
      "Epoch 38/50\n",
      "5/5 [==============================] - 0s 11ms/step - loss: 0.2621 - accuracy: 0.8758 - val_loss: 0.2708 - val_accuracy: 0.8828\n",
      "Epoch 39/50\n",
      "5/5 [==============================] - 0s 10ms/step - loss: 0.2622 - accuracy: 0.8775 - val_loss: 0.2697 - val_accuracy: 0.8828\n",
      "Epoch 40/50\n",
      "5/5 [==============================] - 0s 10ms/step - loss: 0.2622 - accuracy: 0.8827 - val_loss: 0.2815 - val_accuracy: 0.8672\n",
      "Epoch 41/50\n",
      "5/5 [==============================] - 0s 10ms/step - loss: 0.2616 - accuracy: 0.8766 - val_loss: 0.2682 - val_accuracy: 0.8906\n",
      "Epoch 42/50\n",
      "5/5 [==============================] - 0s 10ms/step - loss: 0.2596 - accuracy: 0.8775 - val_loss: 0.2791 - val_accuracy: 0.8672\n",
      "Epoch 43/50\n",
      "5/5 [==============================] - 0s 10ms/step - loss: 0.2587 - accuracy: 0.8749 - val_loss: 0.2705 - val_accuracy: 0.8906\n",
      "Epoch 44/50\n",
      "5/5 [==============================] - 0s 11ms/step - loss: 0.2576 - accuracy: 0.8810 - val_loss: 0.2788 - val_accuracy: 0.8672\n",
      "Epoch 45/50\n",
      "5/5 [==============================] - 0s 11ms/step - loss: 0.2567 - accuracy: 0.8784 - val_loss: 0.2717 - val_accuracy: 0.8906\n",
      "Epoch 46/50\n",
      "5/5 [==============================] - 0s 11ms/step - loss: 0.2563 - accuracy: 0.8827 - val_loss: 0.2818 - val_accuracy: 0.8594\n",
      "Epoch 47/50\n",
      "5/5 [==============================] - 0s 10ms/step - loss: 0.2626 - accuracy: 0.8766 - val_loss: 0.2719 - val_accuracy: 0.8828\n",
      "Epoch 48/50\n",
      "5/5 [==============================] - 0s 11ms/step - loss: 0.2623 - accuracy: 0.8818 - val_loss: 0.2833 - val_accuracy: 0.8672\n",
      "Epoch 49/50\n",
      "5/5 [==============================] - 0s 10ms/step - loss: 0.2621 - accuracy: 0.8836 - val_loss: 0.2709 - val_accuracy: 0.8750\n",
      "Epoch 50/50\n",
      "5/5 [==============================] - 0s 11ms/step - loss: 0.2652 - accuracy: 0.8758 - val_loss: 0.2793 - val_accuracy: 0.8672\n",
      "10/10 - 0s - loss: 0.2741 - accuracy: 0.8938\n"
     ]
    },
    {
     "data": {
      "text/plain": [
       "[0.27405846118927, 0.893750011920929]"
      ]
     },
     "execution_count": 19,
     "metadata": {},
     "output_type": "execute_result"
    }
   ],
   "source": [
    "#loss_fn = tf.keras.losses.binary_crossentropy()\n",
    "optimizer = tf.keras.optimizers.Adam(learning_rate = 0.01)\n",
    "model.compile(optimizer = optimizer, loss='binary_crossentropy', metrics = ['accuracy'])\n",
    "history = model.fit(x_train, y_train, epochs = 50, batch_size = 256, validation_split = 0.1)\n",
    "model.evaluate(x_test, y_test, verbose=2)"
   ]
  },
  {
   "cell_type": "markdown",
   "id": "c17e2a4a",
   "metadata": {
    "papermill": {
     "duration": 0.015627,
     "end_time": "2023-01-13T13:33:38.968152",
     "exception": false,
     "start_time": "2023-01-13T13:33:38.952525",
     "status": "completed"
    },
    "tags": []
   },
   "source": []
  },
  {
   "cell_type": "code",
   "execution_count": 20,
   "id": "7c77f730",
   "metadata": {
    "execution": {
     "iopub.execute_input": "2023-01-13T13:33:39.002303Z",
     "iopub.status.busy": "2023-01-13T13:33:39.001331Z",
     "iopub.status.idle": "2023-01-13T13:33:39.191616Z",
     "shell.execute_reply": "2023-01-13T13:33:39.190710Z"
    },
    "papermill": {
     "duration": 0.20984,
     "end_time": "2023-01-13T13:33:39.194037",
     "exception": false,
     "start_time": "2023-01-13T13:33:38.984197",
     "status": "completed"
    },
    "tags": []
   },
   "outputs": [
    {
     "data": {
      "text/plain": [
       "<matplotlib.legend.Legend at 0x7f8efe7f0b50>"
      ]
     },
     "execution_count": 20,
     "metadata": {},
     "output_type": "execute_result"
    },
    {
     "data": {
      "image/png": "[encoded data removed]",
      "text/plain": [
       "<Figure size 864x288 with 1 Axes>"
      ]
     },
     "metadata": {
      "needs_background": "light"
     },
     "output_type": "display_data"
    }
   ],
   "source": [
    "plt.figure(figsize=(12, 4))\n",
    "\n",
    "plt.subplot(1, 2, 1)\n",
    "plt.plot(history.history['loss'], 'b-', label='loss')\n",
    "plt.plot(history.history['val_loss'], 'r--', label='val_loss')\n",
    "plt.xlabel('Epoch')\n",
    "plt.legend()"
   ]
  },
  {
   "cell_type": "code",
   "execution_count": 21,
   "id": "b62e71ea",
   "metadata": {
    "execution": {
     "iopub.execute_input": "2023-01-13T13:33:39.229163Z",
     "iopub.status.busy": "2023-01-13T13:33:39.228726Z",
     "iopub.status.idle": "2023-01-13T13:33:39.415145Z",
     "shell.execute_reply": "2023-01-13T13:33:39.413796Z"
    },
    "papermill": {
     "duration": 0.207607,
     "end_time": "2023-01-13T13:33:39.418222",
     "exception": false,
     "start_time": "2023-01-13T13:33:39.210615",
     "status": "completed"
    },
    "tags": []
   },
   "outputs": [
    {
     "data": {
      "image/png": "[encoded data removed]",
      "text/plain": [
       "<Figure size 1440x864 with 1 Axes>"
      ]
     },
     "metadata": {
      "needs_background": "light"
     },
     "output_type": "display_data"
    }
   ],
   "source": [
    "plt.subplot(1, 2, 2)\n",
    "plt.plot(history.history['accuracy'], 'g-', label='accuracy')\n",
    "plt.plot(history.history['val_accuracy'], 'k--', label='val_accuracy')\n",
    "plt.xlabel('Epoch')\n",
    "plt.ylim(0.7, 1)\n",
    "plt.legend()\n",
    "\n",
    "plt.show()"
   ]
  }
 ],
 "metadata": {
  "kernelspec": {
   "display_name": "Python 3",
   "language": "python",
   "name": "python3"
  },
  "language_info": {
   "codemirror_mode": {
    "name": "ipython",
    "version": 3
   },
   "file_extension": ".py",
   "mimetype": "text/x-python",
   "name": "python",
   "nbconvert_exporter": "python",
   "pygments_lexer": "ipython3",
   "version": "3.7.12"
  },
  "papermill": {
   "default_parameters": {},
   "duration": 29.1767,
   "end_time": "2023-01-13T13:33:42.671204",
   "environment_variables": {},
   "exception": null,
   "input_path": "__notebook__.ipynb",
   "output_path": "__notebook__.ipynb",
   "parameters": {},
   "start_time": "2023-01-13T13:33:13.494504",
   "version": "2.3.4"
  }
 },
 "nbformat": 4,
 "nbformat_minor": 5
}
