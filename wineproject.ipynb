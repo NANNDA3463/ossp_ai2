{
 "cells": [
  {
   "cell_type": "code",
   "execution_count": 1,
   "id": "2ea2cc15",
   "metadata": {
    "_cell_guid": "b1076dfc-b9ad-4769-8c92-a6c4dae69d19",
    "_uuid": "8f2839f25d086af736a60e9eeb907d3b93b6e0e5",
    "execution": {
     "iopub.execute_input": "2023-01-10T12:42:59.705506Z",
     "iopub.status.busy": "2023-01-10T12:42:59.705094Z",
     "iopub.status.idle": "2023-01-10T12:43:01.086738Z",
     "shell.execute_reply": "2023-01-10T12:43:01.085794Z"
    },
    "papermill": {
     "duration": 1.394589,
     "end_time": "2023-01-10T12:43:01.090989",
     "exception": false,
     "start_time": "2023-01-10T12:42:59.696400",
     "status": "completed"
    },
    "tags": []
   },
   "outputs": [
    {
     "name": "stdout",
     "output_type": "stream",
     "text": [
      "/kaggle/input/red-wine-quality-cortez-et-al-2009/winequality-red.csv\n"
     ]
    },
    {
     "data": {
      "text/html": [
       "<div>\n",
       "<style scoped>\n",
       "    .dataframe tbody tr th:only-of-type {\n",
       "        vertical-align: middle;\n",
       "    }\n",
       "\n",
       "    .dataframe tbody tr th {\n",
       "        vertical-align: top;\n",
       "    }\n",
       "\n",
       "    .dataframe thead th {\n",
       "        text-align: right;\n",
       "    }\n",
       "</style>\n",
       "<table border=\"1\" class=\"dataframe\">\n",
       "  <thead>\n",
       "    <tr style=\"text-align: right;\">\n",
       "      <th></th>\n",
       "      <th>fixed acidity</th>\n",
       "      <th>volatile acidity</th>\n",
       "      <th>citric acid</th>\n",
       "      <th>residual sugar</th>\n",
       "      <th>chlorides</th>\n",
       "      <th>free sulfur dioxide</th>\n",
       "      <th>total sulfur dioxide</th>\n",
       "      <th>density</th>\n",
       "      <th>pH</th>\n",
       "      <th>sulphates</th>\n",
       "      <th>alcohol</th>\n",
       "      <th>quality</th>\n",
       "    </tr>\n",
       "  </thead>\n",
       "  <tbody>\n",
       "    <tr>\n",
       "      <th>0</th>\n",
       "      <td>7.4</td>\n",
       "      <td>0.70</td>\n",
       "      <td>0.00</td>\n",
       "      <td>1.9</td>\n",
       "      <td>0.076</td>\n",
       "      <td>11.0</td>\n",
       "      <td>34.0</td>\n",
       "      <td>0.9978</td>\n",
       "      <td>3.51</td>\n",
       "      <td>0.56</td>\n",
       "      <td>9.4</td>\n",
       "      <td>5</td>\n",
       "    </tr>\n",
       "    <tr>\n",
       "      <th>1</th>\n",
       "      <td>7.8</td>\n",
       "      <td>0.88</td>\n",
       "      <td>0.00</td>\n",
       "      <td>2.6</td>\n",
       "      <td>0.098</td>\n",
       "      <td>25.0</td>\n",
       "      <td>67.0</td>\n",
       "      <td>0.9968</td>\n",
       "      <td>3.20</td>\n",
       "      <td>0.68</td>\n",
       "      <td>9.8</td>\n",
       "      <td>5</td>\n",
       "    </tr>\n",
       "    <tr>\n",
       "      <th>2</th>\n",
       "      <td>7.8</td>\n",
       "      <td>0.76</td>\n",
       "      <td>0.04</td>\n",
       "      <td>2.3</td>\n",
       "      <td>0.092</td>\n",
       "      <td>15.0</td>\n",
       "      <td>54.0</td>\n",
       "      <td>0.9970</td>\n",
       "      <td>3.26</td>\n",
       "      <td>0.65</td>\n",
       "      <td>9.8</td>\n",
       "      <td>5</td>\n",
       "    </tr>\n",
       "    <tr>\n",
       "      <th>3</th>\n",
       "      <td>11.2</td>\n",
       "      <td>0.28</td>\n",
       "      <td>0.56</td>\n",
       "      <td>1.9</td>\n",
       "      <td>0.075</td>\n",
       "      <td>17.0</td>\n",
       "      <td>60.0</td>\n",
       "      <td>0.9980</td>\n",
       "      <td>3.16</td>\n",
       "      <td>0.58</td>\n",
       "      <td>9.8</td>\n",
       "      <td>6</td>\n",
       "    </tr>\n",
       "    <tr>\n",
       "      <th>4</th>\n",
       "      <td>7.4</td>\n",
       "      <td>0.70</td>\n",
       "      <td>0.00</td>\n",
       "      <td>1.9</td>\n",
       "      <td>0.076</td>\n",
       "      <td>11.0</td>\n",
       "      <td>34.0</td>\n",
       "      <td>0.9978</td>\n",
       "      <td>3.51</td>\n",
       "      <td>0.56</td>\n",
       "      <td>9.4</td>\n",
       "      <td>5</td>\n",
       "    </tr>\n",
       "  </tbody>\n",
       "</table>\n",
       "</div>"
      ],
      "text/plain": [
       "   fixed acidity  volatile acidity  citric acid  residual sugar  chlorides  \\\n",
       "0            7.4              0.70         0.00             1.9      0.076   \n",
       "1            7.8              0.88         0.00             2.6      0.098   \n",
       "2            7.8              0.76         0.04             2.3      0.092   \n",
       "3           11.2              0.28         0.56             1.9      0.075   \n",
       "4            7.4              0.70         0.00             1.9      0.076   \n",
       "\n",
       "   free sulfur dioxide  total sulfur dioxide  density    pH  sulphates  \\\n",
       "0                 11.0                  34.0   0.9978  3.51       0.56   \n",
       "1                 25.0                  67.0   0.9968  3.20       0.68   \n",
       "2                 15.0                  54.0   0.9970  3.26       0.65   \n",
       "3                 17.0                  60.0   0.9980  3.16       0.58   \n",
       "4                 11.0                  34.0   0.9978  3.51       0.56   \n",
       "\n",
       "   alcohol  quality  \n",
       "0      9.4        5  \n",
       "1      9.8        5  \n",
       "2      9.8        5  \n",
       "3      9.8        6  \n",
       "4      9.4        5  "
      ]
     },
     "execution_count": 1,
     "metadata": {},
     "output_type": "execute_result"
    }
   ],
   "source": [
    "## 기본 패키지 모음\n",
    "import numpy as np\n",
    "import pandas as pd\n",
    "import matplotlib.pyplot as plt\n",
    "import seaborn as sns\n",
    " \n",
    "## 전처리 및 모델링 준비를 위한 패키지\n",
    "from sklearn.preprocessing import StandardScaler, LabelEncoder\n",
    "from sklearn.model_selection import train_test_split\n",
    "from sklearn.linear_model import LinearRegression\n",
    "from sklearn.model_selection import train_test_split\n",
    " \n",
    "## 실제 모델링을 위한 패키지\n",
    "from sklearn.ensemble import RandomForestClassifier\n",
    "from sklearn.linear_model import LogisticRegression\n",
    "from sklearn.svm import SVC\n",
    "from sklearn import tree\n",
    "from sklearn.ensemble import RandomForestClassifier\n",
    "from sklearn.neighbors import KNeighborsClassifier\n",
    "from sklearn.naive_bayes import GaussianNB\n",
    " \n",
    "## 모델 평가를 위한 패키지\n",
    "from sklearn.metrics import classification_report\n",
    "from sklearn import metrics\n",
    "\n",
    "import os\n",
    "for dirname, _, filenames in os.walk('/kaggle/input'):\n",
    "    for filename in filenames:\n",
    "        print(os.path.join(dirname, filename))\n",
    "        \n",
    "    \n",
    "red_wine_quality = pd.read_csv(\"/kaggle/input/red-wine-quality-cortez-et-al-2009/winequality-red.csv\")\n",
    "red_wine_quality.head(5)"
   ]
  },
  {
   "cell_type": "code",
   "execution_count": 2,
   "id": "4fa1a585",
   "metadata": {
    "execution": {
     "iopub.execute_input": "2023-01-10T12:43:01.103449Z",
     "iopub.status.busy": "2023-01-10T12:43:01.103150Z",
     "iopub.status.idle": "2023-01-10T12:43:01.115135Z",
     "shell.execute_reply": "2023-01-10T12:43:01.114155Z"
    },
    "papermill": {
     "duration": 0.022652,
     "end_time": "2023-01-10T12:43:01.119241",
     "exception": false,
     "start_time": "2023-01-10T12:43:01.096589",
     "status": "completed"
    },
    "tags": []
   },
   "outputs": [
    {
     "name": "stdout",
     "output_type": "stream",
     "text": [
      "the red_wine_quality shape is: (1599, 12)\n",
      "\n",
      "   fixed acidity  volatile acidity  citric acid  residual sugar  chlorides  \\\n",
      "0            7.4              0.70         0.00             1.9      0.076   \n",
      "1            7.8              0.88         0.00             2.6      0.098   \n",
      "2            7.8              0.76         0.04             2.3      0.092   \n",
      "3           11.2              0.28         0.56             1.9      0.075   \n",
      "4            7.4              0.70         0.00             1.9      0.076   \n",
      "\n",
      "   free sulfur dioxide  total sulfur dioxide  density    pH  sulphates  \\\n",
      "0                 11.0                  34.0   0.9978  3.51       0.56   \n",
      "1                 25.0                  67.0   0.9968  3.20       0.68   \n",
      "2                 15.0                  54.0   0.9970  3.26       0.65   \n",
      "3                 17.0                  60.0   0.9980  3.16       0.58   \n",
      "4                 11.0                  34.0   0.9978  3.51       0.56   \n",
      "\n",
      "   alcohol  quality  \n",
      "0      9.4        5  \n",
      "1      9.8        5  \n",
      "2      9.8        5  \n",
      "3      9.8        6  \n",
      "4      9.4        5  \n",
      "\n",
      "Index(['fixed acidity', 'volatile acidity', 'citric acid', 'residual sugar',\n",
      "       'chlorides', 'free sulfur dioxide', 'total sulfur dioxide', 'density',\n",
      "       'pH', 'sulphates', 'alcohol', 'quality'],\n",
      "      dtype='object')\n"
     ]
    }
   ],
   "source": [
    "print(f\"the red_wine_quality shape is: {red_wine_quality.shape}\")\n",
    "print(\"\")\n",
    "print(red_wine_quality.head())\n",
    "print(\"\")\n",
    "print(red_wine_quality.columns)"
   ]
  },
  {
   "cell_type": "code",
   "execution_count": 3,
   "id": "9fde78a1",
   "metadata": {
    "execution": {
     "iopub.execute_input": "2023-01-10T12:43:01.133942Z",
     "iopub.status.busy": "2023-01-10T12:43:01.133365Z",
     "iopub.status.idle": "2023-01-10T12:43:01.142910Z",
     "shell.execute_reply": "2023-01-10T12:43:01.141747Z"
    },
    "papermill": {
     "duration": 0.020195,
     "end_time": "2023-01-10T12:43:01.145232",
     "exception": false,
     "start_time": "2023-01-10T12:43:01.125037",
     "status": "completed"
    },
    "tags": []
   },
   "outputs": [
    {
     "name": "stdout",
     "output_type": "stream",
     "text": [
      "The x variable is: [3.51 3.2  3.26 ... 3.42 3.57 3.39]\n",
      "\n",
      "The y variable is: [5 5 5 ... 6 5 6]\n",
      "\n",
      "The shape of x is: (1599,)\n",
      "The shape of y is: (1599,)\n"
     ]
    }
   ],
   "source": [
    "x = red_wine_quality[\"pH\"].values\n",
    "y = red_wine_quality[\"quality\"].values\n",
    "\n",
    "print(\"The x variable is:\", x)\n",
    "print(\"\")\n",
    "print(\"The y variable is:\", y)\n",
    "print(\"\")\n",
    "print(\"The shape of x is:\", x.shape)\n",
    "print(\"The shape of y is:\", y.shape)"
   ]
  },
  {
   "cell_type": "code",
   "execution_count": 4,
   "id": "85c1eb85",
   "metadata": {
    "execution": {
     "iopub.execute_input": "2023-01-10T12:43:01.158262Z",
     "iopub.status.busy": "2023-01-10T12:43:01.157969Z",
     "iopub.status.idle": "2023-01-10T12:43:01.163582Z",
     "shell.execute_reply": "2023-01-10T12:43:01.162659Z"
    },
    "papermill": {
     "duration": 0.015332,
     "end_time": "2023-01-10T12:43:01.166666",
     "exception": false,
     "start_time": "2023-01-10T12:43:01.151334",
     "status": "completed"
    },
    "tags": []
   },
   "outputs": [
    {
     "name": "stdout",
     "output_type": "stream",
     "text": [
      "<class 'numpy.ndarray'>\n",
      "[[3.51]\n",
      " [3.2 ]\n",
      " [3.26]\n",
      " ...\n",
      " [3.42]\n",
      " [3.57]\n",
      " [3.39]]\n",
      "\n",
      "the shape of x is: (1599, 1)\n"
     ]
    }
   ],
   "source": [
    "print(type(x))\n",
    "x = x.reshape(-1, 1)\n",
    "print(x)\n",
    "print(\"\")\n",
    "print(\"the shape of x is:\", x.shape)"
   ]
  },
  {
   "cell_type": "code",
   "execution_count": 5,
   "id": "509eaba0",
   "metadata": {
    "execution": {
     "iopub.execute_input": "2023-01-10T12:43:01.181235Z",
     "iopub.status.busy": "2023-01-10T12:43:01.180931Z",
     "iopub.status.idle": "2023-01-10T12:43:01.189075Z",
     "shell.execute_reply": "2023-01-10T12:43:01.187495Z"
    },
    "papermill": {
     "duration": 0.017301,
     "end_time": "2023-01-10T12:43:01.191188",
     "exception": false,
     "start_time": "2023-01-10T12:43:01.173887",
     "status": "completed"
    },
    "tags": []
   },
   "outputs": [
    {
     "name": "stdout",
     "output_type": "stream",
     "text": [
      "x_train shape (1119, 1)\n",
      "y_train shape (1119,)\n",
      "\n",
      "x_test shape (480, 1)\n",
      "y_test shape (480,)\n",
      "\n"
     ]
    }
   ],
   "source": [
    "x_train, x_test, y_train, y_test = train_test_split(x, y, train_size=0.7, test_size=0.3, random_state=100)\n",
    "print(f\"x_train shape {x_train.shape}\")\n",
    "print(f\"y_train shape {y_train.shape}\")\n",
    "print(\"\")\n",
    "print(f\"x_test shape {x_test.shape}\")\n",
    "print(f\"y_test shape {y_test.shape}\")\n",
    "print(\"\")"
   ]
  },
  {
   "cell_type": "code",
   "execution_count": 6,
   "id": "735341c9",
   "metadata": {
    "execution": {
     "iopub.execute_input": "2023-01-10T12:43:01.203997Z",
     "iopub.status.busy": "2023-01-10T12:43:01.203564Z",
     "iopub.status.idle": "2023-01-10T12:43:01.209613Z",
     "shell.execute_reply": "2023-01-10T12:43:01.208712Z"
    },
    "papermill": {
     "duration": 0.014765,
     "end_time": "2023-01-10T12:43:01.211757",
     "exception": false,
     "start_time": "2023-01-10T12:43:01.196992",
     "status": "completed"
    },
    "tags": []
   },
   "outputs": [
    {
     "name": "stdout",
     "output_type": "stream",
     "text": [
      "4\n"
     ]
    }
   ],
   "source": [
    "print(len(train_test_split(x, y, train_size=0.8, test_size=0.2, random_state=100)))"
   ]
  },
  {
   "cell_type": "code",
   "execution_count": 7,
   "id": "77d9d6f2",
   "metadata": {
    "execution": {
     "iopub.execute_input": "2023-01-10T12:43:01.224647Z",
     "iopub.status.busy": "2023-01-10T12:43:01.224271Z",
     "iopub.status.idle": "2023-01-10T12:43:01.450390Z",
     "shell.execute_reply": "2023-01-10T12:43:01.449334Z"
    },
    "papermill": {
     "duration": 0.23521,
     "end_time": "2023-01-10T12:43:01.452621",
     "exception": false,
     "start_time": "2023-01-10T12:43:01.217411",
     "status": "completed"
    },
    "tags": []
   },
   "outputs": [
    {
     "data": {
      "image/png": "[encoded data removed]",
      "text/plain": [
       "<Figure size 432x288 with 1 Axes>"
      ]
     },
     "metadata": {
      "needs_background": "light"
     },
     "output_type": "display_data"
    }
   ],
   "source": [
    "plt.scatter(x_train, y_train, color='red')\n",
    "plt.xlabel(\"pH\")\n",
    "plt.ylabel(\"quality\")\n",
    "plt.show()"
   ]
  },
  {
   "cell_type": "code",
   "execution_count": 8,
   "id": "eb937cb8",
   "metadata": {
    "execution": {
     "iopub.execute_input": "2023-01-10T12:43:01.470820Z",
     "iopub.status.busy": "2023-01-10T12:43:01.470180Z",
     "iopub.status.idle": "2023-01-10T12:43:01.492053Z",
     "shell.execute_reply": "2023-01-10T12:43:01.490670Z"
    },
    "papermill": {
     "duration": 0.033354,
     "end_time": "2023-01-10T12:43:01.494184",
     "exception": false,
     "start_time": "2023-01-10T12:43:01.460830",
     "status": "completed"
    },
    "tags": []
   },
   "outputs": [
    {
     "name": "stdout",
     "output_type": "stream",
     "text": [
      "Train Accuracy 0.0033538148868147433\n",
      "Test Accuracy 0.0029189144565353597\n"
     ]
    }
   ],
   "source": [
    "# This our instance of a LinearRegression class\n",
    "lm = LinearRegression()\n",
    "\n",
    "# Invoke lm.fit(), passing in training data\n",
    "# This creates the 'best fit line' for our TRAINING data points \n",
    "lm.fit(x_train, y_train)\n",
    "\n",
    "\n",
    "# Then we have a model! We have a formula. We have a line that will predict quality given pH\n",
    "# Then we test the best fit line, by invoking .predict() on our testing data\n",
    "# y_predict represents PREDICTIONS from our linear regression!\n",
    "# lm.score() -> Returns the coefficient of determination (R^2). A measure of how well observed outcomes are replicated by the model, as the proportion of total variation of outcomes explained by the model.\n",
    "y_predict = lm.predict(x_test)\n",
    "\n",
    "print(f\"Train Accuracy {lm.score(x_train, y_train)}\")\n",
    "print(f\"Test Accuracy {lm.score(x_test, y_test)}\")"
   ]
  },
  {
   "cell_type": "code",
   "execution_count": 9,
   "id": "dba87bbe",
   "metadata": {
    "execution": {
     "iopub.execute_input": "2023-01-10T12:43:01.509576Z",
     "iopub.status.busy": "2023-01-10T12:43:01.508897Z",
     "iopub.status.idle": "2023-01-10T12:43:01.771426Z",
     "shell.execute_reply": "2023-01-10T12:43:01.770311Z"
    },
    "papermill": {
     "duration": 0.272852,
     "end_time": "2023-01-10T12:43:01.773781",
     "exception": false,
     "start_time": "2023-01-10T12:43:01.500929",
     "status": "completed"
    },
    "tags": []
   },
   "outputs": [
    {
     "data": {
      "text/plain": [
       "<function matplotlib.pyplot.plot(*args, scalex=True, scaley=True, data=None, **kwargs)>"
      ]
     },
     "execution_count": 9,
     "metadata": {},
     "output_type": "execute_result"
    },
    {
     "data": {
      "image/png": "[encoded data removed]",
      "text/plain": [
       "<Figure size 1440x864 with 1 Axes>"
      ]
     },
     "metadata": {
      "needs_background": "light"
     },
     "output_type": "display_data"
    }
   ],
   "source": [
    "plt.rcParams[\"figure.figsize\"]=[20,12]\n",
    "plt.scatter(x_train,y_train,color='orange')\n",
    "plt.plot(x_test,y_predict)\n",
    "plt.xlabel(\"pH\")\n",
    "plt.ylabel(\"quality\")\n",
    "plt.title(\"Trained model plot\")\n",
    "plt.plot"
   ]
  },
  {
   "cell_type": "markdown",
   "id": "89b6f23b",
   "metadata": {
    "papermill": {
     "duration": 0.006647,
     "end_time": "2023-01-10T12:43:01.787613",
     "exception": false,
     "start_time": "2023-01-10T12:43:01.780966",
     "status": "completed"
    },
    "tags": []
   },
   "source": [
    "pH가 증가하면 와인 품질이 감소함.\n",
    "\n",
    "최고급 와인의 ph는 약 3.2.\n",
    "\n",
    "5에서 7 사이의 품질을 가진 대부분의 와인은 3에서 3.6 사이의 ph 범위를 갖음\n"
   ]
  },
  {
   "cell_type": "code",
   "execution_count": 10,
   "id": "5ae111ec",
   "metadata": {
    "execution": {
     "iopub.execute_input": "2023-01-10T12:43:01.802443Z",
     "iopub.status.busy": "2023-01-10T12:43:01.802096Z",
     "iopub.status.idle": "2023-01-10T12:43:01.846266Z",
     "shell.execute_reply": "2023-01-10T12:43:01.844649Z"
    },
    "papermill": {
     "duration": 0.055033,
     "end_time": "2023-01-10T12:43:01.849440",
     "exception": false,
     "start_time": "2023-01-10T12:43:01.794407",
     "status": "completed"
    },
    "tags": []
   },
   "outputs": [
    {
     "data": {
      "text/html": [
       "<div>\n",
       "<style scoped>\n",
       "    .dataframe tbody tr th:only-of-type {\n",
       "        vertical-align: middle;\n",
       "    }\n",
       "\n",
       "    .dataframe tbody tr th {\n",
       "        vertical-align: top;\n",
       "    }\n",
       "\n",
       "    .dataframe thead th {\n",
       "        text-align: right;\n",
       "    }\n",
       "</style>\n",
       "<table border=\"1\" class=\"dataframe\">\n",
       "  <thead>\n",
       "    <tr style=\"text-align: right;\">\n",
       "      <th></th>\n",
       "      <th>fixed acidity</th>\n",
       "      <th>volatile acidity</th>\n",
       "      <th>citric acid</th>\n",
       "      <th>residual sugar</th>\n",
       "      <th>chlorides</th>\n",
       "      <th>free sulfur dioxide</th>\n",
       "      <th>total sulfur dioxide</th>\n",
       "      <th>density</th>\n",
       "      <th>pH</th>\n",
       "      <th>sulphates</th>\n",
       "      <th>alcohol</th>\n",
       "      <th>quality</th>\n",
       "    </tr>\n",
       "  </thead>\n",
       "  <tbody>\n",
       "    <tr>\n",
       "      <th>0</th>\n",
       "      <td>7.4</td>\n",
       "      <td>0.70</td>\n",
       "      <td>0.00</td>\n",
       "      <td>1.9</td>\n",
       "      <td>0.076</td>\n",
       "      <td>11.0</td>\n",
       "      <td>34.0</td>\n",
       "      <td>0.9978</td>\n",
       "      <td>3.51</td>\n",
       "      <td>0.56</td>\n",
       "      <td>9.4</td>\n",
       "      <td>5</td>\n",
       "    </tr>\n",
       "    <tr>\n",
       "      <th>1</th>\n",
       "      <td>7.8</td>\n",
       "      <td>0.88</td>\n",
       "      <td>0.00</td>\n",
       "      <td>2.6</td>\n",
       "      <td>0.098</td>\n",
       "      <td>25.0</td>\n",
       "      <td>67.0</td>\n",
       "      <td>0.9968</td>\n",
       "      <td>3.20</td>\n",
       "      <td>0.68</td>\n",
       "      <td>9.8</td>\n",
       "      <td>5</td>\n",
       "    </tr>\n",
       "    <tr>\n",
       "      <th>2</th>\n",
       "      <td>7.8</td>\n",
       "      <td>0.76</td>\n",
       "      <td>0.04</td>\n",
       "      <td>2.3</td>\n",
       "      <td>0.092</td>\n",
       "      <td>15.0</td>\n",
       "      <td>54.0</td>\n",
       "      <td>0.9970</td>\n",
       "      <td>3.26</td>\n",
       "      <td>0.65</td>\n",
       "      <td>9.8</td>\n",
       "      <td>5</td>\n",
       "    </tr>\n",
       "    <tr>\n",
       "      <th>3</th>\n",
       "      <td>11.2</td>\n",
       "      <td>0.28</td>\n",
       "      <td>0.56</td>\n",
       "      <td>1.9</td>\n",
       "      <td>0.075</td>\n",
       "      <td>17.0</td>\n",
       "      <td>60.0</td>\n",
       "      <td>0.9980</td>\n",
       "      <td>3.16</td>\n",
       "      <td>0.58</td>\n",
       "      <td>9.8</td>\n",
       "      <td>6</td>\n",
       "    </tr>\n",
       "    <tr>\n",
       "      <th>4</th>\n",
       "      <td>7.4</td>\n",
       "      <td>0.70</td>\n",
       "      <td>0.00</td>\n",
       "      <td>1.9</td>\n",
       "      <td>0.076</td>\n",
       "      <td>11.0</td>\n",
       "      <td>34.0</td>\n",
       "      <td>0.9978</td>\n",
       "      <td>3.51</td>\n",
       "      <td>0.56</td>\n",
       "      <td>9.4</td>\n",
       "      <td>5</td>\n",
       "    </tr>\n",
       "  </tbody>\n",
       "</table>\n",
       "</div>"
      ],
      "text/plain": [
       "   fixed acidity  volatile acidity  citric acid  residual sugar  chlorides  \\\n",
       "0            7.4              0.70         0.00             1.9      0.076   \n",
       "1            7.8              0.88         0.00             2.6      0.098   \n",
       "2            7.8              0.76         0.04             2.3      0.092   \n",
       "3           11.2              0.28         0.56             1.9      0.075   \n",
       "4            7.4              0.70         0.00             1.9      0.076   \n",
       "\n",
       "   free sulfur dioxide  total sulfur dioxide  density    pH  sulphates  \\\n",
       "0                 11.0                  34.0   0.9978  3.51       0.56   \n",
       "1                 25.0                  67.0   0.9968  3.20       0.68   \n",
       "2                 15.0                  54.0   0.9970  3.26       0.65   \n",
       "3                 17.0                  60.0   0.9980  3.16       0.58   \n",
       "4                 11.0                  34.0   0.9978  3.51       0.56   \n",
       "\n",
       "   alcohol  quality  \n",
       "0      9.4        5  \n",
       "1      9.8        5  \n",
       "2      9.8        5  \n",
       "3      9.8        6  \n",
       "4      9.4        5  "
      ]
     },
     "metadata": {},
     "output_type": "display_data"
    },
    {
     "name": "stdout",
     "output_type": "stream",
     "text": [
      "<class 'pandas.core.frame.DataFrame'>\n",
      "RangeIndex: 1599 entries, 0 to 1598\n",
      "Data columns (total 12 columns):\n",
      " #   Column                Non-Null Count  Dtype  \n",
      "---  ------                --------------  -----  \n",
      " 0   fixed acidity         1599 non-null   float64\n",
      " 1   volatile acidity      1599 non-null   float64\n",
      " 2   citric acid           1599 non-null   float64\n",
      " 3   residual sugar        1599 non-null   float64\n",
      " 4   chlorides             1599 non-null   float64\n",
      " 5   free sulfur dioxide   1599 non-null   float64\n",
      " 6   total sulfur dioxide  1599 non-null   float64\n",
      " 7   density               1599 non-null   float64\n",
      " 8   pH                    1599 non-null   float64\n",
      " 9   sulphates             1599 non-null   float64\n",
      " 10  alcohol               1599 non-null   float64\n",
      " 11  quality               1599 non-null   int64  \n",
      "dtypes: float64(11), int64(1)\n",
      "memory usage: 150.0 KB\n"
     ]
    }
   ],
   "source": [
    "import pandas as pd\n",
    "\n",
    "red_wine = pd.read_csv(\"/kaggle/input/red-wine-quality-cortez-et-al-2009/winequality-red.csv\")\n",
    "display(red_wine.head(5))\n",
    "red_wine.info()"
   ]
  },
  {
   "cell_type": "markdown",
   "id": "df964da0",
   "metadata": {
    "papermill": {
     "duration": 0.006952,
     "end_time": "2023-01-10T12:43:01.864953",
     "exception": false,
     "start_time": "2023-01-10T12:43:01.858001",
     "status": "completed"
    },
    "tags": []
   },
   "source": [
    "Quality로 분류 예측하는 것이 목표.\n",
    "퀄리티의 기준은 7로 분류."
   ]
  },
  {
   "cell_type": "code",
   "execution_count": 11,
   "id": "01553d8a",
   "metadata": {
    "execution": {
     "iopub.execute_input": "2023-01-10T12:43:01.883859Z",
     "iopub.status.busy": "2023-01-10T12:43:01.882625Z",
     "iopub.status.idle": "2023-01-10T12:43:01.894274Z",
     "shell.execute_reply": "2023-01-10T12:43:01.893281Z"
    },
    "papermill": {
     "duration": 0.023991,
     "end_time": "2023-01-10T12:43:01.896854",
     "exception": false,
     "start_time": "2023-01-10T12:43:01.872863",
     "status": "completed"
    },
    "tags": []
   },
   "outputs": [
    {
     "name": "stdout",
     "output_type": "stream",
     "text": [
      "0    1382\n",
      "1     217\n",
      "Name: target, dtype: int64\n"
     ]
    }
   ],
   "source": [
    "def binary_quality(x):\n",
    "    target = None\n",
    "    if x >= 7:\n",
    "        target = 1\n",
    "    else:\n",
    "        target = 0\n",
    "    return target\n",
    "\n",
    "red_wine['target'] = red_wine['quality'].apply(lambda x : binary_quality(x))\n",
    "print(red_wine['target'].value_counts())"
   ]
  },
  {
   "cell_type": "markdown",
   "id": "69bd6d93",
   "metadata": {
    "papermill": {
     "duration": 0.010514,
     "end_time": "2023-01-10T12:43:01.918219",
     "exception": false,
     "start_time": "2023-01-10T12:43:01.907705",
     "status": "completed"
    },
    "tags": []
   },
   "source": [
    "7 이상인 와인이 217, 미만인 와인이 1382인 모습"
   ]
  },
  {
   "cell_type": "code",
   "execution_count": 12,
   "id": "ed1b8484",
   "metadata": {
    "execution": {
     "iopub.execute_input": "2023-01-10T12:43:01.936810Z",
     "iopub.status.busy": "2023-01-10T12:43:01.935972Z",
     "iopub.status.idle": "2023-01-10T12:43:01.956653Z",
     "shell.execute_reply": "2023-01-10T12:43:01.955951Z"
    },
    "papermill": {
     "duration": 0.031332,
     "end_time": "2023-01-10T12:43:01.958541",
     "exception": false,
     "start_time": "2023-01-10T12:43:01.927209",
     "status": "completed"
    },
    "tags": []
   },
   "outputs": [
    {
     "data": {
      "text/html": [
       "<div>\n",
       "<style scoped>\n",
       "    .dataframe tbody tr th:only-of-type {\n",
       "        vertical-align: middle;\n",
       "    }\n",
       "\n",
       "    .dataframe tbody tr th {\n",
       "        vertical-align: top;\n",
       "    }\n",
       "\n",
       "    .dataframe thead th {\n",
       "        text-align: right;\n",
       "    }\n",
       "</style>\n",
       "<table border=\"1\" class=\"dataframe\">\n",
       "  <thead>\n",
       "    <tr style=\"text-align: right;\">\n",
       "      <th></th>\n",
       "      <th>fixed acidity</th>\n",
       "      <th>volatile acidity</th>\n",
       "      <th>citric acid</th>\n",
       "      <th>residual sugar</th>\n",
       "      <th>chlorides</th>\n",
       "      <th>free sulfur dioxide</th>\n",
       "      <th>total sulfur dioxide</th>\n",
       "      <th>density</th>\n",
       "      <th>pH</th>\n",
       "      <th>sulphates</th>\n",
       "      <th>alcohol</th>\n",
       "    </tr>\n",
       "  </thead>\n",
       "  <tbody>\n",
       "    <tr>\n",
       "      <th>0</th>\n",
       "      <td>7.4</td>\n",
       "      <td>0.70</td>\n",
       "      <td>0.00</td>\n",
       "      <td>1.9</td>\n",
       "      <td>0.076</td>\n",
       "      <td>11.0</td>\n",
       "      <td>34.0</td>\n",
       "      <td>0.9978</td>\n",
       "      <td>3.51</td>\n",
       "      <td>0.56</td>\n",
       "      <td>9.4</td>\n",
       "    </tr>\n",
       "    <tr>\n",
       "      <th>1</th>\n",
       "      <td>7.8</td>\n",
       "      <td>0.88</td>\n",
       "      <td>0.00</td>\n",
       "      <td>2.6</td>\n",
       "      <td>0.098</td>\n",
       "      <td>25.0</td>\n",
       "      <td>67.0</td>\n",
       "      <td>0.9968</td>\n",
       "      <td>3.20</td>\n",
       "      <td>0.68</td>\n",
       "      <td>9.8</td>\n",
       "    </tr>\n",
       "    <tr>\n",
       "      <th>2</th>\n",
       "      <td>7.8</td>\n",
       "      <td>0.76</td>\n",
       "      <td>0.04</td>\n",
       "      <td>2.3</td>\n",
       "      <td>0.092</td>\n",
       "      <td>15.0</td>\n",
       "      <td>54.0</td>\n",
       "      <td>0.9970</td>\n",
       "      <td>3.26</td>\n",
       "      <td>0.65</td>\n",
       "      <td>9.8</td>\n",
       "    </tr>\n",
       "    <tr>\n",
       "      <th>3</th>\n",
       "      <td>11.2</td>\n",
       "      <td>0.28</td>\n",
       "      <td>0.56</td>\n",
       "      <td>1.9</td>\n",
       "      <td>0.075</td>\n",
       "      <td>17.0</td>\n",
       "      <td>60.0</td>\n",
       "      <td>0.9980</td>\n",
       "      <td>3.16</td>\n",
       "      <td>0.58</td>\n",
       "      <td>9.8</td>\n",
       "    </tr>\n",
       "    <tr>\n",
       "      <th>4</th>\n",
       "      <td>7.4</td>\n",
       "      <td>0.70</td>\n",
       "      <td>0.00</td>\n",
       "      <td>1.9</td>\n",
       "      <td>0.076</td>\n",
       "      <td>11.0</td>\n",
       "      <td>34.0</td>\n",
       "      <td>0.9978</td>\n",
       "      <td>3.51</td>\n",
       "      <td>0.56</td>\n",
       "      <td>9.4</td>\n",
       "    </tr>\n",
       "  </tbody>\n",
       "</table>\n",
       "</div>"
      ],
      "text/plain": [
       "   fixed acidity  volatile acidity  citric acid  residual sugar  chlorides  \\\n",
       "0            7.4              0.70         0.00             1.9      0.076   \n",
       "1            7.8              0.88         0.00             2.6      0.098   \n",
       "2            7.8              0.76         0.04             2.3      0.092   \n",
       "3           11.2              0.28         0.56             1.9      0.075   \n",
       "4            7.4              0.70         0.00             1.9      0.076   \n",
       "\n",
       "   free sulfur dioxide  total sulfur dioxide  density    pH  sulphates  \\\n",
       "0                 11.0                  34.0   0.9978  3.51       0.56   \n",
       "1                 25.0                  67.0   0.9968  3.20       0.68   \n",
       "2                 15.0                  54.0   0.9970  3.26       0.65   \n",
       "3                 17.0                  60.0   0.9980  3.16       0.58   \n",
       "4                 11.0                  34.0   0.9978  3.51       0.56   \n",
       "\n",
       "   alcohol  \n",
       "0      9.4  \n",
       "1      9.8  \n",
       "2      9.8  \n",
       "3      9.8  \n",
       "4      9.4  "
      ]
     },
     "metadata": {},
     "output_type": "display_data"
    }
   ],
   "source": [
    "wine_y = red_wine['target']\n",
    "#필요없는 데이터 값들 제거\n",
    "wine_X = red_wine.drop(['target', 'quality'], axis = 1)\n",
    "display(wine_X.head())"
   ]
  },
  {
   "cell_type": "code",
   "execution_count": 13,
   "id": "cba821ce",
   "metadata": {
    "execution": {
     "iopub.execute_input": "2023-01-10T12:43:01.974609Z",
     "iopub.status.busy": "2023-01-10T12:43:01.973710Z",
     "iopub.status.idle": "2023-01-10T12:43:01.982458Z",
     "shell.execute_reply": "2023-01-10T12:43:01.981794Z"
    },
    "papermill": {
     "duration": 0.01842,
     "end_time": "2023-01-10T12:43:01.984268",
     "exception": false,
     "start_time": "2023-01-10T12:43:01.965848",
     "status": "completed"
    },
    "tags": []
   },
   "outputs": [],
   "source": [
    "from sklearn.model_selection import train_test_split\n",
    "\n",
    "#test set을 20%, trainnig set을 80%로 설정\n",
    "x_train, x_test, y_train, y_test = train_test_split(wine_X, wine_y,\n",
    "                                                    test_size = 0.2,\n",
    "                                                    stratify=wine_y,\n",
    "                                                    random_state = 1)"
   ]
  },
  {
   "cell_type": "code",
   "execution_count": 14,
   "id": "921475c9",
   "metadata": {
    "execution": {
     "iopub.execute_input": "2023-01-10T12:43:02.000042Z",
     "iopub.status.busy": "2023-01-10T12:43:01.999421Z",
     "iopub.status.idle": "2023-01-10T12:43:02.019087Z",
     "shell.execute_reply": "2023-01-10T12:43:02.017744Z"
    },
    "papermill": {
     "duration": 0.029657,
     "end_time": "2023-01-10T12:43:02.021109",
     "exception": false,
     "start_time": "2023-01-10T12:43:01.991452",
     "status": "completed"
    },
    "tags": []
   },
   "outputs": [
    {
     "name": "stdout",
     "output_type": "stream",
     "text": [
      "      fixed acidity  volatile acidity  citric acid  residual sugar  chlorides  \\\n",
      "557            15.6             0.645         0.49             4.2      0.095   \n",
      "173             7.4             0.620         0.05             1.9      0.068   \n",
      "974             8.8             0.330         0.41             5.9      0.073   \n",
      "247             8.2             0.600         0.17             2.3      0.072   \n",
      "367            10.4             0.575         0.61             2.6      0.076   \n",
      "...             ...               ...          ...             ...        ...   \n",
      "954             7.6             0.430         0.40             2.7      0.082   \n",
      "634             7.9             0.350         0.21             1.9      0.073   \n",
      "1259            6.8             0.640         0.00             2.7      0.123   \n",
      "760             9.0             0.580         0.25             2.8      0.075   \n",
      "421             6.6             0.840         0.03             2.3      0.059   \n",
      "\n",
      "      free sulfur dioxide  total sulfur dioxide  density    pH  sulphates  \\\n",
      "557                  10.0                  23.0  1.00315  2.92       0.74   \n",
      "173                  24.0                  42.0  0.99610  3.42       0.57   \n",
      "974                   7.0                  13.0  0.99658  3.30       0.62   \n",
      "247                  11.0                  73.0  0.99630  3.20       0.45   \n",
      "367                  11.0                  24.0  1.00000  3.16       0.69   \n",
      "...                   ...                   ...      ...   ...        ...   \n",
      "954                   6.0                  11.0  0.99538  3.44       0.54   \n",
      "634                  46.0                 102.0  0.99640  3.27       0.58   \n",
      "1259                 15.0                  33.0  0.99538  3.44       0.63   \n",
      "760                   9.0                 104.0  0.99779  3.23       0.57   \n",
      "421                  32.0                  48.0  0.99520  3.52       0.56   \n",
      "\n",
      "      alcohol  \n",
      "557      11.1  \n",
      "173      11.5  \n",
      "974      12.1  \n",
      "247       9.3  \n",
      "367       9.0  \n",
      "...       ...  \n",
      "954      12.2  \n",
      "634       9.5  \n",
      "1259     11.3  \n",
      "760       9.7  \n",
      "421      12.3  \n",
      "\n",
      "[1279 rows x 11 columns]\n"
     ]
    }
   ],
   "source": [
    "#데이터 전처리\n",
    "from sklearn.preprocessing import MinMaxScaler\n",
    "\n",
    "scaler = MinMaxScaler()\n",
    "\n",
    "scaler.fit(x_train)\n",
    "\n",
    "X_train = scaler.transform(x_train)\n",
    "X_test = scaler.transform(x_test)\n",
    "\n",
    "print(x_train)"
   ]
  },
  {
   "cell_type": "code",
   "execution_count": 15,
   "id": "9358117a",
   "metadata": {
    "execution": {
     "iopub.execute_input": "2023-01-10T12:43:02.036902Z",
     "iopub.status.busy": "2023-01-10T12:43:02.036324Z",
     "iopub.status.idle": "2023-01-10T12:43:05.890238Z",
     "shell.execute_reply": "2023-01-10T12:43:05.888843Z"
    },
    "papermill": {
     "duration": 3.865563,
     "end_time": "2023-01-10T12:43:05.893678",
     "exception": false,
     "start_time": "2023-01-10T12:43:02.028115",
     "status": "completed"
    },
    "tags": []
   },
   "outputs": [
    {
     "name": "stdout",
     "output_type": "stream",
     "text": [
      "random forest 평균 정확도:  0.9093\n",
      "XGBoost 평균 정확도:  0.9015\n",
      "LogisticRegression 평균 정확도:  0.8772\n"
     ]
    }
   ],
   "source": [
    "import numpy as np\n",
    "from sklearn.model_selection import cross_val_score\n",
    "from sklearn.ensemble import RandomForestClassifier\n",
    "from sklearn.linear_model import LogisticRegression\n",
    "from xgboost import XGBClassifier\n",
    "\n",
    "rfc = RandomForestClassifier(random_state=1)\n",
    "xgb = XGBClassifier(random_state=1)\n",
    "lrg = LogisticRegression(solver='liblinear', random_state=1)\n",
    "\n",
    "rfc_cv_scores = cross_val_score(rfc, x_train , y_train , cv=5)\n",
    "xgb_cv_scores = cross_val_score(xgb, x_train , y_train , cv=5)\n",
    "lrg_cv_scores = cross_val_score(lrg, x_train , y_train , cv=5)\n",
    "\n",
    "print(\"random forest 평균 정확도: \", round(np.mean(rfc_cv_scores), 4))\n",
    "print(\"XGBoost 평균 정확도: \", round(np.mean(xgb_cv_scores), 4))\n",
    "print(\"LogisticRegression 평균 정확도: \", round(np.mean(lrg_cv_scores), 4))"
   ]
  },
  {
   "cell_type": "code",
   "execution_count": 16,
   "id": "1792626f",
   "metadata": {
    "execution": {
     "iopub.execute_input": "2023-01-10T12:43:05.910983Z",
     "iopub.status.busy": "2023-01-10T12:43:05.910614Z",
     "iopub.status.idle": "2023-01-10T12:43:06.205822Z",
     "shell.execute_reply": "2023-01-10T12:43:06.204571Z"
    },
    "papermill": {
     "duration": 0.306226,
     "end_time": "2023-01-10T12:43:06.208188",
     "exception": false,
     "start_time": "2023-01-10T12:43:05.901962",
     "status": "completed"
    },
    "tags": []
   },
   "outputs": [
    {
     "name": "stdout",
     "output_type": "stream",
     "text": [
      " test 데이터에서의 RandomForestClassifier 정확도: 0.8656\n"
     ]
    },
    {
     "name": "stderr",
     "output_type": "stream",
     "text": [
      "/opt/conda/lib/python3.7/site-packages/sklearn/base.py:451: UserWarning: X does not have valid feature names, but RandomForestClassifier was fitted with feature names\n",
      "  \"X does not have valid feature names, but\"\n"
     ]
    }
   ],
   "source": [
    "from sklearn.metrics import accuracy_score\n",
    "\n",
    "rfc.fit(x_train , y_train)\n",
    "pred = rfc.predict(X_test)\n",
    "accuracy = accuracy_score(y_test, pred)\n",
    "\n",
    "print(\" test 데이터에서의 RandomForestClassifier 정확도:\", round(accuracy,4))"
   ]
  },
  {
   "cell_type": "code",
   "execution_count": 17,
   "id": "744a2b65",
   "metadata": {
    "execution": {
     "iopub.execute_input": "2023-01-10T12:43:06.224523Z",
     "iopub.status.busy": "2023-01-10T12:43:06.224199Z",
     "iopub.status.idle": "2023-01-10T12:43:10.477917Z",
     "shell.execute_reply": "2023-01-10T12:43:10.477018Z"
    },
    "papermill": {
     "duration": 4.264651,
     "end_time": "2023-01-10T12:43:10.480394",
     "exception": false,
     "start_time": "2023-01-10T12:43:06.215743",
     "status": "completed"
    },
    "tags": []
   },
   "outputs": [],
   "source": [
    "import tensorflow as tf\n",
    "import numpy as np\n",
    "import matplotlib.pyplot as plt"
   ]
  },
  {
   "cell_type": "code",
   "execution_count": 18,
   "id": "bb30368f",
   "metadata": {
    "execution": {
     "iopub.execute_input": "2023-01-10T12:43:10.498006Z",
     "iopub.status.busy": "2023-01-10T12:43:10.497324Z",
     "iopub.status.idle": "2023-01-10T12:43:11.508398Z",
     "shell.execute_reply": "2023-01-10T12:43:11.506574Z"
    },
    "papermill": {
     "duration": 1.022556,
     "end_time": "2023-01-10T12:43:11.511247",
     "exception": false,
     "start_time": "2023-01-10T12:43:10.488691",
     "status": "completed"
    },
    "tags": []
   },
   "outputs": [
    {
     "name": "stdout",
     "output_type": "stream",
     "text": [
      "Model: \"sequential\"\n",
      "_________________________________________________________________\n",
      "Layer (type)                 Output Shape              Param #   \n",
      "=================================================================\n",
      "dense (Dense)                (None, 64)                768       \n",
      "_________________________________________________________________\n",
      "dropout (Dropout)            (None, 64)                0         \n",
      "_________________________________________________________________\n",
      "dense_1 (Dense)              (None, 32)                2080      \n",
      "_________________________________________________________________\n",
      "dense_2 (Dense)              (None, 2)                 66        \n",
      "_________________________________________________________________\n",
      "softmax (Softmax)            (None, 2)                 0         \n",
      "=================================================================\n",
      "Total params: 2,914\n",
      "Trainable params: 2,914\n",
      "Non-trainable params: 0\n",
      "_________________________________________________________________\n"
     ]
    },
    {
     "name": "stderr",
     "output_type": "stream",
     "text": [
      "2023-01-10 12:43:11.441198: I tensorflow/core/common_runtime/process_util.cc:146] Creating new thread pool with default inter op setting: 2. Tune using inter_op_parallelism_threads for best performance.\n"
     ]
    }
   ],
   "source": [
    "model = tf.keras.models.Sequential([\n",
    "    tf.keras.Input(shape=(11,)),\n",
    "    tf.keras.layers.Dense(units= 64, activation = 'relu'),\n",
    "    tf.keras.layers.Dropout(0.5),\n",
    "    tf.keras.layers.Dense(units = 32, activation='relu'),\n",
    "    tf.keras.layers.Dense(units= 2 , activation = None),\n",
    "    tf.keras.layers.Softmax()\n",
    "    #마지막 계층\n",
    "])\n",
    "model.summary()"
   ]
  },
  {
   "cell_type": "code",
   "execution_count": 19,
   "id": "dc5fe609",
   "metadata": {
    "execution": {
     "iopub.execute_input": "2023-01-10T12:43:11.529010Z",
     "iopub.status.busy": "2023-01-10T12:43:11.528646Z",
     "iopub.status.idle": "2023-01-10T12:43:23.485278Z",
     "shell.execute_reply": "2023-01-10T12:43:23.484364Z"
    },
    "papermill": {
     "duration": 11.968131,
     "end_time": "2023-01-10T12:43:23.487489",
     "exception": false,
     "start_time": "2023-01-10T12:43:11.519358",
     "status": "completed"
    },
    "tags": []
   },
   "outputs": [
    {
     "name": "stderr",
     "output_type": "stream",
     "text": [
      "2023-01-10 12:43:11.620948: I tensorflow/compiler/mlir/mlir_graph_optimization_pass.cc:185] None of the MLIR Optimization Passes are enabled (registered 2)\n"
     ]
    },
    {
     "name": "stdout",
     "output_type": "stream",
     "text": [
      "Epoch 1/30\n",
      "320/320 [==============================] - 1s 1ms/step - loss: 1.0347 - accuracy: 0.7733\n",
      "Epoch 2/30\n",
      "320/320 [==============================] - 0s 1ms/step - loss: 0.6164 - accuracy: 0.8092\n",
      "Epoch 3/30\n",
      "320/320 [==============================] - 0s 1ms/step - loss: 0.5092 - accuracy: 0.8342\n",
      "Epoch 4/30\n",
      "320/320 [==============================] - 0s 1ms/step - loss: 0.4864 - accuracy: 0.8468\n",
      "Epoch 5/30\n",
      "320/320 [==============================] - 0s 1ms/step - loss: 0.4374 - accuracy: 0.8530\n",
      "Epoch 6/30\n",
      "320/320 [==============================] - 0s 1ms/step - loss: 0.4358 - accuracy: 0.8569\n",
      "Epoch 7/30\n",
      "320/320 [==============================] - 0s 1ms/step - loss: 0.4325 - accuracy: 0.8554\n",
      "Epoch 8/30\n",
      "320/320 [==============================] - 0s 1ms/step - loss: 0.4367 - accuracy: 0.8530\n",
      "Epoch 9/30\n",
      "320/320 [==============================] - 0s 1ms/step - loss: 0.4374 - accuracy: 0.8600\n",
      "Epoch 10/30\n",
      "320/320 [==============================] - 0s 1ms/step - loss: 0.4146 - accuracy: 0.8640\n",
      "Epoch 11/30\n",
      "320/320 [==============================] - 0s 1ms/step - loss: 0.4103 - accuracy: 0.8616\n",
      "Epoch 12/30\n",
      "320/320 [==============================] - 0s 1ms/step - loss: 0.4214 - accuracy: 0.8624\n",
      "Epoch 13/30\n",
      "320/320 [==============================] - 0s 1ms/step - loss: 0.4143 - accuracy: 0.8632\n",
      "Epoch 14/30\n",
      "320/320 [==============================] - 0s 1ms/step - loss: 0.4078 - accuracy: 0.8632\n",
      "Epoch 15/30\n",
      "320/320 [==============================] - 0s 1ms/step - loss: 0.4133 - accuracy: 0.8632\n",
      "Epoch 16/30\n",
      "320/320 [==============================] - 0s 1ms/step - loss: 0.4104 - accuracy: 0.8640\n",
      "Epoch 17/30\n",
      "320/320 [==============================] - 0s 1ms/step - loss: 0.4072 - accuracy: 0.8624\n",
      "Epoch 18/30\n",
      "320/320 [==============================] - 0s 1ms/step - loss: 0.4196 - accuracy: 0.8632\n",
      "Epoch 19/30\n",
      "320/320 [==============================] - 0s 1ms/step - loss: 0.4055 - accuracy: 0.8624\n",
      "Epoch 20/30\n",
      "320/320 [==============================] - 0s 1ms/step - loss: 0.3959 - accuracy: 0.8632\n",
      "Epoch 21/30\n",
      "320/320 [==============================] - 0s 1ms/step - loss: 0.3987 - accuracy: 0.8640\n",
      "Epoch 22/30\n",
      "320/320 [==============================] - 0s 1ms/step - loss: 0.4096 - accuracy: 0.8640\n",
      "Epoch 23/30\n",
      "320/320 [==============================] - 0s 1ms/step - loss: 0.4005 - accuracy: 0.8632\n",
      "Epoch 24/30\n",
      "320/320 [==============================] - 0s 1ms/step - loss: 0.4013 - accuracy: 0.8640\n",
      "Epoch 25/30\n",
      "320/320 [==============================] - 0s 1ms/step - loss: 0.4063 - accuracy: 0.8640\n",
      "Epoch 26/30\n",
      "320/320 [==============================] - 0s 1ms/step - loss: 0.4009 - accuracy: 0.8632\n",
      "Epoch 27/30\n",
      "320/320 [==============================] - 0s 1ms/step - loss: 0.4062 - accuracy: 0.8632\n",
      "Epoch 28/30\n",
      "320/320 [==============================] - 0s 1ms/step - loss: 0.3951 - accuracy: 0.8632\n",
      "Epoch 29/30\n",
      "320/320 [==============================] - 0s 1ms/step - loss: 0.3977 - accuracy: 0.8640\n",
      "Epoch 30/30\n",
      "320/320 [==============================] - 0s 1ms/step - loss: 0.3894 - accuracy: 0.8624\n",
      "10/10 - 0s - loss: 0.3933 - accuracy: 0.8656\n"
     ]
    },
    {
     "data": {
      "text/plain": [
       "[0.39325904846191406, 0.8656250238418579]"
      ]
     },
     "execution_count": 19,
     "metadata": {},
     "output_type": "execute_result"
    }
   ],
   "source": [
    "loss_fn = tf.keras.losses.SparseCategoricalCrossentropy(from_logits=False)\n",
    "optimizer = tf.keras.optimizers.SGD(learning_rate = 0.001)\n",
    "model.compile(optimizer = optimizer, loss = loss_fn, metrics = ['accuracy'])\n",
    "model.fit(x_train, y_train, epochs = 30, batch_size = 4)\n",
    "model.evaluate(x_test, y_test, verbose=2)"
   ]
  }
 ],
 "metadata": {
  "kernelspec": {
   "display_name": "Python 3",
   "language": "python",
   "name": "python3"
  },
  "language_info": {
   "codemirror_mode": {
    "name": "ipython",
    "version": 3
   },
   "file_extension": ".py",
   "mimetype": "text/x-python",
   "name": "python",
   "nbconvert_exporter": "python",
   "pygments_lexer": "ipython3",
   "version": "3.7.12"
  },
  "papermill": {
   "default_parameters": {},
   "duration": 35.058335,
   "end_time": "2023-01-10T12:43:27.026058",
   "environment_variables": {},
   "exception": null,
   "input_path": "__notebook__.ipynb",
   "output_path": "__notebook__.ipynb",
   "parameters": {},
   "start_time": "2023-01-10T12:42:51.967723",
   "version": "2.3.4"
  }
 },
 "nbformat": 4,
 "nbformat_minor": 5
}
