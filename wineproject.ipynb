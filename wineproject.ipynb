{
 "cells": [
  {
   "cell_type": "code",
   "execution_count": 1,
   "id": "a7e241e5",
   "metadata": {
    "_cell_guid": "b1076dfc-b9ad-4769-8c92-a6c4dae69d19",
    "_uuid": "8f2839f25d086af736a60e9eeb907d3b93b6e0e5",
    "execution": {
     "iopub.execute_input": "2023-01-13T14:00:00.869582Z",
     "iopub.status.busy": "2023-01-13T14:00:00.869081Z",
     "iopub.status.idle": "2023-01-13T14:00:02.465015Z",
     "shell.execute_reply": "2023-01-13T14:00:02.463311Z"
    },
    "papermill": {
     "duration": 1.607357,
     "end_time": "2023-01-13T14:00:02.468134",
     "exception": false,
     "start_time": "2023-01-13T14:00:00.860777",
     "status": "completed"
    },
    "tags": []
   },
   "outputs": [
    {
     "name": "stdout",
     "output_type": "stream",
     "text": [
      "/kaggle/input/red-wine-quality-cortez-et-al-2009/winequality-red.csv\n"
     ]
    },
    {
     "data": {
      "text/html": [
       "<div>\n",
       "<style scoped>\n",
       "    .dataframe tbody tr th:only-of-type {\n",
       "        vertical-align: middle;\n",
       "    }\n",
       "\n",
       "    .dataframe tbody tr th {\n",
       "        vertical-align: top;\n",
       "    }\n",
       "\n",
       "    .dataframe thead th {\n",
       "        text-align: right;\n",
       "    }\n",
       "</style>\n",
       "<table border=\"1\" class=\"dataframe\">\n",
       "  <thead>\n",
       "    <tr style=\"text-align: right;\">\n",
       "      <th></th>\n",
       "      <th>fixed acidity</th>\n",
       "      <th>volatile acidity</th>\n",
       "      <th>citric acid</th>\n",
       "      <th>residual sugar</th>\n",
       "      <th>chlorides</th>\n",
       "      <th>free sulfur dioxide</th>\n",
       "      <th>total sulfur dioxide</th>\n",
       "      <th>density</th>\n",
       "      <th>pH</th>\n",
       "      <th>sulphates</th>\n",
       "      <th>alcohol</th>\n",
       "      <th>quality</th>\n",
       "    </tr>\n",
       "  </thead>\n",
       "  <tbody>\n",
       "    <tr>\n",
       "      <th>0</th>\n",
       "      <td>7.4</td>\n",
       "      <td>0.70</td>\n",
       "      <td>0.00</td>\n",
       "      <td>1.9</td>\n",
       "      <td>0.076</td>\n",
       "      <td>11.0</td>\n",
       "      <td>34.0</td>\n",
       "      <td>0.9978</td>\n",
       "      <td>3.51</td>\n",
       "      <td>0.56</td>\n",
       "      <td>9.4</td>\n",
       "      <td>5</td>\n",
       "    </tr>\n",
       "    <tr>\n",
       "      <th>1</th>\n",
       "      <td>7.8</td>\n",
       "      <td>0.88</td>\n",
       "      <td>0.00</td>\n",
       "      <td>2.6</td>\n",
       "      <td>0.098</td>\n",
       "      <td>25.0</td>\n",
       "      <td>67.0</td>\n",
       "      <td>0.9968</td>\n",
       "      <td>3.20</td>\n",
       "      <td>0.68</td>\n",
       "      <td>9.8</td>\n",
       "      <td>5</td>\n",
       "    </tr>\n",
       "    <tr>\n",
       "      <th>2</th>\n",
       "      <td>7.8</td>\n",
       "      <td>0.76</td>\n",
       "      <td>0.04</td>\n",
       "      <td>2.3</td>\n",
       "      <td>0.092</td>\n",
       "      <td>15.0</td>\n",
       "      <td>54.0</td>\n",
       "      <td>0.9970</td>\n",
       "      <td>3.26</td>\n",
       "      <td>0.65</td>\n",
       "      <td>9.8</td>\n",
       "      <td>5</td>\n",
       "    </tr>\n",
       "    <tr>\n",
       "      <th>3</th>\n",
       "      <td>11.2</td>\n",
       "      <td>0.28</td>\n",
       "      <td>0.56</td>\n",
       "      <td>1.9</td>\n",
       "      <td>0.075</td>\n",
       "      <td>17.0</td>\n",
       "      <td>60.0</td>\n",
       "      <td>0.9980</td>\n",
       "      <td>3.16</td>\n",
       "      <td>0.58</td>\n",
       "      <td>9.8</td>\n",
       "      <td>6</td>\n",
       "    </tr>\n",
       "    <tr>\n",
       "      <th>4</th>\n",
       "      <td>7.4</td>\n",
       "      <td>0.70</td>\n",
       "      <td>0.00</td>\n",
       "      <td>1.9</td>\n",
       "      <td>0.076</td>\n",
       "      <td>11.0</td>\n",
       "      <td>34.0</td>\n",
       "      <td>0.9978</td>\n",
       "      <td>3.51</td>\n",
       "      <td>0.56</td>\n",
       "      <td>9.4</td>\n",
       "      <td>5</td>\n",
       "    </tr>\n",
       "  </tbody>\n",
       "</table>\n",
       "</div>"
      ],
      "text/plain": [
       "   fixed acidity  volatile acidity  citric acid  residual sugar  chlorides  \\\n",
       "0            7.4              0.70         0.00             1.9      0.076   \n",
       "1            7.8              0.88         0.00             2.6      0.098   \n",
       "2            7.8              0.76         0.04             2.3      0.092   \n",
       "3           11.2              0.28         0.56             1.9      0.075   \n",
       "4            7.4              0.70         0.00             1.9      0.076   \n",
       "\n",
       "   free sulfur dioxide  total sulfur dioxide  density    pH  sulphates  \\\n",
       "0                 11.0                  34.0   0.9978  3.51       0.56   \n",
       "1                 25.0                  67.0   0.9968  3.20       0.68   \n",
       "2                 15.0                  54.0   0.9970  3.26       0.65   \n",
       "3                 17.0                  60.0   0.9980  3.16       0.58   \n",
       "4                 11.0                  34.0   0.9978  3.51       0.56   \n",
       "\n",
       "   alcohol  quality  \n",
       "0      9.4        5  \n",
       "1      9.8        5  \n",
       "2      9.8        5  \n",
       "3      9.8        6  \n",
       "4      9.4        5  "
      ]
     },
     "execution_count": 1,
     "metadata": {},
     "output_type": "execute_result"
    }
   ],
   "source": [
    "## 기본 패키지 모음\n",
    "import numpy as np\n",
    "import pandas as pd\n",
    "import matplotlib.pyplot as plt\n",
    "import seaborn as sns\n",
    " \n",
    "## 전처리 및 모델링 준비를 위한 패키지\n",
    "from sklearn.preprocessing import StandardScaler, LabelEncoder\n",
    "from sklearn.model_selection import train_test_split\n",
    "from sklearn.linear_model import LinearRegression\n",
    "from sklearn.model_selection import train_test_split\n",
    " \n",
    "## 실제 모델링을 위한 패키지\n",
    "from sklearn.ensemble import RandomForestClassifier\n",
    "from sklearn.linear_model import LogisticRegression\n",
    "from sklearn.svm import SVC\n",
    "from sklearn import tree\n",
    "from sklearn.ensemble import RandomForestClassifier\n",
    "from sklearn.neighbors import KNeighborsClassifier\n",
    "from sklearn.naive_bayes import GaussianNB\n",
    " \n",
    "## 모델 평가를 위한 패키지\n",
    "from sklearn.metrics import classification_report\n",
    "from sklearn import metrics\n",
    "\n",
    "import os\n",
    "for dirname, _, filenames in os.walk('/kaggle/input'):\n",
    "    for filename in filenames:\n",
    "        print(os.path.join(dirname, filename))\n",
    "        \n",
    "    \n",
    "red_wine_quality = pd.read_csv(\"/kaggle/input/red-wine-quality-cortez-et-al-2009/winequality-red.csv\")\n",
    "red_wine_quality.head(5)"
   ]
  },
  {
   "cell_type": "code",
   "execution_count": 2,
   "id": "59eabbc3",
   "metadata": {
    "execution": {
     "iopub.execute_input": "2023-01-13T14:00:02.483512Z",
     "iopub.status.busy": "2023-01-13T14:00:02.483099Z",
     "iopub.status.idle": "2023-01-13T14:00:02.497862Z",
     "shell.execute_reply": "2023-01-13T14:00:02.496770Z"
    },
    "papermill": {
     "duration": 0.025128,
     "end_time": "2023-01-13T14:00:02.500357",
     "exception": false,
     "start_time": "2023-01-13T14:00:02.475229",
     "status": "completed"
    },
    "tags": []
   },
   "outputs": [
    {
     "name": "stdout",
     "output_type": "stream",
     "text": [
      "the red_wine_quality shape is: (1599, 12)\n",
      "\n",
      "   fixed acidity  volatile acidity  citric acid  residual sugar  chlorides  \\\n",
      "0            7.4              0.70         0.00             1.9      0.076   \n",
      "1            7.8              0.88         0.00             2.6      0.098   \n",
      "2            7.8              0.76         0.04             2.3      0.092   \n",
      "3           11.2              0.28         0.56             1.9      0.075   \n",
      "4            7.4              0.70         0.00             1.9      0.076   \n",
      "\n",
      "   free sulfur dioxide  total sulfur dioxide  density    pH  sulphates  \\\n",
      "0                 11.0                  34.0   0.9978  3.51       0.56   \n",
      "1                 25.0                  67.0   0.9968  3.20       0.68   \n",
      "2                 15.0                  54.0   0.9970  3.26       0.65   \n",
      "3                 17.0                  60.0   0.9980  3.16       0.58   \n",
      "4                 11.0                  34.0   0.9978  3.51       0.56   \n",
      "\n",
      "   alcohol  quality  \n",
      "0      9.4        5  \n",
      "1      9.8        5  \n",
      "2      9.8        5  \n",
      "3      9.8        6  \n",
      "4      9.4        5  \n",
      "\n",
      "Index(['fixed acidity', 'volatile acidity', 'citric acid', 'residual sugar',\n",
      "       'chlorides', 'free sulfur dioxide', 'total sulfur dioxide', 'density',\n",
      "       'pH', 'sulphates', 'alcohol', 'quality'],\n",
      "      dtype='object')\n"
     ]
    }
   ],
   "source": [
    "print(f\"the red_wine_quality shape is: {red_wine_quality.shape}\")\n",
    "print(\"\")\n",
    "print(red_wine_quality.head())\n",
    "print(\"\")\n",
    "print(red_wine_quality.columns)"
   ]
  },
  {
   "cell_type": "code",
   "execution_count": 3,
   "id": "7c73e14c",
   "metadata": {
    "execution": {
     "iopub.execute_input": "2023-01-13T14:00:02.515602Z",
     "iopub.status.busy": "2023-01-13T14:00:02.515198Z",
     "iopub.status.idle": "2023-01-13T14:00:02.525521Z",
     "shell.execute_reply": "2023-01-13T14:00:02.524478Z"
    },
    "papermill": {
     "duration": 0.020811,
     "end_time": "2023-01-13T14:00:02.527504",
     "exception": false,
     "start_time": "2023-01-13T14:00:02.506693",
     "status": "completed"
    },
    "tags": []
   },
   "outputs": [
    {
     "name": "stdout",
     "output_type": "stream",
     "text": [
      "The x variable is: [3.51 3.2  3.26 ... 3.42 3.57 3.39]\n",
      "\n",
      "The y variable is: [5 5 5 ... 6 5 6]\n",
      "\n",
      "The shape of x is: (1599,)\n",
      "The shape of y is: (1599,)\n"
     ]
    }
   ],
   "source": [
    "x = red_wine_quality[\"pH\"].values\n",
    "y = red_wine_quality[\"quality\"].values\n",
    "\n",
    "print(\"The x variable is:\", x)\n",
    "print(\"\")\n",
    "print(\"The y variable is:\", y)\n",
    "print(\"\")\n",
    "print(\"The shape of x is:\", x.shape)\n",
    "print(\"The shape of y is:\", y.shape)"
   ]
  },
  {
   "cell_type": "code",
   "execution_count": 4,
   "id": "6771b3bb",
   "metadata": {
    "execution": {
     "iopub.execute_input": "2023-01-13T14:00:02.542551Z",
     "iopub.status.busy": "2023-01-13T14:00:02.541293Z",
     "iopub.status.idle": "2023-01-13T14:00:02.549217Z",
     "shell.execute_reply": "2023-01-13T14:00:02.547765Z"
    },
    "papermill": {
     "duration": 0.018147,
     "end_time": "2023-01-13T14:00:02.551990",
     "exception": false,
     "start_time": "2023-01-13T14:00:02.533843",
     "status": "completed"
    },
    "tags": []
   },
   "outputs": [
    {
     "name": "stdout",
     "output_type": "stream",
     "text": [
      "<class 'numpy.ndarray'>\n",
      "[[3.51]\n",
      " [3.2 ]\n",
      " [3.26]\n",
      " ...\n",
      " [3.42]\n",
      " [3.57]\n",
      " [3.39]]\n",
      "\n",
      "the shape of x is: (1599, 1)\n"
     ]
    }
   ],
   "source": [
    "print(type(x))\n",
    "x = x.reshape(-1, 1)\n",
    "print(x)\n",
    "print(\"\")\n",
    "print(\"the shape of x is:\", x.shape)"
   ]
  },
  {
   "cell_type": "code",
   "execution_count": 5,
   "id": "0de91f07",
   "metadata": {
    "execution": {
     "iopub.execute_input": "2023-01-13T14:00:02.566333Z",
     "iopub.status.busy": "2023-01-13T14:00:02.565975Z",
     "iopub.status.idle": "2023-01-13T14:00:02.574252Z",
     "shell.execute_reply": "2023-01-13T14:00:02.572868Z"
    },
    "papermill": {
     "duration": 0.018037,
     "end_time": "2023-01-13T14:00:02.576372",
     "exception": false,
     "start_time": "2023-01-13T14:00:02.558335",
     "status": "completed"
    },
    "tags": []
   },
   "outputs": [
    {
     "name": "stdout",
     "output_type": "stream",
     "text": [
      "x_train shape (1119, 1)\n",
      "y_train shape (1119,)\n",
      "\n",
      "x_test shape (480, 1)\n",
      "y_test shape (480,)\n",
      "\n"
     ]
    }
   ],
   "source": [
    "x_train, x_test, y_train, y_test = train_test_split(x, y, train_size=0.7, test_size=0.3, random_state=100)\n",
    "print(f\"x_train shape {x_train.shape}\")\n",
    "print(f\"y_train shape {y_train.shape}\")\n",
    "print(\"\")\n",
    "print(f\"x_test shape {x_test.shape}\")\n",
    "print(f\"y_test shape {y_test.shape}\")\n",
    "print(\"\")"
   ]
  },
  {
   "cell_type": "code",
   "execution_count": 6,
   "id": "28299085",
   "metadata": {
    "execution": {
     "iopub.execute_input": "2023-01-13T14:00:02.590816Z",
     "iopub.status.busy": "2023-01-13T14:00:02.590479Z",
     "iopub.status.idle": "2023-01-13T14:00:02.598264Z",
     "shell.execute_reply": "2023-01-13T14:00:02.596460Z"
    },
    "papermill": {
     "duration": 0.017219,
     "end_time": "2023-01-13T14:00:02.600132",
     "exception": false,
     "start_time": "2023-01-13T14:00:02.582913",
     "status": "completed"
    },
    "tags": []
   },
   "outputs": [
    {
     "name": "stdout",
     "output_type": "stream",
     "text": [
      "4\n"
     ]
    }
   ],
   "source": [
    "print(len(train_test_split(x, y, train_size=0.8, test_size=0.2, random_state=100)))"
   ]
  },
  {
   "cell_type": "code",
   "execution_count": 7,
   "id": "0f56d6cb",
   "metadata": {
    "execution": {
     "iopub.execute_input": "2023-01-13T14:00:02.614643Z",
     "iopub.status.busy": "2023-01-13T14:00:02.614282Z",
     "iopub.status.idle": "2023-01-13T14:00:02.818161Z",
     "shell.execute_reply": "2023-01-13T14:00:02.816567Z"
    },
    "papermill": {
     "duration": 0.21383,
     "end_time": "2023-01-13T14:00:02.820303",
     "exception": false,
     "start_time": "2023-01-13T14:00:02.606473",
     "status": "completed"
    },
    "tags": []
   },
   "outputs": [
    {
     "data": {
      "image/png": "[encoded data removed]",
      "text/plain": [
       "<Figure size 432x288 with 1 Axes>"
      ]
     },
     "metadata": {
      "needs_background": "light"
     },
     "output_type": "display_data"
    }
   ],
   "source": [
    "plt.scatter(x_train, y_train, color='red')\n",
    "plt.xlabel(\"pH\")\n",
    "plt.ylabel(\"quality\")\n",
    "plt.show()"
   ]
  },
  {
   "cell_type": "code",
   "execution_count": 8,
   "id": "e9cf12c4",
   "metadata": {
    "execution": {
     "iopub.execute_input": "2023-01-13T14:00:02.835750Z",
     "iopub.status.busy": "2023-01-13T14:00:02.835413Z",
     "iopub.status.idle": "2023-01-13T14:00:02.866272Z",
     "shell.execute_reply": "2023-01-13T14:00:02.864273Z"
    },
    "papermill": {
     "duration": 0.042563,
     "end_time": "2023-01-13T14:00:02.869314",
     "exception": false,
     "start_time": "2023-01-13T14:00:02.826751",
     "status": "completed"
    },
    "tags": []
   },
   "outputs": [
    {
     "name": "stdout",
     "output_type": "stream",
     "text": [
      "Train Accuracy 0.0033538148868147433\n",
      "Test Accuracy 0.0029189144565353597\n"
     ]
    }
   ],
   "source": [
    "# This our instance of a LinearRegression class\n",
    "lm = LinearRegression()\n",
    "\n",
    "# Invoke lm.fit(), passing in training data\n",
    "# This creates the 'best fit line' for our TRAINING data points \n",
    "lm.fit(x_train, y_train)\n",
    "\n",
    "\n",
    "# Then we have a model! We have a formula. We have a line that will predict quality given pH\n",
    "# Then we test the best fit line, by invoking .predict() on our testing data\n",
    "# y_predict represents PREDICTIONS from our linear regression!\n",
    "# lm.score() -> Returns the coefficient of determination (R^2). A measure of how well observed outcomes are replicated by the model, as the proportion of total variation of outcomes explained by the model.\n",
    "y_predict = lm.predict(x_test)\n",
    "\n",
    "print(f\"Train Accuracy {lm.score(x_train, y_train)}\")\n",
    "print(f\"Test Accuracy {lm.score(x_test, y_test)}\")"
   ]
  },
  {
   "cell_type": "code",
   "execution_count": 9,
   "id": "cf9de28f",
   "metadata": {
    "execution": {
     "iopub.execute_input": "2023-01-13T14:00:02.884864Z",
     "iopub.status.busy": "2023-01-13T14:00:02.884436Z",
     "iopub.status.idle": "2023-01-13T14:00:03.139331Z",
     "shell.execute_reply": "2023-01-13T14:00:03.138361Z"
    },
    "papermill": {
     "duration": 0.265386,
     "end_time": "2023-01-13T14:00:03.141749",
     "exception": false,
     "start_time": "2023-01-13T14:00:02.876363",
     "status": "completed"
    },
    "tags": []
   },
   "outputs": [
    {
     "data": {
      "text/plain": [
       "<function matplotlib.pyplot.plot(*args, scalex=True, scaley=True, data=None, **kwargs)>"
      ]
     },
     "execution_count": 9,
     "metadata": {},
     "output_type": "execute_result"
    },
    {
     "data": {
      "image/png": "[encoded data removed]",
      "text/plain": [
       "<Figure size 1440x864 with 1 Axes>"
      ]
     },
     "metadata": {
      "needs_background": "light"
     },
     "output_type": "display_data"
    }
   ],
   "source": [
    "plt.rcParams[\"figure.figsize\"]=[20,12]\n",
    "plt.scatter(x_train,y_train,color='orange')\n",
    "plt.plot(x_test,y_predict)\n",
    "plt.xlabel(\"pH\")\n",
    "plt.ylabel(\"quality\")\n",
    "plt.title(\"Trained model plot\")\n",
    "plt.plot"
   ]
  },
  {
   "cell_type": "markdown",
   "id": "cb32a1f8",
   "metadata": {
    "papermill": {
     "duration": 0.007018,
     "end_time": "2023-01-13T14:00:03.156289",
     "exception": false,
     "start_time": "2023-01-13T14:00:03.149271",
     "status": "completed"
    },
    "tags": []
   },
   "source": [
    "pH가 증가하면 와인 품질이 감소함.\n",
    "\n",
    "최고급 와인의 ph는 약 3.2.\n",
    "\n",
    "5에서 7 사이의 품질을 가진 대부분의 와인은 3에서 3.6 사이의 ph 범위를 갖음\n"
   ]
  },
  {
   "cell_type": "code",
   "execution_count": 10,
   "id": "5d6acb81",
   "metadata": {
    "execution": {
     "iopub.execute_input": "2023-01-13T14:00:03.173899Z",
     "iopub.status.busy": "2023-01-13T14:00:03.173285Z",
     "iopub.status.idle": "2023-01-13T14:00:03.221472Z",
     "shell.execute_reply": "2023-01-13T14:00:03.219838Z"
    },
    "papermill": {
     "duration": 0.060466,
     "end_time": "2023-01-13T14:00:03.224212",
     "exception": false,
     "start_time": "2023-01-13T14:00:03.163746",
     "status": "completed"
    },
    "tags": []
   },
   "outputs": [
    {
     "data": {
      "text/html": [
       "<div>\n",
       "<style scoped>\n",
       "    .dataframe tbody tr th:only-of-type {\n",
       "        vertical-align: middle;\n",
       "    }\n",
       "\n",
       "    .dataframe tbody tr th {\n",
       "        vertical-align: top;\n",
       "    }\n",
       "\n",
       "    .dataframe thead th {\n",
       "        text-align: right;\n",
       "    }\n",
       "</style>\n",
       "<table border=\"1\" class=\"dataframe\">\n",
       "  <thead>\n",
       "    <tr style=\"text-align: right;\">\n",
       "      <th></th>\n",
       "      <th>fixed acidity</th>\n",
       "      <th>volatile acidity</th>\n",
       "      <th>citric acid</th>\n",
       "      <th>residual sugar</th>\n",
       "      <th>chlorides</th>\n",
       "      <th>free sulfur dioxide</th>\n",
       "      <th>total sulfur dioxide</th>\n",
       "      <th>density</th>\n",
       "      <th>pH</th>\n",
       "      <th>sulphates</th>\n",
       "      <th>alcohol</th>\n",
       "      <th>quality</th>\n",
       "    </tr>\n",
       "  </thead>\n",
       "  <tbody>\n",
       "    <tr>\n",
       "      <th>0</th>\n",
       "      <td>7.4</td>\n",
       "      <td>0.70</td>\n",
       "      <td>0.00</td>\n",
       "      <td>1.9</td>\n",
       "      <td>0.076</td>\n",
       "      <td>11.0</td>\n",
       "      <td>34.0</td>\n",
       "      <td>0.9978</td>\n",
       "      <td>3.51</td>\n",
       "      <td>0.56</td>\n",
       "      <td>9.4</td>\n",
       "      <td>5</td>\n",
       "    </tr>\n",
       "    <tr>\n",
       "      <th>1</th>\n",
       "      <td>7.8</td>\n",
       "      <td>0.88</td>\n",
       "      <td>0.00</td>\n",
       "      <td>2.6</td>\n",
       "      <td>0.098</td>\n",
       "      <td>25.0</td>\n",
       "      <td>67.0</td>\n",
       "      <td>0.9968</td>\n",
       "      <td>3.20</td>\n",
       "      <td>0.68</td>\n",
       "      <td>9.8</td>\n",
       "      <td>5</td>\n",
       "    </tr>\n",
       "    <tr>\n",
       "      <th>2</th>\n",
       "      <td>7.8</td>\n",
       "      <td>0.76</td>\n",
       "      <td>0.04</td>\n",
       "      <td>2.3</td>\n",
       "      <td>0.092</td>\n",
       "      <td>15.0</td>\n",
       "      <td>54.0</td>\n",
       "      <td>0.9970</td>\n",
       "      <td>3.26</td>\n",
       "      <td>0.65</td>\n",
       "      <td>9.8</td>\n",
       "      <td>5</td>\n",
       "    </tr>\n",
       "    <tr>\n",
       "      <th>3</th>\n",
       "      <td>11.2</td>\n",
       "      <td>0.28</td>\n",
       "      <td>0.56</td>\n",
       "      <td>1.9</td>\n",
       "      <td>0.075</td>\n",
       "      <td>17.0</td>\n",
       "      <td>60.0</td>\n",
       "      <td>0.9980</td>\n",
       "      <td>3.16</td>\n",
       "      <td>0.58</td>\n",
       "      <td>9.8</td>\n",
       "      <td>6</td>\n",
       "    </tr>\n",
       "    <tr>\n",
       "      <th>4</th>\n",
       "      <td>7.4</td>\n",
       "      <td>0.70</td>\n",
       "      <td>0.00</td>\n",
       "      <td>1.9</td>\n",
       "      <td>0.076</td>\n",
       "      <td>11.0</td>\n",
       "      <td>34.0</td>\n",
       "      <td>0.9978</td>\n",
       "      <td>3.51</td>\n",
       "      <td>0.56</td>\n",
       "      <td>9.4</td>\n",
       "      <td>5</td>\n",
       "    </tr>\n",
       "  </tbody>\n",
       "</table>\n",
       "</div>"
      ],
      "text/plain": [
       "   fixed acidity  volatile acidity  citric acid  residual sugar  chlorides  \\\n",
       "0            7.4              0.70         0.00             1.9      0.076   \n",
       "1            7.8              0.88         0.00             2.6      0.098   \n",
       "2            7.8              0.76         0.04             2.3      0.092   \n",
       "3           11.2              0.28         0.56             1.9      0.075   \n",
       "4            7.4              0.70         0.00             1.9      0.076   \n",
       "\n",
       "   free sulfur dioxide  total sulfur dioxide  density    pH  sulphates  \\\n",
       "0                 11.0                  34.0   0.9978  3.51       0.56   \n",
       "1                 25.0                  67.0   0.9968  3.20       0.68   \n",
       "2                 15.0                  54.0   0.9970  3.26       0.65   \n",
       "3                 17.0                  60.0   0.9980  3.16       0.58   \n",
       "4                 11.0                  34.0   0.9978  3.51       0.56   \n",
       "\n",
       "   alcohol  quality  \n",
       "0      9.4        5  \n",
       "1      9.8        5  \n",
       "2      9.8        5  \n",
       "3      9.8        6  \n",
       "4      9.4        5  "
      ]
     },
     "metadata": {},
     "output_type": "display_data"
    },
    {
     "name": "stdout",
     "output_type": "stream",
     "text": [
      "<class 'pandas.core.frame.DataFrame'>\n",
      "RangeIndex: 1599 entries, 0 to 1598\n",
      "Data columns (total 12 columns):\n",
      " #   Column                Non-Null Count  Dtype  \n",
      "---  ------                --------------  -----  \n",
      " 0   fixed acidity         1599 non-null   float64\n",
      " 1   volatile acidity      1599 non-null   float64\n",
      " 2   citric acid           1599 non-null   float64\n",
      " 3   residual sugar        1599 non-null   float64\n",
      " 4   chlorides             1599 non-null   float64\n",
      " 5   free sulfur dioxide   1599 non-null   float64\n",
      " 6   total sulfur dioxide  1599 non-null   float64\n",
      " 7   density               1599 non-null   float64\n",
      " 8   pH                    1599 non-null   float64\n",
      " 9   sulphates             1599 non-null   float64\n",
      " 10  alcohol               1599 non-null   float64\n",
      " 11  quality               1599 non-null   int64  \n",
      "dtypes: float64(11), int64(1)\n",
      "memory usage: 150.0 KB\n"
     ]
    }
   ],
   "source": [
    "import pandas as pd\n",
    "\n",
    "red_wine = pd.read_csv(\"/kaggle/input/red-wine-quality-cortez-et-al-2009/winequality-red.csv\")\n",
    "display(red_wine.head(5))\n",
    "red_wine.info()"
   ]
  },
  {
   "cell_type": "markdown",
   "id": "dd4c547e",
   "metadata": {
    "papermill": {
     "duration": 0.00941,
     "end_time": "2023-01-13T14:00:03.243227",
     "exception": false,
     "start_time": "2023-01-13T14:00:03.233817",
     "status": "completed"
    },
    "tags": []
   },
   "source": [
    "Quality로 분류 예측하는 것이 목표.\n",
    "퀄리티의 기준은 7로 분류."
   ]
  },
  {
   "cell_type": "code",
   "execution_count": 11,
   "id": "4197e58c",
   "metadata": {
    "execution": {
     "iopub.execute_input": "2023-01-13T14:00:03.261411Z",
     "iopub.status.busy": "2023-01-13T14:00:03.260062Z",
     "iopub.status.idle": "2023-01-13T14:00:03.272130Z",
     "shell.execute_reply": "2023-01-13T14:00:03.270832Z"
    },
    "papermill": {
     "duration": 0.02392,
     "end_time": "2023-01-13T14:00:03.274904",
     "exception": false,
     "start_time": "2023-01-13T14:00:03.250984",
     "status": "completed"
    },
    "tags": []
   },
   "outputs": [
    {
     "name": "stdout",
     "output_type": "stream",
     "text": [
      "0    1382\n",
      "1     217\n",
      "Name: target, dtype: int64\n"
     ]
    }
   ],
   "source": [
    "def binary_quality(x):\n",
    "    target = None\n",
    "    if x >= 7:\n",
    "        target = 1\n",
    "    else:\n",
    "        target = 0\n",
    "    return target\n",
    "\n",
    "red_wine['target'] = red_wine['quality'].apply(lambda x : binary_quality(x))\n",
    "print(red_wine['target'].value_counts())"
   ]
  },
  {
   "cell_type": "markdown",
   "id": "f32a0e51",
   "metadata": {
    "papermill": {
     "duration": 0.007592,
     "end_time": "2023-01-13T14:00:03.290705",
     "exception": false,
     "start_time": "2023-01-13T14:00:03.283113",
     "status": "completed"
    },
    "tags": []
   },
   "source": [
    "7 이상인 와인이 217, 미만인 와인이 1382인 모습"
   ]
  },
  {
   "cell_type": "code",
   "execution_count": 12,
   "id": "c221a82b",
   "metadata": {
    "execution": {
     "iopub.execute_input": "2023-01-13T14:00:03.311521Z",
     "iopub.status.busy": "2023-01-13T14:00:03.310581Z",
     "iopub.status.idle": "2023-01-13T14:00:03.333591Z",
     "shell.execute_reply": "2023-01-13T14:00:03.332913Z"
    },
    "papermill": {
     "duration": 0.035846,
     "end_time": "2023-01-13T14:00:03.335498",
     "exception": false,
     "start_time": "2023-01-13T14:00:03.299652",
     "status": "completed"
    },
    "tags": []
   },
   "outputs": [
    {
     "data": {
      "text/html": [
       "<div>\n",
       "<style scoped>\n",
       "    .dataframe tbody tr th:only-of-type {\n",
       "        vertical-align: middle;\n",
       "    }\n",
       "\n",
       "    .dataframe tbody tr th {\n",
       "        vertical-align: top;\n",
       "    }\n",
       "\n",
       "    .dataframe thead th {\n",
       "        text-align: right;\n",
       "    }\n",
       "</style>\n",
       "<table border=\"1\" class=\"dataframe\">\n",
       "  <thead>\n",
       "    <tr style=\"text-align: right;\">\n",
       "      <th></th>\n",
       "      <th>fixed acidity</th>\n",
       "      <th>volatile acidity</th>\n",
       "      <th>citric acid</th>\n",
       "      <th>residual sugar</th>\n",
       "      <th>chlorides</th>\n",
       "      <th>free sulfur dioxide</th>\n",
       "      <th>total sulfur dioxide</th>\n",
       "      <th>density</th>\n",
       "      <th>pH</th>\n",
       "      <th>sulphates</th>\n",
       "      <th>alcohol</th>\n",
       "    </tr>\n",
       "  </thead>\n",
       "  <tbody>\n",
       "    <tr>\n",
       "      <th>0</th>\n",
       "      <td>7.4</td>\n",
       "      <td>0.70</td>\n",
       "      <td>0.00</td>\n",
       "      <td>1.9</td>\n",
       "      <td>0.076</td>\n",
       "      <td>11.0</td>\n",
       "      <td>34.0</td>\n",
       "      <td>0.9978</td>\n",
       "      <td>3.51</td>\n",
       "      <td>0.56</td>\n",
       "      <td>9.4</td>\n",
       "    </tr>\n",
       "    <tr>\n",
       "      <th>1</th>\n",
       "      <td>7.8</td>\n",
       "      <td>0.88</td>\n",
       "      <td>0.00</td>\n",
       "      <td>2.6</td>\n",
       "      <td>0.098</td>\n",
       "      <td>25.0</td>\n",
       "      <td>67.0</td>\n",
       "      <td>0.9968</td>\n",
       "      <td>3.20</td>\n",
       "      <td>0.68</td>\n",
       "      <td>9.8</td>\n",
       "    </tr>\n",
       "    <tr>\n",
       "      <th>2</th>\n",
       "      <td>7.8</td>\n",
       "      <td>0.76</td>\n",
       "      <td>0.04</td>\n",
       "      <td>2.3</td>\n",
       "      <td>0.092</td>\n",
       "      <td>15.0</td>\n",
       "      <td>54.0</td>\n",
       "      <td>0.9970</td>\n",
       "      <td>3.26</td>\n",
       "      <td>0.65</td>\n",
       "      <td>9.8</td>\n",
       "    </tr>\n",
       "    <tr>\n",
       "      <th>3</th>\n",
       "      <td>11.2</td>\n",
       "      <td>0.28</td>\n",
       "      <td>0.56</td>\n",
       "      <td>1.9</td>\n",
       "      <td>0.075</td>\n",
       "      <td>17.0</td>\n",
       "      <td>60.0</td>\n",
       "      <td>0.9980</td>\n",
       "      <td>3.16</td>\n",
       "      <td>0.58</td>\n",
       "      <td>9.8</td>\n",
       "    </tr>\n",
       "    <tr>\n",
       "      <th>4</th>\n",
       "      <td>7.4</td>\n",
       "      <td>0.70</td>\n",
       "      <td>0.00</td>\n",
       "      <td>1.9</td>\n",
       "      <td>0.076</td>\n",
       "      <td>11.0</td>\n",
       "      <td>34.0</td>\n",
       "      <td>0.9978</td>\n",
       "      <td>3.51</td>\n",
       "      <td>0.56</td>\n",
       "      <td>9.4</td>\n",
       "    </tr>\n",
       "  </tbody>\n",
       "</table>\n",
       "</div>"
      ],
      "text/plain": [
       "   fixed acidity  volatile acidity  citric acid  residual sugar  chlorides  \\\n",
       "0            7.4              0.70         0.00             1.9      0.076   \n",
       "1            7.8              0.88         0.00             2.6      0.098   \n",
       "2            7.8              0.76         0.04             2.3      0.092   \n",
       "3           11.2              0.28         0.56             1.9      0.075   \n",
       "4            7.4              0.70         0.00             1.9      0.076   \n",
       "\n",
       "   free sulfur dioxide  total sulfur dioxide  density    pH  sulphates  \\\n",
       "0                 11.0                  34.0   0.9978  3.51       0.56   \n",
       "1                 25.0                  67.0   0.9968  3.20       0.68   \n",
       "2                 15.0                  54.0   0.9970  3.26       0.65   \n",
       "3                 17.0                  60.0   0.9980  3.16       0.58   \n",
       "4                 11.0                  34.0   0.9978  3.51       0.56   \n",
       "\n",
       "   alcohol  \n",
       "0      9.4  \n",
       "1      9.8  \n",
       "2      9.8  \n",
       "3      9.8  \n",
       "4      9.4  "
      ]
     },
     "metadata": {},
     "output_type": "display_data"
    },
    {
     "data": {
      "text/plain": [
       "0    0\n",
       "1    0\n",
       "2    0\n",
       "3    0\n",
       "4    0\n",
       "Name: target, dtype: int64"
      ]
     },
     "metadata": {},
     "output_type": "display_data"
    }
   ],
   "source": [
    "wine_y = red_wine['target']\n",
    "#필요없는 데이터 값들 제거, y의 label의 형태 파악\n",
    "wine_x = red_wine.drop(['target', 'quality'], axis = 1)\n",
    "display(wine_x.head())\n",
    "display(wine_y.head())"
   ]
  },
  {
   "cell_type": "code",
   "execution_count": 13,
   "id": "8e539ed8",
   "metadata": {
    "execution": {
     "iopub.execute_input": "2023-01-13T14:00:03.353423Z",
     "iopub.status.busy": "2023-01-13T14:00:03.352781Z",
     "iopub.status.idle": "2023-01-13T14:00:03.362968Z",
     "shell.execute_reply": "2023-01-13T14:00:03.362062Z"
    },
    "papermill": {
     "duration": 0.021839,
     "end_time": "2023-01-13T14:00:03.365350",
     "exception": false,
     "start_time": "2023-01-13T14:00:03.343511",
     "status": "completed"
    },
    "tags": []
   },
   "outputs": [],
   "source": [
    "from sklearn.model_selection import train_test_split\n",
    "\n",
    "#test set을 20%, trainnig set을 80%로 설정\n",
    "x_train, x_test, y_train, y_test = train_test_split(wine_x, wine_y,\n",
    "                                                    test_size = 0.2,\n",
    "                                                    stratify=wine_y,\n",
    "                                                    random_state = 12)"
   ]
  },
  {
   "cell_type": "code",
   "execution_count": 14,
   "id": "21f32a18",
   "metadata": {
    "execution": {
     "iopub.execute_input": "2023-01-13T14:00:03.383870Z",
     "iopub.status.busy": "2023-01-13T14:00:03.382677Z",
     "iopub.status.idle": "2023-01-13T14:00:03.393654Z",
     "shell.execute_reply": "2023-01-13T14:00:03.392855Z"
    },
    "papermill": {
     "duration": 0.022468,
     "end_time": "2023-01-13T14:00:03.395846",
     "exception": false,
     "start_time": "2023-01-13T14:00:03.373378",
     "status": "completed"
    },
    "tags": []
   },
   "outputs": [
    {
     "name": "stdout",
     "output_type": "stream",
     "text": [
      "[[0.22123894 0.40410959 0.         ... 0.53043478 0.13333333 0.15384615]\n",
      " [0.25663717 0.19863014 0.18987342 ... 0.24347826 0.15151515 0.10769231]\n",
      " [0.2300885  0.15068493 0.26582278 ... 0.44347826 0.12727273 0.26153846]\n",
      " ...\n",
      " [0.20353982 0.49315068 0.26582278 ... 0.5826087  0.23636364 0.12820513]\n",
      " [0.25663717 0.32191781 0.27848101 ... 0.20869565 0.05454545 0.12307692]\n",
      " [0.92035398 0.06164384 0.55696203 ... 0.1826087  0.30909091 0.12307692]]\n"
     ]
    }
   ],
   "source": [
    "#데이터 전처리\n",
    "from sklearn.preprocessing import MinMaxScaler\n",
    "\n",
    "scaler = MinMaxScaler()\n",
    "\n",
    "scaler.fit(x_train)\n",
    "\n",
    "x_train = scaler.transform(x_train)\n",
    "x_test = scaler.transform(x_test)\n",
    "\n",
    "print(x_train)"
   ]
  },
  {
   "cell_type": "code",
   "execution_count": 15,
   "id": "792942dc",
   "metadata": {
    "execution": {
     "iopub.execute_input": "2023-01-13T14:00:03.413777Z",
     "iopub.status.busy": "2023-01-13T14:00:03.413405Z",
     "iopub.status.idle": "2023-01-13T14:00:06.319901Z",
     "shell.execute_reply": "2023-01-13T14:00:06.318213Z"
    },
    "papermill": {
     "duration": 2.918587,
     "end_time": "2023-01-13T14:00:06.322601",
     "exception": false,
     "start_time": "2023-01-13T14:00:03.404014",
     "status": "completed"
    },
    "tags": []
   },
   "outputs": [
    {
     "name": "stdout",
     "output_type": "stream",
     "text": [
      "random forest 평균 정확도:  0.9007\n",
      "XGBoost 평균 정확도:  0.8976\n",
      "LogisticRegression 평균 정확도:  0.8718\n"
     ]
    }
   ],
   "source": [
    "import numpy as np\n",
    "from sklearn.model_selection import cross_val_score\n",
    "from sklearn.ensemble import RandomForestClassifier\n",
    "from sklearn.linear_model import LogisticRegression\n",
    "from xgboost import XGBClassifier\n",
    "\n",
    "rfc = RandomForestClassifier(random_state=12)\n",
    "xgb = XGBClassifier(random_state=12)\n",
    "lrg = LogisticRegression(solver='liblinear', random_state=12)\n",
    "\n",
    "rfc_cv_scores = cross_val_score(rfc, x_train , y_train , cv=5)\n",
    "xgb_cv_scores = cross_val_score(xgb, x_train , y_train , cv=5)\n",
    "lrg_cv_scores = cross_val_score(lrg, x_train , y_train , cv=5)\n",
    "\n",
    "print(\"random forest 평균 정확도: \", round(np.mean(rfc_cv_scores), 4))\n",
    "print(\"XGBoost 평균 정확도: \", round(np.mean(xgb_cv_scores), 4))\n",
    "print(\"LogisticRegression 평균 정확도: \", round(np.mean(lrg_cv_scores), 4))"
   ]
  },
  {
   "cell_type": "code",
   "execution_count": 16,
   "id": "e3c38075",
   "metadata": {
    "execution": {
     "iopub.execute_input": "2023-01-13T14:00:06.341722Z",
     "iopub.status.busy": "2023-01-13T14:00:06.341267Z",
     "iopub.status.idle": "2023-01-13T14:00:06.619766Z",
     "shell.execute_reply": "2023-01-13T14:00:06.618658Z"
    },
    "papermill": {
     "duration": 0.290088,
     "end_time": "2023-01-13T14:00:06.621809",
     "exception": false,
     "start_time": "2023-01-13T14:00:06.331721",
     "status": "completed"
    },
    "tags": []
   },
   "outputs": [
    {
     "name": "stdout",
     "output_type": "stream",
     "text": [
      " test 데이터에서의 RandomForestClassifier 정확도: 0.9094\n",
      " test 데이터에서의 LogisticRegression 정확도: 0.8844\n"
     ]
    }
   ],
   "source": [
    "from sklearn.metrics import accuracy_score\n",
    "\n",
    "rfc.fit(x_train , y_train)\n",
    "lrg.fit(x_train, y_train)\n",
    "pred = rfc.predict(x_test)\n",
    "pred2 = lrg.predict(x_test)\n",
    "accuracy = accuracy_score(y_test, pred)\n",
    "accuracy2 = accuracy_score(y_test, pred2)\n",
    "\n",
    "print(\" test 데이터에서의 RandomForestClassifier 정확도:\", round(accuracy,4))\n",
    "print(\" test 데이터에서의 LogisticRegression 정확도:\", round(accuracy2,4))"
   ]
  },
  {
   "cell_type": "code",
   "execution_count": 17,
   "id": "923cd0e0",
   "metadata": {
    "execution": {
     "iopub.execute_input": "2023-01-13T14:00:06.640528Z",
     "iopub.status.busy": "2023-01-13T14:00:06.638829Z",
     "iopub.status.idle": "2023-01-13T14:00:12.474870Z",
     "shell.execute_reply": "2023-01-13T14:00:12.473850Z"
    },
    "papermill": {
     "duration": 5.848529,
     "end_time": "2023-01-13T14:00:12.478229",
     "exception": false,
     "start_time": "2023-01-13T14:00:06.629700",
     "status": "completed"
    },
    "tags": []
   },
   "outputs": [],
   "source": [
    "import tensorflow as tf\n",
    "import numpy as np\n",
    "import matplotlib.pyplot as plt"
   ]
  },
  {
   "cell_type": "code",
   "execution_count": 18,
   "id": "8e427f98",
   "metadata": {
    "execution": {
     "iopub.execute_input": "2023-01-13T14:00:12.498153Z",
     "iopub.status.busy": "2023-01-13T14:00:12.497412Z",
     "iopub.status.idle": "2023-01-13T14:00:13.690342Z",
     "shell.execute_reply": "2023-01-13T14:00:13.688645Z"
    },
    "papermill": {
     "duration": 1.205646,
     "end_time": "2023-01-13T14:00:13.692567",
     "exception": false,
     "start_time": "2023-01-13T14:00:12.486921",
     "status": "completed"
    },
    "tags": []
   },
   "outputs": [
    {
     "name": "stdout",
     "output_type": "stream",
     "text": [
      "Model: \"sequential\"\n",
      "_________________________________________________________________\n",
      "Layer (type)                 Output Shape              Param #   \n",
      "=================================================================\n",
      "dense (Dense)                (None, 40)                480       \n",
      "_________________________________________________________________\n",
      "dense_1 (Dense)              (None, 20)                820       \n",
      "_________________________________________________________________\n",
      "dense_2 (Dense)              (None, 20)                420       \n",
      "_________________________________________________________________\n",
      "dense_3 (Dense)              (None, 1)                 21        \n",
      "=================================================================\n",
      "Total params: 1,741\n",
      "Trainable params: 1,741\n",
      "Non-trainable params: 0\n",
      "_________________________________________________________________\n"
     ]
    },
    {
     "name": "stderr",
     "output_type": "stream",
     "text": [
      "2023-01-13 14:00:13.604163: I tensorflow/core/common_runtime/process_util.cc:146] Creating new thread pool with default inter op setting: 2. Tune using inter_op_parallelism_threads for best performance.\n"
     ]
    }
   ],
   "source": [
    "model = tf.keras.models.Sequential([\n",
    "    tf.keras.Input(shape=(11,)),\n",
    "    tf.keras.layers.Dense(units= 40, activation = 'relu'),\n",
    "    tf.keras.layers.Dense(units = 20, activation='relu'),\n",
    "    tf.keras.layers.Dense(units = 20, activation='relu'),\n",
    "    tf.keras.layers.Dense(units= 1,  activation='sigmoid'),\n",
    "    #마지막 계층\n",
    "])\n",
    "model.summary()"
   ]
  },
  {
   "cell_type": "code",
   "execution_count": 19,
   "id": "3fc71d19",
   "metadata": {
    "execution": {
     "iopub.execute_input": "2023-01-13T14:00:13.709937Z",
     "iopub.status.busy": "2023-01-13T14:00:13.709555Z",
     "iopub.status.idle": "2023-01-13T14:00:15.541172Z",
     "shell.execute_reply": "2023-01-13T14:00:15.539564Z"
    },
    "papermill": {
     "duration": 1.843298,
     "end_time": "2023-01-13T14:00:15.543829",
     "exception": false,
     "start_time": "2023-01-13T14:00:13.700531",
     "status": "completed"
    },
    "tags": []
   },
   "outputs": [
    {
     "name": "stderr",
     "output_type": "stream",
     "text": [
      "2023-01-13 14:00:13.806433: I tensorflow/compiler/mlir/mlir_graph_optimization_pass.cc:185] None of the MLIR Optimization Passes are enabled (registered 2)\n"
     ]
    },
    {
     "name": "stdout",
     "output_type": "stream",
     "text": [
      "Epoch 1/50\n",
      "3/3 [==============================] - 1s 6ms/step - loss: 0.6414 - accuracy: 0.7443\n",
      "Epoch 2/50\n",
      "3/3 [==============================] - 0s 4ms/step - loss: 0.4871 - accuracy: 0.8640\n",
      "Epoch 3/50\n",
      "3/3 [==============================] - 0s 5ms/step - loss: 0.3998 - accuracy: 0.8640\n",
      "Epoch 4/50\n",
      "3/3 [==============================] - 0s 6ms/step - loss: 0.4258 - accuracy: 0.8640\n",
      "Epoch 5/50\n",
      "3/3 [==============================] - 0s 4ms/step - loss: 0.4010 - accuracy: 0.8640\n",
      "Epoch 6/50\n",
      "3/3 [==============================] - 0s 5ms/step - loss: 0.3789 - accuracy: 0.8640\n",
      "Epoch 7/50\n",
      "3/3 [==============================] - 0s 4ms/step - loss: 0.3772 - accuracy: 0.8640\n",
      "Epoch 8/50\n",
      "3/3 [==============================] - 0s 5ms/step - loss: 0.3631 - accuracy: 0.8640\n",
      "Epoch 9/50\n",
      "3/3 [==============================] - 0s 5ms/step - loss: 0.3520 - accuracy: 0.8640\n",
      "Epoch 10/50\n",
      "3/3 [==============================] - 0s 5ms/step - loss: 0.3440 - accuracy: 0.8640\n",
      "Epoch 11/50\n",
      "3/3 [==============================] - 0s 4ms/step - loss: 0.3277 - accuracy: 0.8640\n",
      "Epoch 12/50\n",
      "3/3 [==============================] - 0s 4ms/step - loss: 0.3153 - accuracy: 0.8640\n",
      "Epoch 13/50\n",
      "3/3 [==============================] - 0s 4ms/step - loss: 0.3032 - accuracy: 0.8640\n",
      "Epoch 14/50\n",
      "3/3 [==============================] - 0s 4ms/step - loss: 0.2955 - accuracy: 0.8640\n",
      "Epoch 15/50\n",
      "3/3 [==============================] - 0s 5ms/step - loss: 0.2926 - accuracy: 0.8640\n",
      "Epoch 16/50\n",
      "3/3 [==============================] - 0s 4ms/step - loss: 0.2882 - accuracy: 0.8640\n",
      "Epoch 17/50\n",
      "3/3 [==============================] - 0s 4ms/step - loss: 0.2887 - accuracy: 0.8632\n",
      "Epoch 18/50\n",
      "3/3 [==============================] - 0s 4ms/step - loss: 0.2868 - accuracy: 0.8616\n",
      "Epoch 19/50\n",
      "3/3 [==============================] - 0s 4ms/step - loss: 0.2853 - accuracy: 0.8694\n",
      "Epoch 20/50\n",
      "3/3 [==============================] - 0s 4ms/step - loss: 0.2848 - accuracy: 0.8710\n",
      "Epoch 21/50\n",
      "3/3 [==============================] - 0s 4ms/step - loss: 0.2803 - accuracy: 0.8726\n",
      "Epoch 22/50\n",
      "3/3 [==============================] - 0s 5ms/step - loss: 0.2829 - accuracy: 0.8733\n",
      "Epoch 23/50\n",
      "3/3 [==============================] - 0s 5ms/step - loss: 0.2802 - accuracy: 0.8780\n",
      "Epoch 24/50\n",
      "3/3 [==============================] - 0s 4ms/step - loss: 0.2778 - accuracy: 0.8679\n",
      "Epoch 25/50\n",
      "3/3 [==============================] - 0s 5ms/step - loss: 0.2767 - accuracy: 0.8804\n",
      "Epoch 26/50\n",
      "3/3 [==============================] - 0s 5ms/step - loss: 0.2765 - accuracy: 0.8718\n",
      "Epoch 27/50\n",
      "3/3 [==============================] - 0s 4ms/step - loss: 0.2748 - accuracy: 0.8733\n",
      "Epoch 28/50\n",
      "3/3 [==============================] - 0s 4ms/step - loss: 0.2719 - accuracy: 0.8749\n",
      "Epoch 29/50\n",
      "3/3 [==============================] - 0s 5ms/step - loss: 0.2732 - accuracy: 0.8718\n",
      "Epoch 30/50\n",
      "3/3 [==============================] - 0s 5ms/step - loss: 0.2724 - accuracy: 0.8726\n",
      "Epoch 31/50\n",
      "3/3 [==============================] - 0s 5ms/step - loss: 0.2707 - accuracy: 0.8718\n",
      "Epoch 32/50\n",
      "3/3 [==============================] - 0s 5ms/step - loss: 0.2691 - accuracy: 0.8804\n",
      "Epoch 33/50\n",
      "3/3 [==============================] - 0s 4ms/step - loss: 0.2687 - accuracy: 0.8726\n",
      "Epoch 34/50\n",
      "3/3 [==============================] - 0s 5ms/step - loss: 0.2677 - accuracy: 0.8780\n",
      "Epoch 35/50\n",
      "3/3 [==============================] - 0s 5ms/step - loss: 0.2655 - accuracy: 0.8772\n",
      "Epoch 36/50\n",
      "3/3 [==============================] - 0s 4ms/step - loss: 0.2657 - accuracy: 0.8733\n",
      "Epoch 37/50\n",
      "3/3 [==============================] - 0s 3ms/step - loss: 0.2642 - accuracy: 0.8812\n",
      "Epoch 38/50\n",
      "3/3 [==============================] - 0s 4ms/step - loss: 0.2638 - accuracy: 0.8804\n",
      "Epoch 39/50\n",
      "3/3 [==============================] - 0s 5ms/step - loss: 0.2623 - accuracy: 0.8733\n",
      "Epoch 40/50\n",
      "3/3 [==============================] - 0s 5ms/step - loss: 0.2626 - accuracy: 0.8827\n",
      "Epoch 41/50\n",
      "3/3 [==============================] - 0s 5ms/step - loss: 0.2602 - accuracy: 0.8827\n",
      "Epoch 42/50\n",
      "3/3 [==============================] - 0s 4ms/step - loss: 0.2603 - accuracy: 0.8765\n",
      "Epoch 43/50\n",
      "3/3 [==============================] - 0s 5ms/step - loss: 0.2588 - accuracy: 0.8835\n",
      "Epoch 44/50\n",
      "3/3 [==============================] - 0s 4ms/step - loss: 0.2577 - accuracy: 0.8858\n",
      "Epoch 45/50\n",
      "3/3 [==============================] - 0s 4ms/step - loss: 0.2564 - accuracy: 0.8851\n",
      "Epoch 46/50\n",
      "3/3 [==============================] - 0s 4ms/step - loss: 0.2569 - accuracy: 0.8741\n",
      "Epoch 47/50\n",
      "3/3 [==============================] - 0s 4ms/step - loss: 0.2537 - accuracy: 0.8851\n",
      "Epoch 48/50\n",
      "3/3 [==============================] - 0s 4ms/step - loss: 0.2554 - accuracy: 0.8827\n",
      "Epoch 49/50\n",
      "3/3 [==============================] - 0s 4ms/step - loss: 0.2533 - accuracy: 0.8812\n",
      "Epoch 50/50\n",
      "3/3 [==============================] - 0s 4ms/step - loss: 0.2554 - accuracy: 0.8866\n",
      "10/10 - 0s - loss: 0.2737 - accuracy: 0.9000\n"
     ]
    },
    {
     "data": {
      "text/plain": [
       "[0.2737252712249756, 0.8999999761581421]"
      ]
     },
     "execution_count": 19,
     "metadata": {},
     "output_type": "execute_result"
    }
   ],
   "source": [
    "#loss_fn = tf.keras.losses.binary_crossentropy()\n",
    "optimizer = tf.keras.optimizers.Adam(learning_rate = 0.01)\n",
    "model.compile(optimizer = optimizer, loss='binary_crossentropy', metrics = ['accuracy'])\n",
    "history = model.fit(x_train, y_train, epochs = 50, batch_size = 512)\n",
    "model.evaluate(x_test, y_test, verbose=2)"
   ]
  },
  {
   "cell_type": "markdown",
   "id": "5fb80c30",
   "metadata": {
    "papermill": {
     "duration": 0.016073,
     "end_time": "2023-01-13T14:00:15.575483",
     "exception": false,
     "start_time": "2023-01-13T14:00:15.559410",
     "status": "completed"
    },
    "tags": []
   },
   "source": []
  },
  {
   "cell_type": "code",
   "execution_count": 20,
   "id": "7e148349",
   "metadata": {
    "execution": {
     "iopub.execute_input": "2023-01-13T14:00:15.609060Z",
     "iopub.status.busy": "2023-01-13T14:00:15.608602Z",
     "iopub.status.idle": "2023-01-13T14:00:15.780430Z",
     "shell.execute_reply": "2023-01-13T14:00:15.778999Z"
    },
    "papermill": {
     "duration": 0.191831,
     "end_time": "2023-01-13T14:00:15.783161",
     "exception": false,
     "start_time": "2023-01-13T14:00:15.591330",
     "status": "completed"
    },
    "tags": []
   },
   "outputs": [
    {
     "data": {
      "text/plain": [
       "<matplotlib.legend.Legend at 0x7fc509e4ea50>"
      ]
     },
     "execution_count": 20,
     "metadata": {},
     "output_type": "execute_result"
    },
    {
     "data": {
      "image/png": "[encoded data removed]",
      "text/plain": [
       "<Figure size 864x288 with 1 Axes>"
      ]
     },
     "metadata": {
      "needs_background": "light"
     },
     "output_type": "display_data"
    }
   ],
   "source": [
    "plt.figure(figsize=(12, 4))\n",
    "\n",
    "plt.subplot(1, 2, 1)\n",
    "plt.plot(history.history['loss'], 'b-', label='loss')\n",
    "#plt.plot(history.history['val_loss'], 'r--', label='val_loss')\n",
    "plt.xlabel('Epoch')\n",
    "plt.legend()"
   ]
  },
  {
   "cell_type": "code",
   "execution_count": 21,
   "id": "37e6a605",
   "metadata": {
    "execution": {
     "iopub.execute_input": "2023-01-13T14:00:15.816103Z",
     "iopub.status.busy": "2023-01-13T14:00:15.815674Z",
     "iopub.status.idle": "2023-01-13T14:00:16.001716Z",
     "shell.execute_reply": "2023-01-13T14:00:16.000724Z"
    },
    "papermill": {
     "duration": 0.205364,
     "end_time": "2023-01-13T14:00:16.004296",
     "exception": false,
     "start_time": "2023-01-13T14:00:15.798932",
     "status": "completed"
    },
    "tags": []
   },
   "outputs": [
    {
     "data": {
      "image/png": "[encoded data removed]",
      "text/plain": [
       "<Figure size 1440x864 with 1 Axes>"
      ]
     },
     "metadata": {
      "needs_background": "light"
     },
     "output_type": "display_data"
    }
   ],
   "source": [
    "plt.subplot(1, 2, 2)\n",
    "plt.plot(history.history['accuracy'], 'g-', label='accuracy')\n",
    "#plt.plot(history.history['val_accuracy'], 'k--', label='val_accuracy')\n",
    "plt.xlabel('Epoch')\n",
    "plt.ylim(0.7, 1)\n",
    "plt.legend()\n",
    "\n",
    "plt.show()"
   ]
  }
 ],
 "metadata": {
  "kernelspec": {
   "display_name": "Python 3",
   "language": "python",
   "name": "python3"
  },
  "language_info": {
   "codemirror_mode": {
    "name": "ipython",
    "version": 3
   },
   "file_extension": ".py",
   "mimetype": "text/x-python",
   "name": "python",
   "nbconvert_exporter": "python",
   "pygments_lexer": "ipython3",
   "version": "3.7.12"
  },
  "papermill": {
   "default_parameters": {},
   "duration": 26.024355,
   "end_time": "2023-01-13T14:00:18.903726",
   "environment_variables": {},
   "exception": null,
   "input_path": "__notebook__.ipynb",
   "output_path": "__notebook__.ipynb",
   "parameters": {},
   "start_time": "2023-01-13T13:59:52.879371",
   "version": "2.3.4"
  }
 },
 "nbformat": 4,
 "nbformat_minor": 5
}
