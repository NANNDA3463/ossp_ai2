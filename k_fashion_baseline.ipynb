{
  "nbformat": 4,
  "nbformat_minor": 0,
  "metadata": {
    "colab": {
      "provenance": [],
      "include_colab_link": true
    },
    "kernelspec": {
      "name": "python3",
      "display_name": "Python 3"
    },
    "language_info": {
      "name": "python"
    },
    "accelerator": "GPU",
    "gpuClass": "standard",
    "widgets": {
      "application/vnd.jupyter.widget-state+json": {
        "5d2a7f071c5d476c9cb33d9ce1699fda": {
          "model_module": "@jupyter-widgets/controls",
          "model_name": "HBoxModel",
          "model_module_version": "1.5.0",
          "state": {
            "_dom_classes": [],
            "_model_module": "@jupyter-widgets/controls",
            "_model_module_version": "1.5.0",
            "_model_name": "HBoxModel",
            "_view_count": null,
            "_view_module": "@jupyter-widgets/controls",
            "_view_module_version": "1.5.0",
            "_view_name": "HBoxView",
            "box_style": "",
            "children": [
              "IPY_MODEL_4bbfe176f7484e3a9a18418a84e65fe6",
              "IPY_MODEL_e38b7a0dd246419d9a87efb1cf5dbbab",
              "IPY_MODEL_c94b700ab9a543728cacb007ff8d84a5"
            ],
            "layout": "IPY_MODEL_3178fb4f3a8f4a98ba23066bba7f7abf"
          }
        },
        "4bbfe176f7484e3a9a18418a84e65fe6": {
          "model_module": "@jupyter-widgets/controls",
          "model_name": "HTMLModel",
          "model_module_version": "1.5.0",
          "state": {
            "_dom_classes": [],
            "_model_module": "@jupyter-widgets/controls",
            "_model_module_version": "1.5.0",
            "_model_name": "HTMLModel",
            "_view_count": null,
            "_view_module": "@jupyter-widgets/controls",
            "_view_module_version": "1.5.0",
            "_view_name": "HTMLView",
            "description": "",
            "description_tooltip": null,
            "layout": "IPY_MODEL_6301347b3e0f4c31a0ba51cd9d181ed3",
            "placeholder": "​",
            "style": "IPY_MODEL_3f868ab148a4445d99b9688adea86f6c",
            "value": "100%"
          }
        },
        "e38b7a0dd246419d9a87efb1cf5dbbab": {
          "model_module": "@jupyter-widgets/controls",
          "model_name": "FloatProgressModel",
          "model_module_version": "1.5.0",
          "state": {
            "_dom_classes": [],
            "_model_module": "@jupyter-widgets/controls",
            "_model_module_version": "1.5.0",
            "_model_name": "FloatProgressModel",
            "_view_count": null,
            "_view_module": "@jupyter-widgets/controls",
            "_view_module_version": "1.5.0",
            "_view_name": "ProgressView",
            "bar_style": "success",
            "description": "",
            "description_tooltip": null,
            "layout": "IPY_MODEL_7d8461437ca34c16b4f5173dfbef461a",
            "max": 46830571,
            "min": 0,
            "orientation": "horizontal",
            "style": "IPY_MODEL_957258a8799a4ec6a6ba833afda5e69a",
            "value": 46830571
          }
        },
        "c94b700ab9a543728cacb007ff8d84a5": {
          "model_module": "@jupyter-widgets/controls",
          "model_name": "HTMLModel",
          "model_module_version": "1.5.0",
          "state": {
            "_dom_classes": [],
            "_model_module": "@jupyter-widgets/controls",
            "_model_module_version": "1.5.0",
            "_model_name": "HTMLModel",
            "_view_count": null,
            "_view_module": "@jupyter-widgets/controls",
            "_view_module_version": "1.5.0",
            "_view_name": "HTMLView",
            "description": "",
            "description_tooltip": null,
            "layout": "IPY_MODEL_885db45be02449d883df29c56577a075",
            "placeholder": "​",
            "style": "IPY_MODEL_b0beff9dea944b6f8b52e33b8b3f7e2b",
            "value": " 44.7M/44.7M [00:00&lt;00:00, 176MB/s]"
          }
        },
        "3178fb4f3a8f4a98ba23066bba7f7abf": {
          "model_module": "@jupyter-widgets/base",
          "model_name": "LayoutModel",
          "model_module_version": "1.2.0",
          "state": {
            "_model_module": "@jupyter-widgets/base",
            "_model_module_version": "1.2.0",
            "_model_name": "LayoutModel",
            "_view_count": null,
            "_view_module": "@jupyter-widgets/base",
            "_view_module_version": "1.2.0",
            "_view_name": "LayoutView",
            "align_content": null,
            "align_items": null,
            "align_self": null,
            "border": null,
            "bottom": null,
            "display": null,
            "flex": null,
            "flex_flow": null,
            "grid_area": null,
            "grid_auto_columns": null,
            "grid_auto_flow": null,
            "grid_auto_rows": null,
            "grid_column": null,
            "grid_gap": null,
            "grid_row": null,
            "grid_template_areas": null,
            "grid_template_columns": null,
            "grid_template_rows": null,
            "height": null,
            "justify_content": null,
            "justify_items": null,
            "left": null,
            "margin": null,
            "max_height": null,
            "max_width": null,
            "min_height": null,
            "min_width": null,
            "object_fit": null,
            "object_position": null,
            "order": null,
            "overflow": null,
            "overflow_x": null,
            "overflow_y": null,
            "padding": null,
            "right": null,
            "top": null,
            "visibility": null,
            "width": null
          }
        },
        "6301347b3e0f4c31a0ba51cd9d181ed3": {
          "model_module": "@jupyter-widgets/base",
          "model_name": "LayoutModel",
          "model_module_version": "1.2.0",
          "state": {
            "_model_module": "@jupyter-widgets/base",
            "_model_module_version": "1.2.0",
            "_model_name": "LayoutModel",
            "_view_count": null,
            "_view_module": "@jupyter-widgets/base",
            "_view_module_version": "1.2.0",
            "_view_name": "LayoutView",
            "align_content": null,
            "align_items": null,
            "align_self": null,
            "border": null,
            "bottom": null,
            "display": null,
            "flex": null,
            "flex_flow": null,
            "grid_area": null,
            "grid_auto_columns": null,
            "grid_auto_flow": null,
            "grid_auto_rows": null,
            "grid_column": null,
            "grid_gap": null,
            "grid_row": null,
            "grid_template_areas": null,
            "grid_template_columns": null,
            "grid_template_rows": null,
            "height": null,
            "justify_content": null,
            "justify_items": null,
            "left": null,
            "margin": null,
            "max_height": null,
            "max_width": null,
            "min_height": null,
            "min_width": null,
            "object_fit": null,
            "object_position": null,
            "order": null,
            "overflow": null,
            "overflow_x": null,
            "overflow_y": null,
            "padding": null,
            "right": null,
            "top": null,
            "visibility": null,
            "width": null
          }
        },
        "3f868ab148a4445d99b9688adea86f6c": {
          "model_module": "@jupyter-widgets/controls",
          "model_name": "DescriptionStyleModel",
          "model_module_version": "1.5.0",
          "state": {
            "_model_module": "@jupyter-widgets/controls",
            "_model_module_version": "1.5.0",
            "_model_name": "DescriptionStyleModel",
            "_view_count": null,
            "_view_module": "@jupyter-widgets/base",
            "_view_module_version": "1.2.0",
            "_view_name": "StyleView",
            "description_width": ""
          }
        },
        "7d8461437ca34c16b4f5173dfbef461a": {
          "model_module": "@jupyter-widgets/base",
          "model_name": "LayoutModel",
          "model_module_version": "1.2.0",
          "state": {
            "_model_module": "@jupyter-widgets/base",
            "_model_module_version": "1.2.0",
            "_model_name": "LayoutModel",
            "_view_count": null,
            "_view_module": "@jupyter-widgets/base",
            "_view_module_version": "1.2.0",
            "_view_name": "LayoutView",
            "align_content": null,
            "align_items": null,
            "align_self": null,
            "border": null,
            "bottom": null,
            "display": null,
            "flex": null,
            "flex_flow": null,
            "grid_area": null,
            "grid_auto_columns": null,
            "grid_auto_flow": null,
            "grid_auto_rows": null,
            "grid_column": null,
            "grid_gap": null,
            "grid_row": null,
            "grid_template_areas": null,
            "grid_template_columns": null,
            "grid_template_rows": null,
            "height": null,
            "justify_content": null,
            "justify_items": null,
            "left": null,
            "margin": null,
            "max_height": null,
            "max_width": null,
            "min_height": null,
            "min_width": null,
            "object_fit": null,
            "object_position": null,
            "order": null,
            "overflow": null,
            "overflow_x": null,
            "overflow_y": null,
            "padding": null,
            "right": null,
            "top": null,
            "visibility": null,
            "width": null
          }
        },
        "957258a8799a4ec6a6ba833afda5e69a": {
          "model_module": "@jupyter-widgets/controls",
          "model_name": "ProgressStyleModel",
          "model_module_version": "1.5.0",
          "state": {
            "_model_module": "@jupyter-widgets/controls",
            "_model_module_version": "1.5.0",
            "_model_name": "ProgressStyleModel",
            "_view_count": null,
            "_view_module": "@jupyter-widgets/base",
            "_view_module_version": "1.2.0",
            "_view_name": "StyleView",
            "bar_color": null,
            "description_width": ""
          }
        },
        "885db45be02449d883df29c56577a075": {
          "model_module": "@jupyter-widgets/base",
          "model_name": "LayoutModel",
          "model_module_version": "1.2.0",
          "state": {
            "_model_module": "@jupyter-widgets/base",
            "_model_module_version": "1.2.0",
            "_model_name": "LayoutModel",
            "_view_count": null,
            "_view_module": "@jupyter-widgets/base",
            "_view_module_version": "1.2.0",
            "_view_name": "LayoutView",
            "align_content": null,
            "align_items": null,
            "align_self": null,
            "border": null,
            "bottom": null,
            "display": null,
            "flex": null,
            "flex_flow": null,
            "grid_area": null,
            "grid_auto_columns": null,
            "grid_auto_flow": null,
            "grid_auto_rows": null,
            "grid_column": null,
            "grid_gap": null,
            "grid_row": null,
            "grid_template_areas": null,
            "grid_template_columns": null,
            "grid_template_rows": null,
            "height": null,
            "justify_content": null,
            "justify_items": null,
            "left": null,
            "margin": null,
            "max_height": null,
            "max_width": null,
            "min_height": null,
            "min_width": null,
            "object_fit": null,
            "object_position": null,
            "order": null,
            "overflow": null,
            "overflow_x": null,
            "overflow_y": null,
            "padding": null,
            "right": null,
            "top": null,
            "visibility": null,
            "width": null
          }
        },
        "b0beff9dea944b6f8b52e33b8b3f7e2b": {
          "model_module": "@jupyter-widgets/controls",
          "model_name": "DescriptionStyleModel",
          "model_module_version": "1.5.0",
          "state": {
            "_model_module": "@jupyter-widgets/controls",
            "_model_module_version": "1.5.0",
            "_model_name": "DescriptionStyleModel",
            "_view_count": null,
            "_view_module": "@jupyter-widgets/base",
            "_view_module_version": "1.2.0",
            "_view_name": "StyleView",
            "description_width": ""
          }
        }
      }
    }
  },
  "cells": [
    {
      "cell_type": "markdown",
      "metadata": {
        "id": "view-in-github",
        "colab_type": "text"
      },
      "source": [
        "<a href=\"https://colab.research.google.com/github/NANNDA3463/ossp_ai2/blob/main/k_fashion_baseline.ipynb\" target=\"_parent\"><img src=\"https://colab.research.google.com/assets/colab-badge.svg\" alt=\"Open In Colab\"/></a>"
      ]
    },
    {
      "cell_type": "code",
      "execution_count": null,
      "metadata": {
        "id": "IRK-znDERBG1",
        "colab": {
          "base_uri": "https://localhost:8080/"
        },
        "outputId": "60ae74f6-54e5-457e-dd82-5151996c93e1"
      },
      "outputs": [
        {
          "output_type": "stream",
          "name": "stdout",
          "text": [
            "--2022-11-29 09:42:31--  https://kr.object.ncloudstorage.com/aihub-competition/dataset/K-Fashion_Train.zip\n",
            "Resolving kr.object.ncloudstorage.com (kr.object.ncloudstorage.com)... 220.230.123.72\n",
            "Connecting to kr.object.ncloudstorage.com (kr.object.ncloudstorage.com)|220.230.123.72|:443... connected.\n",
            "HTTP request sent, awaiting response... 200 OK\n",
            "Length: 432747336 (413M) [application/zip]\n",
            "Saving to: ‘K-Fashion_Train.zip’\n",
            "\n",
            "K-Fashion_Train.zip 100%[===================>] 412.70M  16.6MB/s    in 26s     \n",
            "\n",
            "2022-11-29 09:42:59 (15.6 MB/s) - ‘K-Fashion_Train.zip’ saved [432747336/432747336]\n",
            "\n"
          ]
        }
      ],
      "source": [
        "!wget https://kr.object.ncloudstorage.com/aihub-competition/dataset/K-Fashion_Train.zip\n",
        "!unzip -qq K-Fashion_Train.zip "
      ]
    },
    {
      "cell_type": "code",
      "source": [
        "from __future__ import print_function, division\n",
        "\n",
        "import torch\n",
        "import torch.utils as utils\n",
        "import torch.nn as nn\n",
        "import torch.optim as optim\n",
        "from tqdm import tqdm\n",
        "from PIL import Image\n",
        "\n",
        "from torch.optim import lr_scheduler\n",
        "import torch.backends.cudnn as cudnn\n",
        "import numpy as np\n",
        "import pandas as pd\n",
        "import torchvision\n",
        "from tqdm import tqdm\n",
        "from torchvision import datasets, models, transforms\n",
        "import matplotlib.pyplot as plt\n",
        "import time\n",
        "import os\n",
        "import copy"
      ],
      "metadata": {
        "id": "cR7e3LJTUC5t"
      },
      "execution_count": null,
      "outputs": []
    },
    {
      "cell_type": "code",
      "source": [
        "data_dir = '/content/Train/'\n",
        "data_transform = transforms.Compose([\n",
        "        transforms.RandomResizedCrop(224),\n",
        "        transforms.RandomHorizontalFlip(),\n",
        "        transforms.ToTensor(),\n",
        "        transforms.Normalize([0.485, 0.456, 0.406], [0.229, 0.224, 0.225])\n",
        "    ])\n",
        "\n",
        "image_dataset =  datasets.ImageFolder(data_dir, data_transform)\n",
        "\n",
        "train_split = 0.9\n",
        "split_size = int(len(image_dataset) * train_split)\n",
        "batch_size = 64\n",
        "num_workers=16\n",
        "\n",
        "train_set, valid_set = torch.utils.data.random_split(image_dataset, [split_size, len(image_dataset) - split_size])\n",
        "tr_loader = utils.data.DataLoader(dataset=train_set,\n",
        "                            batch_size=batch_size,\n",
        "                            shuffle=True,\n",
        "                            num_workers=num_workers)\n",
        "val_loader = utils.data.DataLoader(dataset=valid_set,\n",
        "                              batch_size=batch_size,\n",
        "                              shuffle=False,\n",
        "                              num_workers=num_workers)\n",
        "dataloaders = {'train': tr_loader, 'val':val_loader}\n",
        "dataset_sizes = {}\n",
        "dataset_sizes['train'] = split_size\n",
        "dataset_sizes['val'] = len(image_dataset) -split_size \n",
        "class_names = image_dataset.classes\n",
        "\n",
        "device = torch.device(\"cuda:0\" if torch.cuda.is_available() else \"cpu\")"
      ],
      "metadata": {
        "colab": {
          "base_uri": "https://localhost:8080/"
        },
        "id": "0lOQUBnhy003",
        "outputId": "d572cfdb-7dc2-4628-8aaa-7a4a790ff55f"
      },
      "execution_count": null,
      "outputs": [
        {
          "output_type": "stream",
          "name": "stderr",
          "text": [
            "/usr/local/lib/python3.7/dist-packages/torch/utils/data/dataloader.py:566: UserWarning: This DataLoader will create 16 worker processes in total. Our suggested max number of worker in current system is 2, which is smaller than what this DataLoader is going to create. Please be aware that excessive worker creation might get DataLoader running slow or even freeze, lower the worker number to avoid potential slowness/freeze if necessary.\n",
            "  cpuset_checked))\n"
          ]
        }
      ]
    },
    {
      "cell_type": "code",
      "source": [
        "def train_model(model, criterion, optimizer, scheduler, num_epochs=2):\n",
        "    since = time.time()\n",
        "\n",
        "    best_model_wts = copy.deepcopy(model.state_dict())\n",
        "    best_acc = 0.0\n",
        "\n",
        "    for epoch in range(num_epochs):\n",
        "        print(f'Epoch {epoch}/{num_epochs - 1}')\n",
        "        print('-' * 10)\n",
        "\n",
        "        for phase in ['train', 'val']:\n",
        "            if phase == 'train':\n",
        "                model.train()  \n",
        "            else:\n",
        "                model.eval()   \n",
        "\n",
        "            running_loss = 0.0\n",
        "            running_corrects = 0\n",
        "\n",
        "            for inputs, labels in dataloaders[phase]:\n",
        "                inputs = inputs.to(device)\n",
        "                labels = labels.to(device)\n",
        "\n",
        "                optimizer.zero_grad()\n",
        "\n",
        "                with torch.set_grad_enabled(phase == 'train'):\n",
        "                    outputs = model(inputs)\n",
        "                    _, preds = torch.max(outputs, 1)\n",
        "                    loss = criterion(outputs, labels)\n",
        "\n",
        "                    if phase == 'train':\n",
        "                        loss.backward()\n",
        "                        optimizer.step()\n",
        "\n",
        "                running_loss += loss.item() * inputs.size(0)\n",
        "                running_corrects += torch.sum(preds == labels.data)\n",
        "            if phase == 'train':\n",
        "                scheduler.step()\n",
        "\n",
        "            epoch_loss = running_loss / dataset_sizes[phase]\n",
        "            epoch_acc = running_corrects.double() / dataset_sizes[phase]\n",
        "\n",
        "            print(f'{phase} Loss: {epoch_loss:.4f} Acc: {epoch_acc:.4f}')\n",
        "\n",
        "            if phase == 'val' and epoch_acc > best_acc:\n",
        "                best_acc = epoch_acc\n",
        "                best_model_wts = copy.deepcopy(model.state_dict())\n",
        "\n",
        "        print()\n",
        "\n",
        "    time_elapsed = time.time() - since\n",
        "    print(f'Training complete in {time_elapsed // 60:.0f}m {time_elapsed % 60:.0f}s')\n",
        "    print(f'Best val Acc: {best_acc:4f}')\n",
        "\n",
        "    model.load_state_dict(best_model_wts)\n",
        "    return model"
      ],
      "metadata": {
        "id": "J2UmM2MczlgU"
      },
      "execution_count": null,
      "outputs": []
    },
    {
      "cell_type": "code",
      "source": [
        "model_ft = models.resnet18(pretrained=True)\n",
        "num_ftrs = model_ft.fc.in_features\n",
        "\n",
        "model_ft.fc = nn.Linear(num_ftrs, len(image_dataset.classes))\n",
        "model_ft = model_ft.to(device)\n",
        "\n",
        "criterion = nn.CrossEntropyLoss()\n",
        "optimizer_ft = optim.SGD(model_ft.parameters(), lr=0.001, momentum=0.9)\n",
        "exp_lr_scheduler = lr_scheduler.StepLR(optimizer_ft, step_size=7, gamma=0.1)"
      ],
      "metadata": {
        "colab": {
          "base_uri": "https://localhost:8080/",
          "height": 156,
          "referenced_widgets": [
            "5d2a7f071c5d476c9cb33d9ce1699fda",
            "4bbfe176f7484e3a9a18418a84e65fe6",
            "e38b7a0dd246419d9a87efb1cf5dbbab",
            "c94b700ab9a543728cacb007ff8d84a5",
            "3178fb4f3a8f4a98ba23066bba7f7abf",
            "6301347b3e0f4c31a0ba51cd9d181ed3",
            "3f868ab148a4445d99b9688adea86f6c",
            "7d8461437ca34c16b4f5173dfbef461a",
            "957258a8799a4ec6a6ba833afda5e69a",
            "885db45be02449d883df29c56577a075",
            "b0beff9dea944b6f8b52e33b8b3f7e2b"
          ]
        },
        "id": "We8JOycK1NPI",
        "outputId": "6fd3d643-89f0-4ad9-83cf-23f1c0a52c9c"
      },
      "execution_count": null,
      "outputs": [
        {
          "output_type": "stream",
          "name": "stderr",
          "text": [
            "/usr/local/lib/python3.7/dist-packages/torchvision/models/_utils.py:209: UserWarning: The parameter 'pretrained' is deprecated since 0.13 and will be removed in 0.15, please use 'weights' instead.\n",
            "  f\"The parameter '{pretrained_param}' is deprecated since 0.13 and will be removed in 0.15, \"\n",
            "/usr/local/lib/python3.7/dist-packages/torchvision/models/_utils.py:223: UserWarning: Arguments other than a weight enum or `None` for 'weights' are deprecated since 0.13 and will be removed in 0.15. The current behavior is equivalent to passing `weights=ResNet18_Weights.IMAGENET1K_V1`. You can also use `weights=ResNet18_Weights.DEFAULT` to get the most up-to-date weights.\n",
            "  warnings.warn(msg)\n",
            "Downloading: \"https://download.pytorch.org/models/resnet18-f37072fd.pth\" to /root/.cache/torch/hub/checkpoints/resnet18-f37072fd.pth\n"
          ]
        },
        {
          "output_type": "display_data",
          "data": {
            "text/plain": [
              "  0%|          | 0.00/44.7M [00:00<?, ?B/s]"
            ],
            "application/vnd.jupyter.widget-view+json": {
              "version_major": 2,
              "version_minor": 0,
              "model_id": "5d2a7f071c5d476c9cb33d9ce1699fda"
            }
          },
          "metadata": {}
        }
      ]
    },
    {
      "cell_type": "code",
      "source": [
        "model_ft = train_model(model_ft, criterion, optimizer_ft, exp_lr_scheduler, num_epochs=10)"
      ],
      "metadata": {
        "colab": {
          "base_uri": "https://localhost:8080/"
        },
        "id": "SESOfsB41VQH",
        "outputId": "0983176b-4a25-4892-a9e1-67fc1b5f7876"
      },
      "execution_count": null,
      "outputs": [
        {
          "output_type": "stream",
          "name": "stdout",
          "text": [
            "Epoch 0/9\n",
            "----------\n",
            "train Loss: 3.1007 Acc: 0.0884\n",
            "val Loss: 2.9564 Acc: 0.1304\n",
            "\n",
            "Epoch 1/9\n",
            "----------\n",
            "train Loss: 2.8201 Acc: 0.1702\n",
            "val Loss: 2.7536 Acc: 0.2000\n",
            "\n",
            "Epoch 2/9\n",
            "----------\n",
            "train Loss: 2.6310 Acc: 0.2225\n",
            "val Loss: 2.6586 Acc: 0.2275\n",
            "\n",
            "Epoch 3/9\n",
            "----------\n",
            "train Loss: 2.5099 Acc: 0.2512\n",
            "val Loss: 2.6235 Acc: 0.2275\n",
            "\n",
            "Epoch 4/9\n",
            "----------\n",
            "train Loss: 2.4349 Acc: 0.2634\n",
            "val Loss: 2.5189 Acc: 0.2609\n",
            "\n",
            "Epoch 5/9\n",
            "----------\n",
            "train Loss: 2.3509 Acc: 0.3060\n",
            "val Loss: 2.4981 Acc: 0.2435\n",
            "\n",
            "Epoch 6/9\n",
            "----------\n",
            "train Loss: 2.3137 Acc: 0.3016\n",
            "val Loss: 2.4544 Acc: 0.2536\n",
            "\n",
            "Epoch 7/9\n",
            "----------\n",
            "train Loss: 2.2127 Acc: 0.3314\n",
            "val Loss: 2.4736 Acc: 0.2725\n",
            "\n",
            "Epoch 8/9\n",
            "----------\n",
            "train Loss: 2.2244 Acc: 0.3316\n",
            "val Loss: 2.4539 Acc: 0.2812\n",
            "\n",
            "Epoch 9/9\n",
            "----------\n",
            "train Loss: 2.2038 Acc: 0.3393\n",
            "val Loss: 2.4894 Acc: 0.2464\n",
            "\n",
            "Training complete in 14m 38s\n",
            "Best val Acc: 0.281159\n"
          ]
        }
      ]
    },
    {
      "cell_type": "code",
      "source": [
        "!wget https://kr.object.ncloudstorage.com/aihub-competition/dataset/K-Fashion_Test.zip\n",
        "!unzip -qq K-Fashion_Test.zip "
      ],
      "metadata": {
        "id": "nrVnq85sZHrD",
        "colab": {
          "base_uri": "https://localhost:8080/"
        },
        "outputId": "37b1893d-8167-407d-f994-dc7305db502e"
      },
      "execution_count": null,
      "outputs": [
        {
          "output_type": "stream",
          "name": "stdout",
          "text": [
            "--2022-11-29 09:57:50--  https://kr.object.ncloudstorage.com/aihub-competition/dataset/K-Fashion_Test.zip\n",
            "Resolving kr.object.ncloudstorage.com (kr.object.ncloudstorage.com)... 220.230.123.70\n",
            "Connecting to kr.object.ncloudstorage.com (kr.object.ncloudstorage.com)|220.230.123.70|:443... connected.\n",
            "HTTP request sent, awaiting response... 200 OK\n",
            "Length: 7374788914 (6.9G) [application/zip]\n",
            "Saving to: ‘K-Fashion_Test.zip’\n",
            "\n",
            "K-Fashion_Test.zip  100%[===================>]   6.87G  17.6MB/s    in 6m 43s  \n",
            "\n",
            "2022-11-29 10:04:35 (17.5 MB/s) - ‘K-Fashion_Test.zip’ saved [7374788914/7374788914]\n",
            "\n"
          ]
        }
      ]
    },
    {
      "cell_type": "code",
      "source": [
        "class TestDataset(utils.data.Dataset):\n",
        "  def __init__(self, root, transform=None):\n",
        "    self.root = root\n",
        "    self.image_list = os.listdir(root)\n",
        "    self.transform = transform\n",
        "  \n",
        "  def __len__(self):\n",
        "    return len(self.image_list)\n",
        "\n",
        "  def __getitem__(self, index):\n",
        "    image_path = os.path.join(self.root, self.image_list[index])\n",
        "    image = np.array(Image.open(image_path))\n",
        "    image = self.transform(image)\n",
        "    return self.image_list[index], image"
      ],
      "metadata": {
        "id": "LqawKO1jCyUp"
      },
      "execution_count": null,
      "outputs": []
    },
    {
      "cell_type": "code",
      "source": [
        "test_transform = transforms.Compose([\n",
        "      transforms.ToPILImage(),\n",
        "      transforms.Resize((224,224)),\n",
        "      transforms.ToTensor(),\n",
        "      transforms.Normalize([0.485, 0.456, 0.406], [0.229, 0.224, 0.225])\n",
        "        ])"
      ],
      "metadata": {
        "id": "fT-AjSc3Cu_s"
      },
      "execution_count": null,
      "outputs": []
    },
    {
      "cell_type": "code",
      "source": [
        "test_dataset = TestDataset('Test',transform=test_transform)\n",
        "test_dataloader = utils.data.DataLoader(test_dataset, batch_size=256, num_workers=16)"
      ],
      "metadata": {
        "id": "ErKG6npDOYC8"
      },
      "execution_count": null,
      "outputs": []
    },
    {
      "cell_type": "code",
      "source": [
        "result = []\n",
        "for fnames, data in tqdm(test_dataloader):\n",
        "  data = data.to(device)\n",
        "  output = model_ft(data)\n",
        "  _,pred = torch.max(output,1)\n",
        "  for j in range(len(fnames)):\n",
        "    result.append(\n",
        "        {\n",
        "          'filename':fnames[j],\n",
        "          'style':pred.cpu().detach().numpy()[j]\n",
        "        }\n",
        "    )"
      ],
      "metadata": {
        "colab": {
          "base_uri": "https://localhost:8080/"
        },
        "id": "-nu8j7uzOofJ",
        "outputId": "a3d10abb-0152-4c34-b304-d4053591f445"
      },
      "execution_count": null,
      "outputs": [
        {
          "output_type": "stream",
          "name": "stderr",
          "text": [
            "100%|██████████| 471/471 [31:09<00:00,  3.97s/it]\n"
          ]
        }
      ]
    },
    {
      "cell_type": "code",
      "source": [
        "pd.DataFrame(sorted(result,key=lambda x:x['filename'])).to_csv('fashion_submission.csv',index=None)"
      ],
      "metadata": {
        "id": "SioPhkyIPEoH"
      },
      "execution_count": null,
      "outputs": []
    }
  ]
}